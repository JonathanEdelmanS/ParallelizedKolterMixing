{
 "cells": [
  {
   "cell_type": "code",
   "execution_count": 1,
   "id": "5578af7c",
   "metadata": {},
   "outputs": [],
   "source": [
    "begin\n",
    "    #Load in Packages\n",
    "\tusing BenchmarkTools, Statistics, LinearAlgebra, Random, JuMP, SCS, SparseArrays, Plots, CUDA\n",
    "\n",
    "\tBenchmarkTools.DEFAULT_PARAMETERS.seconds = 15.0\n",
    "end;"
   ]
  },
  {
   "cell_type": "code",
   "execution_count": 3,
   "id": "874a4ac2",
   "metadata": {},
   "outputs": [
    {
     "data": {
      "text/plain": [
       "200×200 Matrix{Float64}:\n",
       " 0.0  0.0  1.0  1.0  0.0  1.0  1.0  0.0  …  1.0  0.0  1.0  0.0  1.0  1.0  0.0\n",
       " 0.0  0.0  0.0  0.0  1.0  0.0  0.0  1.0     0.0  0.0  0.0  0.0  0.0  0.0  0.0\n",
       " 1.0  0.0  0.0  1.0  1.0  0.0  1.0  0.0     1.0  1.0  0.0  0.0  1.0  1.0  1.0\n",
       " 1.0  0.0  1.0  0.0  1.0  0.0  1.0  0.0     1.0  0.0  1.0  0.0  0.0  1.0  1.0\n",
       " 0.0  1.0  1.0  1.0  0.0  0.0  1.0  1.0     0.0  1.0  0.0  1.0  0.0  1.0  0.0\n",
       " 1.0  0.0  0.0  0.0  0.0  0.0  0.0  1.0  …  1.0  1.0  1.0  1.0  1.0  1.0  1.0\n",
       " 1.0  0.0  1.0  1.0  1.0  0.0  0.0  0.0     1.0  1.0  0.0  0.0  1.0  1.0  0.0\n",
       " 0.0  1.0  0.0  0.0  1.0  1.0  0.0  0.0     0.0  1.0  1.0  0.0  0.0  0.0  0.0\n",
       " 1.0  1.0  0.0  0.0  0.0  0.0  0.0  0.0     1.0  1.0  1.0  1.0  0.0  1.0  0.0\n",
       " 1.0  0.0  1.0  1.0  0.0  0.0  0.0  0.0     0.0  0.0  1.0  0.0  0.0  1.0  1.0\n",
       " 1.0  0.0  1.0  0.0  1.0  1.0  0.0  0.0  …  1.0  1.0  1.0  0.0  1.0  0.0  1.0\n",
       " 1.0  0.0  1.0  0.0  1.0  0.0  1.0  0.0     1.0  1.0  0.0  1.0  0.0  0.0  0.0\n",
       " 1.0  1.0  1.0  0.0  0.0  1.0  1.0  0.0     0.0  1.0  1.0  0.0  0.0  0.0  0.0\n",
       " ⋮                        ⋮              ⋱            ⋮                   \n",
       " 1.0  1.0  0.0  0.0  1.0  0.0  1.0  0.0     0.0  0.0  1.0  0.0  1.0  1.0  0.0\n",
       " 0.0  1.0  0.0  0.0  0.0  1.0  0.0  1.0     0.0  0.0  1.0  1.0  1.0  0.0  1.0\n",
       " 1.0  1.0  0.0  0.0  0.0  1.0  0.0  1.0  …  1.0  0.0  0.0  1.0  0.0  0.0  1.0\n",
       " 0.0  0.0  1.0  0.0  0.0  0.0  0.0  0.0     0.0  1.0  0.0  0.0  1.0  1.0  1.0\n",
       " 1.0  1.0  1.0  1.0  1.0  1.0  0.0  0.0     1.0  0.0  0.0  1.0  1.0  0.0  0.0\n",
       " 1.0  0.0  1.0  1.0  0.0  1.0  1.0  0.0     0.0  0.0  1.0  1.0  0.0  0.0  0.0\n",
       " 0.0  0.0  1.0  0.0  1.0  1.0  1.0  1.0     0.0  0.0  1.0  0.0  0.0  1.0  1.0\n",
       " 1.0  0.0  0.0  1.0  0.0  1.0  0.0  1.0  …  1.0  1.0  0.0  1.0  0.0  0.0  0.0\n",
       " 0.0  0.0  0.0  0.0  1.0  1.0  0.0  0.0     1.0  0.0  1.0  0.0  0.0  1.0  1.0\n",
       " 1.0  0.0  1.0  0.0  0.0  1.0  1.0  0.0     0.0  0.0  0.0  0.0  0.0  1.0  0.0\n",
       " 1.0  0.0  1.0  1.0  1.0  1.0  1.0  0.0     0.0  1.0  0.0  1.0  1.0  0.0  0.0\n",
       " 0.0  0.0  1.0  1.0  0.0  1.0  0.0  0.0     0.0  1.0  0.0  1.0  0.0  0.0  0.0"
      ]
     },
     "execution_count": 3,
     "metadata": {},
     "output_type": "execute_result"
    }
   ],
   "source": [
    "begin\n",
    "    n=200\n",
    "    k=9\n",
    "    c = Symmetric(round.(rand(n,n))) \n",
    "    C= (c  - I + abs.(c-I))/2 \n",
    "end"
   ]
  },
  {
   "cell_type": "code",
   "execution_count": 20,
   "id": "3cf51037",
   "metadata": {},
   "outputs": [
    {
     "data": {
      "text/plain": [
       "Cn (generic function with 1 method)"
      ]
     },
     "execution_count": 20,
     "metadata": {},
     "output_type": "execute_result"
    }
   ],
   "source": [
    "function Cn(n)\n",
    "\tc = Symmetric(round.(rand(n,n))) \n",
    "    return (c  - I + abs.(c-I))/2 \n",
    "end"
   ]
  },
  {
   "cell_type": "code",
   "execution_count": 55,
   "id": "28ab581f",
   "metadata": {},
   "outputs": [
    {
     "data": {
      "text/plain": [
       "20×20 Matrix{Float64}:\n",
       " 0.0  0.0  0.0  1.0  0.0  0.0  0.0  1.0  …  0.0  0.0  0.0  1.0  0.0  0.0  0.0\n",
       " 0.0  0.0  1.0  1.0  1.0  1.0  0.0  0.0     0.0  0.0  1.0  1.0  0.0  0.0  0.0\n",
       " 0.0  1.0  0.0  1.0  0.0  0.0  1.0  0.0     1.0  1.0  0.0  1.0  0.0  0.0  0.0\n",
       " 1.0  1.0  1.0  0.0  0.0  0.0  0.0  1.0     1.0  0.0  0.0  1.0  0.0  0.0  1.0\n",
       " 0.0  1.0  0.0  0.0  0.0  0.0  0.0  0.0     1.0  1.0  0.0  1.0  1.0  1.0  1.0\n",
       " 0.0  1.0  0.0  0.0  0.0  0.0  0.0  0.0  …  1.0  0.0  1.0  0.0  1.0  1.0  0.0\n",
       " 0.0  0.0  1.0  0.0  0.0  0.0  0.0  0.0     0.0  1.0  0.0  0.0  0.0  0.0  1.0\n",
       " 1.0  0.0  0.0  1.0  0.0  0.0  0.0  0.0     1.0  0.0  1.0  1.0  0.0  0.0  0.0\n",
       " 0.0  0.0  0.0  1.0  1.0  1.0  0.0  1.0     1.0  0.0  0.0  1.0  1.0  0.0  1.0\n",
       " 1.0  1.0  0.0  1.0  1.0  1.0  0.0  1.0     1.0  0.0  1.0  0.0  0.0  0.0  0.0\n",
       " 0.0  1.0  0.0  1.0  1.0  1.0  0.0  1.0  …  0.0  0.0  0.0  0.0  0.0  0.0  1.0\n",
       " 1.0  0.0  1.0  1.0  0.0  1.0  0.0  1.0     1.0  1.0  0.0  0.0  0.0  0.0  0.0\n",
       " 0.0  0.0  1.0  1.0  1.0  0.0  0.0  1.0     1.0  0.0  1.0  1.0  1.0  0.0  0.0\n",
       " 0.0  0.0  1.0  1.0  1.0  1.0  0.0  1.0     0.0  1.0  0.0  0.0  0.0  1.0  1.0\n",
       " 0.0  0.0  1.0  0.0  1.0  0.0  1.0  0.0     1.0  0.0  1.0  0.0  0.0  0.0  1.0\n",
       " 0.0  1.0  0.0  0.0  0.0  1.0  0.0  1.0  …  0.0  1.0  0.0  0.0  1.0  1.0  1.0\n",
       " 1.0  1.0  1.0  1.0  1.0  0.0  0.0  1.0     0.0  0.0  0.0  0.0  0.0  1.0  1.0\n",
       " 0.0  0.0  0.0  0.0  1.0  1.0  0.0  0.0     0.0  0.0  1.0  0.0  0.0  0.0  0.0\n",
       " 0.0  0.0  0.0  0.0  1.0  1.0  0.0  0.0     1.0  0.0  1.0  1.0  0.0  0.0  0.0\n",
       " 0.0  0.0  0.0  1.0  1.0  0.0  1.0  0.0     1.0  1.0  1.0  1.0  0.0  0.0  0.0"
      ]
     },
     "execution_count": 55,
     "metadata": {},
     "output_type": "execute_result"
    }
   ],
   "source": [
    "Cn(20)"
   ]
  },
  {
   "cell_type": "code",
   "execution_count": 8,
   "id": "a16e02df",
   "metadata": {},
   "outputs": [
    {
     "ename": "LoadError",
     "evalue": "CUDA driver not found",
     "output_type": "error",
     "traceback": [
      "CUDA driver not found",
      "",
      "Stacktrace:",
      "  [1] error(s::String)",
      "    @ Base ./error.jl:35",
      "  [2] functional",
      "    @ ~/.julia/packages/CUDA/p5OVK/src/initialization.jl:24 [inlined]",
      "  [3] task_local_state!()",
      "    @ CUDA ~/.julia/packages/CUDA/p5OVK/lib/cudadrv/state.jl:77",
      "  [4] active_state",
      "    @ ~/.julia/packages/CUDA/p5OVK/lib/cudadrv/state.jl:112 [inlined]",
      "  [5] #_alloc#164",
      "    @ ~/.julia/packages/CUDA/p5OVK/src/pool.jl:405 [inlined]",
      "  [6] #alloc#163",
      "    @ ~/.julia/packages/CUDA/p5OVK/src/pool.jl:394 [inlined]",
      "  [7] alloc",
      "    @ ~/.julia/packages/CUDA/p5OVK/src/pool.jl:388 [inlined]",
      "  [8] CuArray{Float64, 2, CUDA.Mem.DeviceBuffer}(#unused#::UndefInitializer, dims::Tuple{Int64, Int64})",
      "    @ CUDA ~/.julia/packages/CUDA/p5OVK/src/array.jl:93",
      "  [9] CuArray",
      "    @ ~/.julia/packages/CUDA/p5OVK/src/array.jl:342 [inlined]",
      " [10] CuArray",
      "    @ ~/.julia/packages/CUDA/p5OVK/src/array.jl:347 [inlined]",
      " [11] CuArray(A::Matrix{Float64})",
      "    @ CUDA ~/.julia/packages/CUDA/p5OVK/src/array.jl:356",
      " [12] top-level scope",
      "    @ In[8]:1"
     ]
    }
   ],
   "source": [
    "C_gpu = CuArray(C)"
   ]
  },
  {
   "cell_type": "code",
   "execution_count": 9,
   "id": "1ff6ca4f",
   "metadata": {},
   "outputs": [
    {
     "data": {
      "text/plain": [
       "mix (generic function with 1 method)"
      ]
     },
     "execution_count": 9,
     "metadata": {},
     "output_type": "execute_result"
    }
   ],
   "source": [
    "begin\n",
    "\tfunction randserial(n,k,C,ϵ=1e-7)\n",
    "\t    Costs = []\n",
    "\t    V=rand(k,n)\n",
    "\t    counter=0\n",
    "\t    Vs = []\n",
    "\t    for i in 1:n\n",
    "\t        V[:,i] = mix(i,V,C)\n",
    "\t    end\n",
    "\t    for j=1:n*k*2*4\n",
    "\t            i=rand(1:n)\n",
    "\t            V[:,i] = mix(i,V,C)\n",
    "\t  #      push!(Costs,tr(V* C* V'))\n",
    "\t  #      push!(Vs, V'*V)\n",
    "\t    end\n",
    "\t  tr(V*C*V')\n",
    "\t  #  Vs\n",
    "\t  #  Costs\n",
    "\t  #  print(Costs[end])\n",
    "\t  #  plot(Costs)\n",
    "\tend\n",
    "\tfunction randparallel(n,k,C,ϵ=1e-7)\n",
    "\t    Costs = []\n",
    "\t    V=rand(k,n)\n",
    "\t    counter=0\n",
    "\t    Vs = []\n",
    "\t\n",
    "\t    for i in 1:n\n",
    "\t        V[:,i] = mix(i,V,C)\n",
    "\t    end\n",
    "\t    \n",
    "\t    Threads.@threads for j=1: Int(n*k*2)*4\n",
    "\t     #   Threads.@threads for l=1:4\n",
    "\t            i=rand(1:n)\n",
    "\t            V[:,i] = mix(i,V,C)\n",
    "\t     #   end\n",
    "\t#        push!(Costs,tr(V* C* V'))\n",
    "\t#        push!(Vs, V'*V)\n",
    "\t    end\n",
    "\t#    Vs\n",
    "\t#    Costs\n",
    "\t#    print(Costs[end])\n",
    "\ttr(V*C*V')\n",
    "\tend\n",
    "\tfunction randGPU(n,k,C,ϵ=1e-7)\n",
    "\t\tCosts = []\n",
    "\t    V=CuArray(rand(k,n))\n",
    "\t    counter=0\n",
    "\t  #  Vs = []\n",
    "\t    for i in 1:n\n",
    "\t        V[:,i] = mix(i,V,C)\n",
    "\t    end\n",
    "\t    for j=1:n*k*2*4\n",
    "\t            i=rand(1:n)\n",
    "\t            V[:,i] = mix(i,V,C)\n",
    "\t    end\n",
    "\t\tprint(tr(V*C*V'))\n",
    "\tend\n",
    "\tfunction mix(i,V,C)\n",
    "\t\t\tans=-(V*C[i,:])\n",
    "\t\t\tans/=norm(ans)\n",
    "\t\t\treturn ans\n",
    "\tend\n",
    "end"
   ]
  },
  {
   "cell_type": "code",
   "execution_count": 10,
   "id": "fe36d2c1",
   "metadata": {},
   "outputs": [
    {
     "data": {
      "text/plain": [
       "14400-element Vector{Int64}:\n",
       " 149\n",
       "  13\n",
       " 191\n",
       "  28\n",
       "   2\n",
       " 187\n",
       " 130\n",
       " 136\n",
       " 104\n",
       "  18\n",
       " 119\n",
       " 160\n",
       "  99\n",
       "   ⋮\n",
       " 134\n",
       "  31\n",
       "  79\n",
       " 150\n",
       "  10\n",
       "  30\n",
       "  22\n",
       " 144\n",
       "  85\n",
       " 137\n",
       " 180\n",
       "  89"
      ]
     },
     "execution_count": 10,
     "metadata": {},
     "output_type": "execute_result"
    }
   ],
   "source": [
    "preRand = rand(1:n,n*k*2*4)"
   ]
  },
  {
   "cell_type": "code",
   "execution_count": 15,
   "id": "15d327cd",
   "metadata": {},
   "outputs": [
    {
     "name": "stdout",
     "output_type": "stream",
     "text": [
      " 11.127190 seconds (1.97 M allocations: 137.302 MiB, 2.48% gc time, 2.91% compilation time)\n",
      "------------------------------------------------------------------\n",
      "\t       SCS v3.2.3 - Splitting Conic Solver\n",
      "\t(c) Brendan O'Donoghue, Stanford University, 2012\n",
      "------------------------------------------------------------------\n",
      "problem:  variables n: 20100, constraints m: 40400\n",
      "cones: \t  z: primal zero / dual free vars: 200\n",
      "\t  s: psd vars: 40200, ssize: 2\n",
      "settings: eps_abs: 1.0e-04, eps_rel: 1.0e-04, eps_infeas: 1.0e-07\n",
      "\t  alpha: 1.50, scale: 1.00e-01, adaptive_scale: 1\n",
      "\t  max_iters: 100000, normalize: 1, rho_x: 1.00e-06\n",
      "\t  acceleration_lookback: 10, acceleration_interval: 10\n",
      "lin-sys:  sparse-direct-amd-qdldl\n",
      "\t  nnz(A): 40400, nnz(P): 0\n",
      "------------------------------------------------------------------\n",
      " iter | pri res | dua res |   gap   |   obj   |  scale  | time (s)\n",
      "------------------------------------------------------------------\n",
      "     0| 4.67e+01  6.89e+00  2.83e+05 -1.41e+05  1.00e-01  1.02e-01 \n",
      "   200| 1.68e-04  2.19e-04  5.61e-05 -2.62e+03  4.01e-01  1.04e+01 \n",
      "------------------------------------------------------------------\n",
      "status:  solved\n",
      "timings: total: 1.04e+01s = setup: 4.23e-02s + solve: 1.04e+01s\n",
      "\t lin-sys: 1.78e-01s, cones: 8.92e+00s, accel: 1.13e-01s\n",
      "------------------------------------------------------------------\n",
      "objective = -2621.744938\n",
      "------------------------------------------------------------------\n"
     ]
    },
    {
     "data": {
      "text/plain": [
       "200×200 Symmetric{Float64, Matrix{Float64}}:\n",
       "  1.0        -0.14102    -0.207391    …  -0.837769     0.0859991  -0.599627\n",
       " -0.14102     1.0        -0.189221        0.635456    -0.0192278   0.773292\n",
       " -0.207391   -0.189221    1.0            -0.00423969  -0.419366   -0.210526\n",
       " -0.488391    0.0709391  -0.260457        0.458365    -0.571085    0.339968\n",
       "  0.263828    0.132808    0.681301       -0.162232    -0.445122   -0.284137\n",
       "  0.170583   -0.538515    0.7996      …  -0.432725    -0.606846   -0.610028\n",
       "  0.652982   -0.0258296  -0.509605       -0.50454      0.720425   -0.287902\n",
       " -0.0355642   0.0287563  -0.237635        0.0210872   -0.312604    0.0157583\n",
       "  0.133603   -0.784737    0.59739        -0.530344    -0.516678   -0.753906\n",
       "  0.547329   -0.530483    0.0781271      -0.693081    -0.560942   -0.679683\n",
       " -0.243197    0.328935   -0.253653    …   0.379257     0.377207    0.487566\n",
       " -0.812641    0.317513   -0.344689        0.818234     0.0805742   0.745323\n",
       " -0.471279   -0.34954     0.779439        0.193234    -0.575343   -0.0841993\n",
       "  ⋮                                   ⋱                           \n",
       " -0.170287   -0.686232    0.67383        -0.213163    -0.551063   -0.417739\n",
       " -0.592532   -0.366681    0.511114        0.309033    -0.277601    0.121256\n",
       " -0.023812    0.716709   -0.229883    …   0.431879     0.479348    0.673829\n",
       "  0.545216   -0.462332   -0.0351874      -0.716767     0.156871   -0.818789\n",
       "  0.199093   -0.129961   -0.718035       -0.253025     0.741896   -0.172221\n",
       " -0.416269    0.187645    0.354607        0.373979    -0.796917    0.179454\n",
       " -0.684213    0.587637   -0.145067        0.857448     0.0345738   0.871767\n",
       "  0.078786    0.0466699  -0.0738574   …  -0.0976598    0.825848   -0.115379\n",
       "  0.647543   -0.0859862   0.456634       -0.533509    -0.426523   -0.44043\n",
       " -0.837769    0.635456   -0.00423969      1.0         -0.0992328   0.907984\n",
       "  0.0859991  -0.0192278  -0.419366       -0.0992328    1.0         0.0398577\n",
       " -0.599627    0.773292   -0.210526        0.907984     0.0398577   1.0"
      ]
     },
     "execution_count": 15,
     "metadata": {},
     "output_type": "execute_result"
    }
   ],
   "source": [
    "begin\n",
    "\tfunction JuMPspeed()\n",
    "\t\tmodel = Model(SCS.Optimizer)\n",
    "\t\t@variable(model, X[1:n,1:n], PSD)\n",
    "\t\tfor i in 1:n\n",
    "\t\t@constraint(model, X[i,i] == 1)\n",
    "\t\tend\n",
    "\t\t@constraint(model, X ≥ 0, PSDCone())\n",
    "\t\t@objective(model, Min, sum(C.*X))\n",
    "\t\toptimize!(model)\n",
    "\t\treturn value(X)\n",
    "\tend\n",
    "\t@time trueSol = JuMPspeed()\n",
    "end"
   ]
  },
  {
   "cell_type": "code",
   "execution_count": 16,
   "id": "c53e943e",
   "metadata": {},
   "outputs": [
    {
     "data": {
      "text/plain": [
       "4"
      ]
     },
     "execution_count": 16,
     "metadata": {},
     "output_type": "execute_result"
    }
   ],
   "source": [
    "Threads.nthreads()"
   ]
  },
  {
   "cell_type": "code",
   "execution_count": 17,
   "id": "e37e872b",
   "metadata": {},
   "outputs": [
    {
     "data": {
      "text/plain": [
       "8-element Vector{Float64}:\n",
       "  0.0005833395409821724\n",
       "  2.718792275107527\n",
       " 13.572457637980659\n",
       " 16.626766094014176\n",
       " 22.26284898619827\n",
       " 38.65637266581724\n",
       " 47.22068290255462\n",
       " 58.92545054793591"
      ]
     },
     "execution_count": 17,
     "metadata": {},
     "output_type": "execute_result"
    }
   ],
   "source": [
    "eigen(trueSol).values[193:200]"
   ]
  },
  {
   "cell_type": "code",
   "execution_count": 18,
   "id": "f400e015",
   "metadata": {},
   "outputs": [
    {
     "data": {
      "text/plain": [
       "-2621.7449664274686"
      ]
     },
     "execution_count": 18,
     "metadata": {},
     "output_type": "execute_result"
    }
   ],
   "source": [
    "sum(trueSol.*C)"
   ]
  },
  {
   "cell_type": "code",
   "execution_count": 19,
   "id": "501af473",
   "metadata": {},
   "outputs": [
    {
     "data": {
      "text/plain": [
       "200"
      ]
     },
     "execution_count": 19,
     "metadata": {},
     "output_type": "execute_result"
    }
   ],
   "source": [
    "rank(trueSol)"
   ]
  },
  {
   "cell_type": "code",
   "execution_count": 49,
   "id": "c1b7cf5e",
   "metadata": {},
   "outputs": [
    {
     "data": {
      "text/plain": [
       "5×5 Matrix{Float64}:\n",
       " 0.0  1.0  1.0  1.0  0.0\n",
       " 1.0  0.0  0.0  1.0  1.0\n",
       " 1.0  0.0  0.0  1.0  1.0\n",
       " 1.0  1.0  1.0  0.0  1.0\n",
       " 0.0  1.0  1.0  1.0  0.0"
      ]
     },
     "execution_count": 49,
     "metadata": {},
     "output_type": "execute_result"
    }
   ],
   "source": [
    "Cn(5)"
   ]
  },
  {
   "cell_type": "code",
   "execution_count": 41,
   "id": "eaca6826",
   "metadata": {},
   "outputs": [
    {
     "name": "stdout",
     "output_type": "stream",
     "text": [
      "  0.102295 seconds (52.02 k allocations: 29.338 MiB)\n",
      "  0.155048 seconds (103.22 k allocations: 60.845 MiB)\n",
      "  0.200684 seconds (154.42 k allocations: 97.042 MiB, 22.98% gc time)\n",
      "  0.263968 seconds (205.62 k allocations: 140.279 MiB)\n",
      "  1.769245 seconds (308.02 k allocations: 233.761 MiB, 0.71% gc time)\n",
      "  2.731416 seconds (410.42 k allocations: 348.350 MiB, 0.46% gc time)\n",
      "  0.054670 seconds (51.42 k allocations: 18.598 MiB)\n",
      "  0.116012 seconds (102.82 k allocations: 47.257 MiB)\n",
      "  0.208492 seconds (154.22 k allocations: 88.341 MiB)\n",
      "  0.273672 seconds (205.62 k allocations: 140.279 MiB, 2.59% gc time)\n",
      "  2.831371 seconds (308.42 k allocations: 267.310 MiB, 5.41% gc time)\n",
      "  2.797974 seconds (411.22 k allocations: 433.840 MiB, 1.27% gc time)\n"
     ]
    },
    {
     "data": {
      "text/plain": [
       "-7438.463841991951"
      ]
     },
     "execution_count": 41,
     "metadata": {},
     "output_type": "execute_result"
    }
   ],
   "source": [
    "begin\n",
    "\t@time randserial(200,8,Cn(200))\n",
    "\t@time randserial(200,16,Cn(200))\n",
    "\t@time randserial(200,24,Cn(200))\n",
    "\t@time randserial(200,32,Cn(200))\n",
    "\t@time randserial(200,48,Cn(200))\n",
    "\t@time randserial(200,64,Cn(200))\n",
    "\t\n",
    "\t@time randserial(50,32,Cn(50))\n",
    "\t@time randserial(100,32,Cn(100))\n",
    "\t@time randserial(150,32,Cn(150))\n",
    "\t@time randserial(200,32,Cn(200))\n",
    "\t@time randserial(300,32,Cn(300))\n",
    "\t@time randserial(400,32,Cn(400))\n",
    "\t\n",
    "end"
   ]
  },
  {
   "cell_type": "code",
   "execution_count": 43,
   "id": "cdba0791",
   "metadata": {},
   "outputs": [
    {
     "name": "stdout",
     "output_type": "stream",
     "text": [
      "  2.539114 seconds (411.22 k allocations: 433.840 MiB, 1.23% gc time)\n"
     ]
    },
    {
     "data": {
      "text/plain": [
       "-7515.359834004703"
      ]
     },
     "execution_count": 43,
     "metadata": {},
     "output_type": "execute_result"
    }
   ],
   "source": [
    "@time randserial(400,32,Cn(400))"
   ]
  },
  {
   "cell_type": "code",
   "execution_count": 22,
   "id": "e4f25bcc",
   "metadata": {},
   "outputs": [
    {
     "data": {
      "text/plain": [
       "9"
      ]
     },
     "execution_count": 22,
     "metadata": {},
     "output_type": "execute_result"
    }
   ],
   "source": [
    "k"
   ]
  },
  {
   "cell_type": "code",
   "execution_count": 50,
   "id": "a75fc0f0",
   "metadata": {},
   "outputs": [
    {
     "name": "stdout",
     "output_type": "stream",
     "text": [
      "  4.840 ms (58429 allocations: 30.55 MiB)\n"
     ]
    },
    {
     "data": {
      "text/plain": [
       "-2621.8575633964724"
      ]
     },
     "execution_count": 50,
     "metadata": {},
     "output_type": "execute_result"
    }
   ],
   "source": [
    "@btime randparallel(n,k,C)"
   ]
  },
  {
   "cell_type": "code",
   "execution_count": 56,
   "id": "c6da2388",
   "metadata": {},
   "outputs": [
    {
     "data": {
      "text/plain": [
       "200"
      ]
     },
     "execution_count": 56,
     "metadata": {},
     "output_type": "execute_result"
    }
   ],
   "source": [
    "n"
   ]
  },
  {
   "cell_type": "code",
   "execution_count": 57,
   "id": "9d4e4686",
   "metadata": {},
   "outputs": [
    {
     "data": {
      "text/plain": [
       "9"
      ]
     },
     "execution_count": 57,
     "metadata": {},
     "output_type": "execute_result"
    }
   ],
   "source": [
    "k"
   ]
  },
  {
   "cell_type": "code",
   "execution_count": 51,
   "id": "44d53578",
   "metadata": {},
   "outputs": [
    {
     "name": "stdout",
     "output_type": "stream",
     "text": [
      "  14.667 ms (58404 allocations: 30.55 MiB)\n"
     ]
    },
    {
     "data": {
      "text/plain": [
       "-2621.92984473637"
      ]
     },
     "execution_count": 51,
     "metadata": {},
     "output_type": "execute_result"
    }
   ],
   "source": [
    "@btime randserial(n,k,C)"
   ]
  },
  {
   "cell_type": "code",
   "execution_count": 25,
   "id": "47ec61d3",
   "metadata": {},
   "outputs": [
    {
     "name": "stdout",
     "output_type": "stream",
     "text": [
      " 12.273170 seconds (1.23 M allocations: 95.227 MiB)\n",
      "------------------------------------------------------------------\n",
      "\t       SCS v3.2.3 - Splitting Conic Solver\n",
      "\t(c) Brendan O'Donoghue, Stanford University, 2012\n",
      "------------------------------------------------------------------\n",
      "problem:  variables n: 20100, constraints m: 40400\n",
      "cones: \t  z: primal zero / dual free vars: 200\n",
      "\t  s: psd vars: 40200, ssize: 2\n",
      "settings: eps_abs: 1.0e-04, eps_rel: 1.0e-04, eps_infeas: 1.0e-07\n",
      "\t  alpha: 1.50, scale: 1.00e-01, adaptive_scale: 1\n",
      "\t  max_iters: 100000, normalize: 1, rho_x: 1.00e-06\n",
      "\t  acceleration_lookback: 10, acceleration_interval: 10\n",
      "lin-sys:  sparse-direct-amd-qdldl\n",
      "\t  nnz(A): 40400, nnz(P): 0\n",
      "------------------------------------------------------------------\n",
      " iter | pri res | dua res |   gap   |   obj   |  scale  | time (s)\n",
      "------------------------------------------------------------------\n",
      "     0| 4.67e+01  6.89e+00  2.83e+05 -1.41e+05  1.00e-01  1.09e-01 \n",
      "   200| 1.68e-04  2.19e-04  5.61e-05 -2.62e+03  4.01e-01  1.21e+01 \n",
      "------------------------------------------------------------------\n",
      "status:  solved\n",
      "timings: total: 1.21e+01s = setup: 4.53e-02s + solve: 1.21e+01s\n",
      "\t lin-sys: 1.72e-01s, cones: 1.06e+01s, accel: 1.15e-01s\n",
      "------------------------------------------------------------------\n",
      "objective = -2621.744938\n",
      "------------------------------------------------------------------\n"
     ]
    },
    {
     "data": {
      "text/plain": [
       "200×200 Symmetric{Float64, Matrix{Float64}}:\n",
       "  1.0        -0.14102    -0.207391    …  -0.837769     0.0859991  -0.599627\n",
       " -0.14102     1.0        -0.189221        0.635456    -0.0192278   0.773292\n",
       " -0.207391   -0.189221    1.0            -0.00423969  -0.419366   -0.210526\n",
       " -0.488391    0.0709391  -0.260457        0.458365    -0.571085    0.339968\n",
       "  0.263828    0.132808    0.681301       -0.162232    -0.445122   -0.284137\n",
       "  0.170583   -0.538515    0.7996      …  -0.432725    -0.606846   -0.610028\n",
       "  0.652982   -0.0258296  -0.509605       -0.50454      0.720425   -0.287902\n",
       " -0.0355642   0.0287563  -0.237635        0.0210872   -0.312604    0.0157583\n",
       "  0.133603   -0.784737    0.59739        -0.530344    -0.516678   -0.753906\n",
       "  0.547329   -0.530483    0.0781271      -0.693081    -0.560942   -0.679683\n",
       " -0.243197    0.328935   -0.253653    …   0.379257     0.377207    0.487566\n",
       " -0.812641    0.317513   -0.344689        0.818234     0.0805742   0.745323\n",
       " -0.471279   -0.34954     0.779439        0.193234    -0.575343   -0.0841993\n",
       "  ⋮                                   ⋱                           \n",
       " -0.170287   -0.686232    0.67383        -0.213163    -0.551063   -0.417739\n",
       " -0.592532   -0.366681    0.511114        0.309033    -0.277601    0.121256\n",
       " -0.023812    0.716709   -0.229883    …   0.431879     0.479348    0.673829\n",
       "  0.545216   -0.462332   -0.0351874      -0.716767     0.156871   -0.818789\n",
       "  0.199093   -0.129961   -0.718035       -0.253025     0.741896   -0.172221\n",
       " -0.416269    0.187645    0.354607        0.373979    -0.796917    0.179454\n",
       " -0.684213    0.587637   -0.145067        0.857448     0.0345738   0.871767\n",
       "  0.078786    0.0466699  -0.0738574   …  -0.0976598    0.825848   -0.115379\n",
       "  0.647543   -0.0859862   0.456634       -0.533509    -0.426523   -0.44043\n",
       " -0.837769    0.635456   -0.00423969      1.0         -0.0992328   0.907984\n",
       "  0.0859991  -0.0192278  -0.419366       -0.0992328    1.0         0.0398577\n",
       " -0.599627    0.773292   -0.210526        0.907984     0.0398577   1.0"
      ]
     },
     "execution_count": 25,
     "metadata": {},
     "output_type": "execute_result"
    }
   ],
   "source": [
    "@time solved = JuMPspeed()"
   ]
  },
  {
   "cell_type": "code",
   "execution_count": 26,
   "id": "c6cd41f8",
   "metadata": {},
   "outputs": [
    {
     "data": {
      "text/plain": [
       "-2621.7449664274686"
      ]
     },
     "execution_count": 26,
     "metadata": {},
     "output_type": "execute_result"
    }
   ],
   "source": [
    "sum(C.*solved)"
   ]
  },
  {
   "cell_type": "code",
   "execution_count": 27,
   "id": "4d7b0eae",
   "metadata": {},
   "outputs": [
    {
     "data": {
      "text/plain": [
       "6-element Vector{Int64}:\n",
       "  50\n",
       " 100\n",
       " 150\n",
       " 200\n",
       " 300\n",
       " 400"
      ]
     },
     "execution_count": 27,
     "metadata": {},
     "output_type": "execute_result"
    }
   ],
   "source": [
    "begin\n",
    "\tkdouble = [.033, .081, .186, .246, .422, .667]\n",
    "\tks=[8,16,24,32,48, 64]\n",
    "\tndouble = [.019, .058, .162, .244, .373, .641]\n",
    "\tns=[50,100,150,200,300,400]\n",
    "end"
   ]
  },
  {
   "cell_type": "code",
   "execution_count": 28,
   "id": "309de3bf",
   "metadata": {},
   "outputs": [
    {
     "data": {
      "image/svg+xml": [
       "<?xml version=\"1.0\" encoding=\"utf-8\"?>\n",
       "<svg xmlns=\"http://www.w3.org/2000/svg\" xmlns:xlink=\"http://www.w3.org/1999/xlink\" width=\"600\" height=\"400\" viewBox=\"0 0 2400 1600\">\n",
       "<defs>\n",
       "  <clipPath id=\"clip090\">\n",
       "    <rect x=\"0\" y=\"0\" width=\"2400\" height=\"1600\"/>\n",
       "  </clipPath>\n",
       "</defs>\n",
       "<path clip-path=\"url(#clip090)\" d=\"M0 1600 L2400 1600 L2400 0 L0 0  Z\" fill=\"#ffffff\" fill-rule=\"evenodd\" fill-opacity=\"1\"/>\n",
       "<defs>\n",
       "  <clipPath id=\"clip091\">\n",
       "    <rect x=\"480\" y=\"0\" width=\"1681\" height=\"1600\"/>\n",
       "  </clipPath>\n",
       "</defs>\n",
       "<path clip-path=\"url(#clip090)\" d=\"M219.866 1423.18 L2352.76 1423.18 L2352.76 47.2441 L219.866 47.2441  Z\" fill=\"#ffffff\" fill-rule=\"evenodd\" fill-opacity=\"1\"/>\n",
       "<defs>\n",
       "  <clipPath id=\"clip092\">\n",
       "    <rect x=\"219\" y=\"47\" width=\"2134\" height=\"1377\"/>\n",
       "  </clipPath>\n",
       "</defs>\n",
       "<polyline clip-path=\"url(#clip092)\" style=\"stroke:#000000; stroke-linecap:round; stroke-linejoin:round; stroke-width:2; stroke-opacity:0.1; fill:none\" points=\"352.094,1423.18 352.094,47.2441 \"/>\n",
       "<polyline clip-path=\"url(#clip092)\" style=\"stroke:#000000; stroke-linecap:round; stroke-linejoin:round; stroke-width:2; stroke-opacity:0.1; fill:none\" points=\"711.408,1423.18 711.408,47.2441 \"/>\n",
       "<polyline clip-path=\"url(#clip092)\" style=\"stroke:#000000; stroke-linecap:round; stroke-linejoin:round; stroke-width:2; stroke-opacity:0.1; fill:none\" points=\"1070.72,1423.18 1070.72,47.2441 \"/>\n",
       "<polyline clip-path=\"url(#clip092)\" style=\"stroke:#000000; stroke-linecap:round; stroke-linejoin:round; stroke-width:2; stroke-opacity:0.1; fill:none\" points=\"1430.04,1423.18 1430.04,47.2441 \"/>\n",
       "<polyline clip-path=\"url(#clip092)\" style=\"stroke:#000000; stroke-linecap:round; stroke-linejoin:round; stroke-width:2; stroke-opacity:0.1; fill:none\" points=\"1789.35,1423.18 1789.35,47.2441 \"/>\n",
       "<polyline clip-path=\"url(#clip092)\" style=\"stroke:#000000; stroke-linecap:round; stroke-linejoin:round; stroke-width:2; stroke-opacity:0.1; fill:none\" points=\"2148.67,1423.18 2148.67,47.2441 \"/>\n",
       "<polyline clip-path=\"url(#clip090)\" style=\"stroke:#000000; stroke-linecap:round; stroke-linejoin:round; stroke-width:4; stroke-opacity:1; fill:none\" points=\"219.866,1423.18 2352.76,1423.18 \"/>\n",
       "<polyline clip-path=\"url(#clip090)\" style=\"stroke:#000000; stroke-linecap:round; stroke-linejoin:round; stroke-width:4; stroke-opacity:1; fill:none\" points=\"352.094,1423.18 352.094,1404.28 \"/>\n",
       "<polyline clip-path=\"url(#clip090)\" style=\"stroke:#000000; stroke-linecap:round; stroke-linejoin:round; stroke-width:4; stroke-opacity:1; fill:none\" points=\"711.408,1423.18 711.408,1404.28 \"/>\n",
       "<polyline clip-path=\"url(#clip090)\" style=\"stroke:#000000; stroke-linecap:round; stroke-linejoin:round; stroke-width:4; stroke-opacity:1; fill:none\" points=\"1070.72,1423.18 1070.72,1404.28 \"/>\n",
       "<polyline clip-path=\"url(#clip090)\" style=\"stroke:#000000; stroke-linecap:round; stroke-linejoin:round; stroke-width:4; stroke-opacity:1; fill:none\" points=\"1430.04,1423.18 1430.04,1404.28 \"/>\n",
       "<polyline clip-path=\"url(#clip090)\" style=\"stroke:#000000; stroke-linecap:round; stroke-linejoin:round; stroke-width:4; stroke-opacity:1; fill:none\" points=\"1789.35,1423.18 1789.35,1404.28 \"/>\n",
       "<polyline clip-path=\"url(#clip090)\" style=\"stroke:#000000; stroke-linecap:round; stroke-linejoin:round; stroke-width:4; stroke-opacity:1; fill:none\" points=\"2148.67,1423.18 2148.67,1404.28 \"/>\n",
       "<path clip-path=\"url(#clip090)\" d=\"M326.782 1481.64 L334.42 1481.64 L334.42 1455.28 L326.11 1456.95 L326.11 1452.69 L334.374 1451.02 L339.05 1451.02 L339.05 1481.64 L346.689 1481.64 L346.689 1485.58 L326.782 1485.58 L326.782 1481.64 Z\" fill=\"#000000\" fill-rule=\"nonzero\" fill-opacity=\"1\" /><path clip-path=\"url(#clip090)\" d=\"M366.133 1454.1 Q362.522 1454.1 360.693 1457.66 Q358.888 1461.2 358.888 1468.33 Q358.888 1475.44 360.693 1479.01 Q362.522 1482.55 366.133 1482.55 Q369.767 1482.55 371.573 1479.01 Q373.402 1475.44 373.402 1468.33 Q373.402 1461.2 371.573 1457.66 Q369.767 1454.1 366.133 1454.1 M366.133 1450.39 Q371.943 1450.39 374.999 1455 Q378.078 1459.58 378.078 1468.33 Q378.078 1477.06 374.999 1481.67 Q371.943 1486.25 366.133 1486.25 Q360.323 1486.25 357.244 1481.67 Q354.189 1477.06 354.189 1468.33 Q354.189 1459.58 357.244 1455 Q360.323 1450.39 366.133 1450.39 Z\" fill=\"#000000\" fill-rule=\"nonzero\" fill-opacity=\"1\" /><path clip-path=\"url(#clip090)\" d=\"M690.181 1481.64 L706.501 1481.64 L706.501 1485.58 L684.557 1485.58 L684.557 1481.64 Q687.219 1478.89 691.802 1474.26 Q696.408 1469.61 697.589 1468.27 Q699.834 1465.74 700.714 1464.01 Q701.617 1462.25 701.617 1460.56 Q701.617 1457.8 699.672 1456.07 Q697.751 1454.33 694.649 1454.33 Q692.45 1454.33 689.996 1455.09 Q687.566 1455.86 684.788 1457.41 L684.788 1452.69 Q687.612 1451.55 690.066 1450.97 Q692.519 1450.39 694.556 1450.39 Q699.927 1450.39 703.121 1453.08 Q706.316 1455.77 706.316 1460.26 Q706.316 1462.39 705.505 1464.31 Q704.718 1466.2 702.612 1468.8 Q702.033 1469.47 698.931 1472.69 Q695.83 1475.88 690.181 1481.64 Z\" fill=\"#000000\" fill-rule=\"nonzero\" fill-opacity=\"1\" /><path clip-path=\"url(#clip090)\" d=\"M726.316 1454.1 Q722.704 1454.1 720.876 1457.66 Q719.07 1461.2 719.07 1468.33 Q719.07 1475.44 720.876 1479.01 Q722.704 1482.55 726.316 1482.55 Q729.95 1482.55 731.755 1479.01 Q733.584 1475.44 733.584 1468.33 Q733.584 1461.2 731.755 1457.66 Q729.95 1454.1 726.316 1454.1 M726.316 1450.39 Q732.126 1450.39 735.181 1455 Q738.26 1459.58 738.26 1468.33 Q738.26 1477.06 735.181 1481.67 Q732.126 1486.25 726.316 1486.25 Q720.505 1486.25 717.427 1481.67 Q714.371 1477.06 714.371 1468.33 Q714.371 1459.58 717.427 1455 Q720.505 1450.39 726.316 1450.39 Z\" fill=\"#000000\" fill-rule=\"nonzero\" fill-opacity=\"1\" /><path clip-path=\"url(#clip090)\" d=\"M1059.57 1466.95 Q1062.92 1467.66 1064.8 1469.93 Q1066.69 1472.2 1066.69 1475.53 Q1066.69 1480.65 1063.18 1483.45 Q1059.66 1486.25 1053.18 1486.25 Q1051 1486.25 1048.69 1485.81 Q1046.39 1485.39 1043.94 1484.54 L1043.94 1480.02 Q1045.88 1481.16 1048.2 1481.74 Q1050.51 1482.32 1053.04 1482.32 Q1057.44 1482.32 1059.73 1480.58 Q1062.04 1478.84 1062.04 1475.53 Q1062.04 1472.48 1059.89 1470.77 Q1057.76 1469.03 1053.94 1469.03 L1049.91 1469.03 L1049.91 1465.19 L1054.13 1465.19 Q1057.57 1465.19 1059.4 1463.82 Q1061.23 1462.43 1061.23 1459.84 Q1061.23 1457.18 1059.33 1455.77 Q1057.46 1454.33 1053.94 1454.33 Q1052.02 1454.33 1049.82 1454.75 Q1047.62 1455.16 1044.98 1456.04 L1044.98 1451.88 Q1047.64 1451.14 1049.96 1450.77 Q1052.3 1450.39 1054.36 1450.39 Q1059.68 1450.39 1062.78 1452.83 Q1065.88 1455.23 1065.88 1459.35 Q1065.88 1462.22 1064.24 1464.21 Q1062.6 1466.18 1059.57 1466.95 Z\" fill=\"#000000\" fill-rule=\"nonzero\" fill-opacity=\"1\" /><path clip-path=\"url(#clip090)\" d=\"M1085.56 1454.1 Q1081.95 1454.1 1080.12 1457.66 Q1078.32 1461.2 1078.32 1468.33 Q1078.32 1475.44 1080.12 1479.01 Q1081.95 1482.55 1085.56 1482.55 Q1089.19 1482.55 1091 1479.01 Q1092.83 1475.44 1092.83 1468.33 Q1092.83 1461.2 1091 1457.66 Q1089.19 1454.1 1085.56 1454.1 M1085.56 1450.39 Q1091.37 1450.39 1094.43 1455 Q1097.5 1459.58 1097.5 1468.33 Q1097.5 1477.06 1094.43 1481.67 Q1091.37 1486.25 1085.56 1486.25 Q1079.75 1486.25 1076.67 1481.67 Q1073.62 1477.06 1073.62 1468.33 Q1073.62 1459.58 1076.67 1455 Q1079.75 1450.39 1085.56 1450.39 Z\" fill=\"#000000\" fill-rule=\"nonzero\" fill-opacity=\"1\" /><path clip-path=\"url(#clip090)\" d=\"M1418.21 1455.09 L1406.4 1473.54 L1418.21 1473.54 L1418.21 1455.09 M1416.98 1451.02 L1422.86 1451.02 L1422.86 1473.54 L1427.79 1473.54 L1427.79 1477.43 L1422.86 1477.43 L1422.86 1485.58 L1418.21 1485.58 L1418.21 1477.43 L1402.61 1477.43 L1402.61 1472.92 L1416.98 1451.02 Z\" fill=\"#000000\" fill-rule=\"nonzero\" fill-opacity=\"1\" /><path clip-path=\"url(#clip090)\" d=\"M1445.52 1454.1 Q1441.91 1454.1 1440.08 1457.66 Q1438.28 1461.2 1438.28 1468.33 Q1438.28 1475.44 1440.08 1479.01 Q1441.91 1482.55 1445.52 1482.55 Q1449.16 1482.55 1450.96 1479.01 Q1452.79 1475.44 1452.79 1468.33 Q1452.79 1461.2 1450.96 1457.66 Q1449.16 1454.1 1445.52 1454.1 M1445.52 1450.39 Q1451.33 1450.39 1454.39 1455 Q1457.47 1459.58 1457.47 1468.33 Q1457.47 1477.06 1454.39 1481.67 Q1451.33 1486.25 1445.52 1486.25 Q1439.71 1486.25 1436.63 1481.67 Q1433.58 1477.06 1433.58 1468.33 Q1433.58 1459.58 1436.63 1455 Q1439.71 1450.39 1445.52 1450.39 Z\" fill=\"#000000\" fill-rule=\"nonzero\" fill-opacity=\"1\" /><path clip-path=\"url(#clip090)\" d=\"M1764.05 1451.02 L1782.41 1451.02 L1782.41 1454.96 L1768.33 1454.96 L1768.33 1463.43 Q1769.35 1463.08 1770.37 1462.92 Q1771.39 1462.73 1772.41 1462.73 Q1778.19 1462.73 1781.57 1465.9 Q1784.95 1469.08 1784.95 1474.49 Q1784.95 1480.07 1781.48 1483.17 Q1778.01 1486.25 1771.69 1486.25 Q1769.51 1486.25 1767.24 1485.88 Q1765 1485.51 1762.59 1484.77 L1762.59 1480.07 Q1764.68 1481.2 1766.9 1481.76 Q1769.12 1482.32 1771.6 1482.32 Q1775.6 1482.32 1777.94 1480.21 Q1780.28 1478.1 1780.28 1474.49 Q1780.28 1470.88 1777.94 1468.77 Q1775.6 1466.67 1771.6 1466.67 Q1769.72 1466.67 1767.85 1467.08 Q1765.99 1467.5 1764.05 1468.38 L1764.05 1451.02 Z\" fill=\"#000000\" fill-rule=\"nonzero\" fill-opacity=\"1\" /><path clip-path=\"url(#clip090)\" d=\"M1804.17 1454.1 Q1800.55 1454.1 1798.73 1457.66 Q1796.92 1461.2 1796.92 1468.33 Q1796.92 1475.44 1798.73 1479.01 Q1800.55 1482.55 1804.17 1482.55 Q1807.8 1482.55 1809.61 1479.01 Q1811.43 1475.44 1811.43 1468.33 Q1811.43 1461.2 1809.61 1457.66 Q1807.8 1454.1 1804.17 1454.1 M1804.17 1450.39 Q1809.98 1450.39 1813.03 1455 Q1816.11 1459.58 1816.11 1468.33 Q1816.11 1477.06 1813.03 1481.67 Q1809.98 1486.25 1804.17 1486.25 Q1798.36 1486.25 1795.28 1481.67 Q1792.22 1477.06 1792.22 1468.33 Q1792.22 1459.58 1795.28 1455 Q1798.36 1450.39 1804.17 1450.39 Z\" fill=\"#000000\" fill-rule=\"nonzero\" fill-opacity=\"1\" /><path clip-path=\"url(#clip090)\" d=\"M2134.07 1466.44 Q2130.92 1466.44 2129.07 1468.59 Q2127.24 1470.74 2127.24 1474.49 Q2127.24 1478.22 2129.07 1480.39 Q2130.92 1482.55 2134.07 1482.55 Q2137.22 1482.55 2139.05 1480.39 Q2140.9 1478.22 2140.9 1474.49 Q2140.9 1470.74 2139.05 1468.59 Q2137.22 1466.44 2134.07 1466.44 M2143.35 1451.78 L2143.35 1456.04 Q2141.59 1455.21 2139.79 1454.77 Q2138.01 1454.33 2136.25 1454.33 Q2131.62 1454.33 2129.16 1457.45 Q2126.73 1460.58 2126.39 1466.9 Q2127.75 1464.89 2129.81 1463.82 Q2131.87 1462.73 2134.35 1462.73 Q2139.56 1462.73 2142.57 1465.9 Q2145.6 1469.05 2145.6 1474.49 Q2145.6 1479.82 2142.45 1483.03 Q2139.3 1486.25 2134.07 1486.25 Q2128.08 1486.25 2124.9 1481.67 Q2121.73 1477.06 2121.73 1468.33 Q2121.73 1460.14 2125.62 1455.28 Q2129.51 1450.39 2136.06 1450.39 Q2137.82 1450.39 2139.6 1450.74 Q2141.41 1451.09 2143.35 1451.78 Z\" fill=\"#000000\" fill-rule=\"nonzero\" fill-opacity=\"1\" /><path clip-path=\"url(#clip090)\" d=\"M2163.65 1454.1 Q2160.04 1454.1 2158.21 1457.66 Q2156.41 1461.2 2156.41 1468.33 Q2156.41 1475.44 2158.21 1479.01 Q2160.04 1482.55 2163.65 1482.55 Q2167.29 1482.55 2169.09 1479.01 Q2170.92 1475.44 2170.92 1468.33 Q2170.92 1461.2 2169.09 1457.66 Q2167.29 1454.1 2163.65 1454.1 M2163.65 1450.39 Q2169.46 1450.39 2172.52 1455 Q2175.6 1459.58 2175.6 1468.33 Q2175.6 1477.06 2172.52 1481.67 Q2169.46 1486.25 2163.65 1486.25 Q2157.84 1486.25 2154.76 1481.67 Q2151.71 1477.06 2151.71 1468.33 Q2151.71 1459.58 2154.76 1455 Q2157.84 1450.39 2163.65 1450.39 Z\" fill=\"#000000\" fill-rule=\"nonzero\" fill-opacity=\"1\" /><path clip-path=\"url(#clip090)\" d=\"M1270.49 1518.52 L1276.38 1518.52 L1276.38 1547.77 L1293.85 1532.4 L1301.33 1532.4 L1282.43 1549.07 L1302.13 1568.04 L1294.49 1568.04 L1276.38 1550.63 L1276.38 1568.04 L1270.49 1568.04 L1270.49 1518.52 Z\" fill=\"#000000\" fill-rule=\"nonzero\" fill-opacity=\"1\" /><polyline clip-path=\"url(#clip092)\" style=\"stroke:#000000; stroke-linecap:round; stroke-linejoin:round; stroke-width:2; stroke-opacity:0.1; fill:none\" points=\"219.866,1247.06 2352.76,1247.06 \"/>\n",
       "<polyline clip-path=\"url(#clip092)\" style=\"stroke:#000000; stroke-linecap:round; stroke-linejoin:round; stroke-width:2; stroke-opacity:0.1; fill:none\" points=\"219.866,1042.32 2352.76,1042.32 \"/>\n",
       "<polyline clip-path=\"url(#clip092)\" style=\"stroke:#000000; stroke-linecap:round; stroke-linejoin:round; stroke-width:2; stroke-opacity:0.1; fill:none\" points=\"219.866,837.582 2352.76,837.582 \"/>\n",
       "<polyline clip-path=\"url(#clip092)\" style=\"stroke:#000000; stroke-linecap:round; stroke-linejoin:round; stroke-width:2; stroke-opacity:0.1; fill:none\" points=\"219.866,632.842 2352.76,632.842 \"/>\n",
       "<polyline clip-path=\"url(#clip092)\" style=\"stroke:#000000; stroke-linecap:round; stroke-linejoin:round; stroke-width:2; stroke-opacity:0.1; fill:none\" points=\"219.866,428.102 2352.76,428.102 \"/>\n",
       "<polyline clip-path=\"url(#clip092)\" style=\"stroke:#000000; stroke-linecap:round; stroke-linejoin:round; stroke-width:2; stroke-opacity:0.1; fill:none\" points=\"219.866,223.362 2352.76,223.362 \"/>\n",
       "<polyline clip-path=\"url(#clip090)\" style=\"stroke:#000000; stroke-linecap:round; stroke-linejoin:round; stroke-width:4; stroke-opacity:1; fill:none\" points=\"219.866,1423.18 219.866,47.2441 \"/>\n",
       "<polyline clip-path=\"url(#clip090)\" style=\"stroke:#000000; stroke-linecap:round; stroke-linejoin:round; stroke-width:4; stroke-opacity:1; fill:none\" points=\"219.866,1247.06 238.764,1247.06 \"/>\n",
       "<polyline clip-path=\"url(#clip090)\" style=\"stroke:#000000; stroke-linecap:round; stroke-linejoin:round; stroke-width:4; stroke-opacity:1; fill:none\" points=\"219.866,1042.32 238.764,1042.32 \"/>\n",
       "<polyline clip-path=\"url(#clip090)\" style=\"stroke:#000000; stroke-linecap:round; stroke-linejoin:round; stroke-width:4; stroke-opacity:1; fill:none\" points=\"219.866,837.582 238.764,837.582 \"/>\n",
       "<polyline clip-path=\"url(#clip090)\" style=\"stroke:#000000; stroke-linecap:round; stroke-linejoin:round; stroke-width:4; stroke-opacity:1; fill:none\" points=\"219.866,632.842 238.764,632.842 \"/>\n",
       "<polyline clip-path=\"url(#clip090)\" style=\"stroke:#000000; stroke-linecap:round; stroke-linejoin:round; stroke-width:4; stroke-opacity:1; fill:none\" points=\"219.866,428.102 238.764,428.102 \"/>\n",
       "<polyline clip-path=\"url(#clip090)\" style=\"stroke:#000000; stroke-linecap:round; stroke-linejoin:round; stroke-width:4; stroke-opacity:1; fill:none\" points=\"219.866,223.362 238.764,223.362 \"/>\n",
       "<path clip-path=\"url(#clip090)\" d=\"M127.917 1232.86 Q124.306 1232.86 122.478 1236.43 Q120.672 1239.97 120.672 1247.1 Q120.672 1254.2 122.478 1257.77 Q124.306 1261.31 127.917 1261.31 Q131.552 1261.31 133.357 1257.77 Q135.186 1254.2 135.186 1247.1 Q135.186 1239.97 133.357 1236.43 Q131.552 1232.86 127.917 1232.86 M127.917 1229.16 Q133.728 1229.16 136.783 1233.76 Q139.862 1238.35 139.862 1247.1 Q139.862 1255.82 136.783 1260.43 Q133.728 1265.01 127.917 1265.01 Q122.107 1265.01 119.029 1260.43 Q115.973 1255.82 115.973 1247.1 Q115.973 1238.35 119.029 1233.76 Q122.107 1229.16 127.917 1229.16 Z\" fill=\"#000000\" fill-rule=\"nonzero\" fill-opacity=\"1\" /><path clip-path=\"url(#clip090)\" d=\"M148.079 1258.46 L152.964 1258.46 L152.964 1264.34 L148.079 1264.34 L148.079 1258.46 Z\" fill=\"#000000\" fill-rule=\"nonzero\" fill-opacity=\"1\" /><path clip-path=\"url(#clip090)\" d=\"M163.959 1260.41 L171.598 1260.41 L171.598 1234.04 L163.288 1235.71 L163.288 1231.45 L171.552 1229.78 L176.227 1229.78 L176.227 1260.41 L183.866 1260.41 L183.866 1264.34 L163.959 1264.34 L163.959 1260.41 Z\" fill=\"#000000\" fill-rule=\"nonzero\" fill-opacity=\"1\" /><path clip-path=\"url(#clip090)\" d=\"M128.288 1028.12 Q124.677 1028.12 122.848 1031.69 Q121.043 1035.23 121.043 1042.36 Q121.043 1049.46 122.848 1053.03 Q124.677 1056.57 128.288 1056.57 Q131.922 1056.57 133.728 1053.03 Q135.556 1049.46 135.556 1042.36 Q135.556 1035.23 133.728 1031.69 Q131.922 1028.12 128.288 1028.12 M128.288 1024.42 Q134.098 1024.42 137.154 1029.02 Q140.232 1033.61 140.232 1042.36 Q140.232 1051.08 137.154 1055.69 Q134.098 1060.27 128.288 1060.27 Q122.478 1060.27 119.399 1055.69 Q116.343 1051.08 116.343 1042.36 Q116.343 1033.61 119.399 1029.02 Q122.478 1024.42 128.288 1024.42 Z\" fill=\"#000000\" fill-rule=\"nonzero\" fill-opacity=\"1\" /><path clip-path=\"url(#clip090)\" d=\"M148.45 1053.72 L153.334 1053.72 L153.334 1059.6 L148.45 1059.6 L148.45 1053.72 Z\" fill=\"#000000\" fill-rule=\"nonzero\" fill-opacity=\"1\" /><path clip-path=\"url(#clip090)\" d=\"M167.547 1055.67 L183.866 1055.67 L183.866 1059.6 L161.922 1059.6 L161.922 1055.67 Q164.584 1052.91 169.167 1048.28 Q173.774 1043.63 174.954 1042.29 Q177.2 1039.76 178.079 1038.03 Q178.982 1036.27 178.982 1034.58 Q178.982 1031.82 177.038 1030.09 Q175.116 1028.35 172.014 1028.35 Q169.815 1028.35 167.362 1029.12 Q164.931 1029.88 162.153 1031.43 L162.153 1026.71 Q164.977 1025.57 167.431 1025 Q169.885 1024.42 171.922 1024.42 Q177.292 1024.42 180.487 1027.1 Q183.681 1029.79 183.681 1034.28 Q183.681 1036.41 182.871 1038.33 Q182.084 1040.23 179.977 1042.82 Q179.399 1043.49 176.297 1046.71 Q173.195 1049.9 167.547 1055.67 Z\" fill=\"#000000\" fill-rule=\"nonzero\" fill-opacity=\"1\" /><path clip-path=\"url(#clip090)\" d=\"M127.339 823.381 Q123.728 823.381 121.899 826.946 Q120.093 830.487 120.093 837.617 Q120.093 844.723 121.899 848.288 Q123.728 851.83 127.339 851.83 Q130.973 851.83 132.779 848.288 Q134.607 844.723 134.607 837.617 Q134.607 830.487 132.779 826.946 Q130.973 823.381 127.339 823.381 M127.339 819.677 Q133.149 819.677 136.204 824.284 Q139.283 828.867 139.283 837.617 Q139.283 846.344 136.204 850.95 Q133.149 855.533 127.339 855.533 Q121.529 855.533 118.45 850.95 Q115.394 846.344 115.394 837.617 Q115.394 828.867 118.45 824.284 Q121.529 819.677 127.339 819.677 Z\" fill=\"#000000\" fill-rule=\"nonzero\" fill-opacity=\"1\" /><path clip-path=\"url(#clip090)\" d=\"M147.501 848.982 L152.385 848.982 L152.385 854.862 L147.501 854.862 L147.501 848.982 Z\" fill=\"#000000\" fill-rule=\"nonzero\" fill-opacity=\"1\" /><path clip-path=\"url(#clip090)\" d=\"M176.737 836.228 Q180.093 836.945 181.968 839.214 Q183.866 841.482 183.866 844.816 Q183.866 849.932 180.348 852.732 Q176.829 855.533 170.348 855.533 Q168.172 855.533 165.857 855.094 Q163.565 854.677 161.112 853.82 L161.112 849.307 Q163.056 850.441 165.371 851.019 Q167.686 851.598 170.209 851.598 Q174.607 851.598 176.899 849.862 Q179.214 848.126 179.214 844.816 Q179.214 841.76 177.061 840.047 Q174.931 838.311 171.112 838.311 L167.084 838.311 L167.084 834.469 L171.297 834.469 Q174.746 834.469 176.575 833.103 Q178.403 831.714 178.403 829.121 Q178.403 826.459 176.505 825.047 Q174.63 823.612 171.112 823.612 Q169.19 823.612 166.991 824.029 Q164.792 824.446 162.153 825.325 L162.153 821.159 Q164.815 820.418 167.13 820.047 Q169.468 819.677 171.528 819.677 Q176.852 819.677 179.954 822.108 Q183.056 824.515 183.056 828.635 Q183.056 831.506 181.413 833.496 Q179.769 835.464 176.737 836.228 Z\" fill=\"#000000\" fill-rule=\"nonzero\" fill-opacity=\"1\" /><path clip-path=\"url(#clip090)\" d=\"M126.205 618.641 Q122.593 618.641 120.765 622.205 Q118.959 625.747 118.959 632.877 Q118.959 639.983 120.765 643.548 Q122.593 647.089 126.205 647.089 Q129.839 647.089 131.644 643.548 Q133.473 639.983 133.473 632.877 Q133.473 625.747 131.644 622.205 Q129.839 618.641 126.205 618.641 M126.205 614.937 Q132.015 614.937 135.07 619.543 Q138.149 624.127 138.149 632.877 Q138.149 641.603 135.07 646.21 Q132.015 650.793 126.205 650.793 Q120.394 650.793 117.316 646.21 Q114.26 641.603 114.26 632.877 Q114.26 624.127 117.316 619.543 Q120.394 614.937 126.205 614.937 Z\" fill=\"#000000\" fill-rule=\"nonzero\" fill-opacity=\"1\" /><path clip-path=\"url(#clip090)\" d=\"M146.366 644.242 L151.251 644.242 L151.251 650.122 L146.366 650.122 L146.366 644.242 Z\" fill=\"#000000\" fill-rule=\"nonzero\" fill-opacity=\"1\" /><path clip-path=\"url(#clip090)\" d=\"M174.283 619.636 L162.477 638.085 L174.283 638.085 L174.283 619.636 M173.056 615.562 L178.936 615.562 L178.936 638.085 L183.866 638.085 L183.866 641.974 L178.936 641.974 L178.936 650.122 L174.283 650.122 L174.283 641.974 L158.681 641.974 L158.681 637.46 L173.056 615.562 Z\" fill=\"#000000\" fill-rule=\"nonzero\" fill-opacity=\"1\" /><path clip-path=\"url(#clip090)\" d=\"M127.686 413.9 Q124.075 413.9 122.246 417.465 Q120.441 421.007 120.441 428.136 Q120.441 435.243 122.246 438.808 Q124.075 442.349 127.686 442.349 Q131.32 442.349 133.126 438.808 Q134.954 435.243 134.954 428.136 Q134.954 421.007 133.126 417.465 Q131.32 413.9 127.686 413.9 M127.686 410.197 Q133.496 410.197 136.552 414.803 Q139.63 419.387 139.63 428.136 Q139.63 436.863 136.552 441.47 Q133.496 446.053 127.686 446.053 Q121.876 446.053 118.797 441.47 Q115.742 436.863 115.742 428.136 Q115.742 419.387 118.797 414.803 Q121.876 410.197 127.686 410.197 Z\" fill=\"#000000\" fill-rule=\"nonzero\" fill-opacity=\"1\" /><path clip-path=\"url(#clip090)\" d=\"M147.848 439.502 L152.732 439.502 L152.732 445.382 L147.848 445.382 L147.848 439.502 Z\" fill=\"#000000\" fill-rule=\"nonzero\" fill-opacity=\"1\" /><path clip-path=\"url(#clip090)\" d=\"M162.964 410.822 L181.32 410.822 L181.32 414.757 L167.246 414.757 L167.246 423.229 Q168.264 422.882 169.283 422.72 Q170.302 422.535 171.32 422.535 Q177.107 422.535 180.487 425.706 Q183.866 428.877 183.866 434.294 Q183.866 439.873 180.394 442.974 Q176.922 446.053 170.602 446.053 Q168.427 446.053 166.158 445.683 Q163.913 445.312 161.505 444.572 L161.505 439.873 Q163.589 441.007 165.811 441.562 Q168.033 442.118 170.51 442.118 Q174.514 442.118 176.852 440.011 Q179.19 437.905 179.19 434.294 Q179.19 430.683 176.852 428.576 Q174.514 426.47 170.51 426.47 Q168.635 426.47 166.76 426.886 Q164.908 427.303 162.964 428.183 L162.964 410.822 Z\" fill=\"#000000\" fill-rule=\"nonzero\" fill-opacity=\"1\" /><path clip-path=\"url(#clip090)\" d=\"M126.529 209.16 Q122.918 209.16 121.089 212.725 Q119.283 216.267 119.283 223.396 Q119.283 230.503 121.089 234.068 Q122.918 237.609 126.529 237.609 Q130.163 237.609 131.968 234.068 Q133.797 230.503 133.797 223.396 Q133.797 216.267 131.968 212.725 Q130.163 209.16 126.529 209.16 M126.529 205.457 Q132.339 205.457 135.394 210.063 Q138.473 214.646 138.473 223.396 Q138.473 232.123 135.394 236.73 Q132.339 241.313 126.529 241.313 Q120.718 241.313 117.64 236.73 Q114.584 232.123 114.584 223.396 Q114.584 214.646 117.64 210.063 Q120.718 205.457 126.529 205.457 Z\" fill=\"#000000\" fill-rule=\"nonzero\" fill-opacity=\"1\" /><path clip-path=\"url(#clip090)\" d=\"M146.691 234.762 L151.575 234.762 L151.575 240.642 L146.691 240.642 L146.691 234.762 Z\" fill=\"#000000\" fill-rule=\"nonzero\" fill-opacity=\"1\" /><path clip-path=\"url(#clip090)\" d=\"M172.339 221.498 Q169.19 221.498 167.339 223.651 Q165.51 225.804 165.51 229.554 Q165.51 233.281 167.339 235.456 Q169.19 237.609 172.339 237.609 Q175.487 237.609 177.315 235.456 Q179.167 233.281 179.167 229.554 Q179.167 225.804 177.315 223.651 Q175.487 221.498 172.339 221.498 M181.621 206.845 L181.621 211.105 Q179.862 210.271 178.056 209.832 Q176.274 209.392 174.514 209.392 Q169.885 209.392 167.431 212.517 Q165.001 215.642 164.653 221.961 Q166.019 219.947 168.079 218.882 Q170.139 217.794 172.616 217.794 Q177.825 217.794 180.834 220.966 Q183.866 224.114 183.866 229.554 Q183.866 234.878 180.718 238.095 Q177.57 241.313 172.339 241.313 Q166.343 241.313 163.172 236.73 Q160.001 232.123 160.001 223.396 Q160.001 215.202 163.89 210.341 Q167.778 205.457 174.329 205.457 Q176.089 205.457 177.871 205.804 Q179.676 206.151 181.621 206.845 Z\" fill=\"#000000\" fill-rule=\"nonzero\" fill-opacity=\"1\" /><path clip-path=\"url(#clip090)\" d=\"M18.2347 837.397 L28.3562 837.397 L28.3562 825.334 L32.9077 825.334 L32.9077 837.397 L52.2594 837.397 Q56.6199 837.397 57.8613 836.22 Q59.1026 835.01 59.1026 831.35 L59.1026 825.334 L64.0042 825.334 L64.0042 831.35 Q64.0042 838.13 61.4897 840.708 Q58.9434 843.286 52.2594 843.286 L32.9077 843.286 L32.9077 847.583 L28.3562 847.583 L28.3562 843.286 L18.2347 843.286 L18.2347 837.397 Z\" fill=\"#000000\" fill-rule=\"nonzero\" fill-opacity=\"1\" /><path clip-path=\"url(#clip090)\" d=\"M28.3562 817.632 L28.3562 811.776 L64.0042 811.776 L64.0042 817.632 L28.3562 817.632 M14.479 817.632 L14.479 811.776 L21.895 811.776 L21.895 817.632 L14.479 817.632 Z\" fill=\"#000000\" fill-rule=\"nonzero\" fill-opacity=\"1\" /><path clip-path=\"url(#clip090)\" d=\"M35.1993 771.767 Q31.2526 769.571 29.3747 766.515 Q27.4968 763.46 27.4968 759.322 Q27.4968 753.752 31.4117 750.728 Q35.2948 747.705 42.4881 747.705 L64.0042 747.705 L64.0042 753.593 L42.679 753.593 Q37.5546 753.593 35.072 755.407 Q32.5894 757.221 32.5894 760.945 Q32.5894 765.497 35.6131 768.139 Q38.6368 770.78 43.8567 770.78 L64.0042 770.78 L64.0042 776.669 L42.679 776.669 Q37.5228 776.669 35.072 778.483 Q32.5894 780.297 32.5894 784.085 Q32.5894 788.573 35.6449 791.214 Q38.6686 793.856 43.8567 793.856 L64.0042 793.856 L64.0042 799.744 L28.3562 799.744 L28.3562 793.856 L33.8944 793.856 Q30.616 791.851 29.0564 789.05 Q27.4968 786.249 27.4968 782.398 Q27.4968 778.515 29.4702 775.809 Q31.4436 773.072 35.1993 771.767 Z\" fill=\"#000000\" fill-rule=\"nonzero\" fill-opacity=\"1\" /><path clip-path=\"url(#clip090)\" d=\"M44.7161 705.532 L47.5806 705.532 L47.5806 732.459 Q53.6281 732.077 56.8109 728.83 Q59.9619 725.552 59.9619 719.727 Q59.9619 716.354 59.1344 713.203 Q58.3069 710.02 56.6518 706.9 L62.1899 706.9 Q63.5267 710.052 64.227 713.362 Q64.9272 716.672 64.9272 720.078 Q64.9272 728.608 59.9619 733.605 Q54.9967 738.57 46.5303 738.57 Q37.7774 738.57 32.6531 733.859 Q27.4968 729.117 27.4968 721.096 Q27.4968 713.903 32.1438 709.733 Q36.7589 705.532 44.7161 705.532 M42.9973 711.388 Q38.1912 711.452 35.3266 714.094 Q32.4621 716.704 32.4621 721.032 Q32.4621 725.934 35.2312 728.894 Q38.0002 731.822 43.0292 732.268 L42.9973 711.388 Z\" fill=\"#000000\" fill-rule=\"nonzero\" fill-opacity=\"1\" /><path clip-path=\"url(#clip090)\" d=\"M14.5426 681.851 Q21.8632 686.116 29.0246 688.185 Q36.186 690.254 43.5384 690.254 Q50.8908 690.254 58.1159 688.185 Q65.3091 686.085 72.5979 681.851 L72.5979 686.944 Q65.1182 691.718 57.8931 694.105 Q50.668 696.461 43.5384 696.461 Q36.4406 696.461 29.2474 694.105 Q22.0542 691.75 14.5426 686.944 L14.5426 681.851 Z\" fill=\"#000000\" fill-rule=\"nonzero\" fill-opacity=\"1\" /><path clip-path=\"url(#clip090)\" d=\"M29.4065 647.763 L34.9447 647.763 Q33.6716 650.246 33.035 652.919 Q32.3984 655.593 32.3984 658.457 Q32.3984 662.818 33.7352 665.014 Q35.072 667.178 37.7456 667.178 Q39.7826 667.178 40.9603 665.619 Q42.1061 664.059 43.1565 659.349 L43.6021 657.343 Q44.9389 651.105 47.3897 648.495 Q49.8086 645.853 54.1691 645.853 Q59.1344 645.853 62.0308 649.8 Q64.9272 653.715 64.9272 660.59 Q64.9272 663.455 64.3543 666.574 Q63.8132 669.661 62.6992 673.099 L56.6518 673.099 Q58.3387 669.852 59.198 666.701 Q60.0256 663.55 60.0256 660.463 Q60.0256 656.325 58.6251 654.097 Q57.1929 651.869 54.6147 651.869 Q52.2276 651.869 50.9545 653.492 Q49.6813 655.084 48.5037 660.526 L48.0262 662.563 Q46.8804 668.006 44.5251 670.425 Q42.138 672.844 38.0002 672.844 Q32.9713 672.844 30.2341 669.279 Q27.4968 665.714 27.4968 659.158 Q27.4968 655.911 27.9743 653.047 Q28.4517 650.182 29.4065 647.763 Z\" fill=\"#000000\" fill-rule=\"nonzero\" fill-opacity=\"1\" /><path clip-path=\"url(#clip090)\" d=\"M14.5426 637.451 L14.5426 632.358 Q22.0542 627.584 29.2474 625.228 Q36.4406 622.841 43.5384 622.841 Q50.668 622.841 57.8931 625.228 Q65.1182 627.584 72.5979 632.358 L72.5979 637.451 Q65.3091 633.217 58.1159 631.149 Q50.8908 629.048 43.5384 629.048 Q36.186 629.048 29.0246 631.149 Q21.8632 633.217 14.5426 637.451 Z\" fill=\"#000000\" fill-rule=\"nonzero\" fill-opacity=\"1\" /><circle clip-path=\"url(#clip092)\" cx=\"280.231\" cy=\"1384.24\" r=\"14.4\" fill=\"#009af9\" fill-rule=\"evenodd\" fill-opacity=\"1\" stroke=\"#000000\" stroke-opacity=\"1\" stroke-width=\"3.2\"/>\n",
       "<circle clip-path=\"url(#clip092)\" cx=\"567.683\" cy=\"1285.96\" r=\"14.4\" fill=\"#009af9\" fill-rule=\"evenodd\" fill-opacity=\"1\" stroke=\"#000000\" stroke-opacity=\"1\" stroke-width=\"3.2\"/>\n",
       "<circle clip-path=\"url(#clip092)\" cx=\"855.134\" cy=\"1070.99\" r=\"14.4\" fill=\"#009af9\" fill-rule=\"evenodd\" fill-opacity=\"1\" stroke=\"#000000\" stroke-opacity=\"1\" stroke-width=\"3.2\"/>\n",
       "<circle clip-path=\"url(#clip092)\" cx=\"1142.59\" cy=\"948.142\" r=\"14.4\" fill=\"#009af9\" fill-rule=\"evenodd\" fill-opacity=\"1\" stroke=\"#000000\" stroke-opacity=\"1\" stroke-width=\"3.2\"/>\n",
       "<circle clip-path=\"url(#clip092)\" cx=\"1717.49\" cy=\"587.799\" r=\"14.4\" fill=\"#009af9\" fill-rule=\"evenodd\" fill-opacity=\"1\" stroke=\"#000000\" stroke-opacity=\"1\" stroke-width=\"3.2\"/>\n",
       "<circle clip-path=\"url(#clip092)\" cx=\"2292.39\" cy=\"86.1857\" r=\"14.4\" fill=\"#009af9\" fill-rule=\"evenodd\" fill-opacity=\"1\" stroke=\"#000000\" stroke-opacity=\"1\" stroke-width=\"3.2\"/>\n",
       "</svg>\n"
      ]
     },
     "execution_count": 28,
     "metadata": {},
     "output_type": "execute_result"
    }
   ],
   "source": [
    "scatter(ks, kdouble, xaxis = \"k\", yaxis = \"time(s)\", legend=false)"
   ]
  },
  {
   "cell_type": "code",
   "execution_count": 29,
   "id": "51c6f0aa",
   "metadata": {},
   "outputs": [
    {
     "data": {
      "image/svg+xml": [
       "<?xml version=\"1.0\" encoding=\"utf-8\"?>\n",
       "<svg xmlns=\"http://www.w3.org/2000/svg\" xmlns:xlink=\"http://www.w3.org/1999/xlink\" width=\"600\" height=\"400\" viewBox=\"0 0 2400 1600\">\n",
       "<defs>\n",
       "  <clipPath id=\"clip130\">\n",
       "    <rect x=\"0\" y=\"0\" width=\"2400\" height=\"1600\"/>\n",
       "  </clipPath>\n",
       "</defs>\n",
       "<path clip-path=\"url(#clip130)\" d=\"M0 1600 L2400 1600 L2400 0 L0 0  Z\" fill=\"#ffffff\" fill-rule=\"evenodd\" fill-opacity=\"1\"/>\n",
       "<defs>\n",
       "  <clipPath id=\"clip131\">\n",
       "    <rect x=\"480\" y=\"0\" width=\"1681\" height=\"1600\"/>\n",
       "  </clipPath>\n",
       "</defs>\n",
       "<path clip-path=\"url(#clip130)\" d=\"M219.866 1423.18 L2352.76 1423.18 L2352.76 47.2441 L219.866 47.2441  Z\" fill=\"#ffffff\" fill-rule=\"evenodd\" fill-opacity=\"1\"/>\n",
       "<defs>\n",
       "  <clipPath id=\"clip132\">\n",
       "    <rect x=\"219\" y=\"47\" width=\"2134\" height=\"1377\"/>\n",
       "  </clipPath>\n",
       "</defs>\n",
       "<polyline clip-path=\"url(#clip132)\" style=\"stroke:#000000; stroke-linecap:round; stroke-linejoin:round; stroke-width:2; stroke-opacity:0.1; fill:none\" points=\"567.683,1423.18 567.683,47.2441 \"/>\n",
       "<polyline clip-path=\"url(#clip132)\" style=\"stroke:#000000; stroke-linecap:round; stroke-linejoin:round; stroke-width:2; stroke-opacity:0.1; fill:none\" points=\"1142.59,1423.18 1142.59,47.2441 \"/>\n",
       "<polyline clip-path=\"url(#clip132)\" style=\"stroke:#000000; stroke-linecap:round; stroke-linejoin:round; stroke-width:2; stroke-opacity:0.1; fill:none\" points=\"1717.49,1423.18 1717.49,47.2441 \"/>\n",
       "<polyline clip-path=\"url(#clip132)\" style=\"stroke:#000000; stroke-linecap:round; stroke-linejoin:round; stroke-width:2; stroke-opacity:0.1; fill:none\" points=\"2292.39,1423.18 2292.39,47.2441 \"/>\n",
       "<polyline clip-path=\"url(#clip130)\" style=\"stroke:#000000; stroke-linecap:round; stroke-linejoin:round; stroke-width:4; stroke-opacity:1; fill:none\" points=\"219.866,1423.18 2352.76,1423.18 \"/>\n",
       "<polyline clip-path=\"url(#clip130)\" style=\"stroke:#000000; stroke-linecap:round; stroke-linejoin:round; stroke-width:4; stroke-opacity:1; fill:none\" points=\"567.683,1423.18 567.683,1404.28 \"/>\n",
       "<polyline clip-path=\"url(#clip130)\" style=\"stroke:#000000; stroke-linecap:round; stroke-linejoin:round; stroke-width:4; stroke-opacity:1; fill:none\" points=\"1142.59,1423.18 1142.59,1404.28 \"/>\n",
       "<polyline clip-path=\"url(#clip130)\" style=\"stroke:#000000; stroke-linecap:round; stroke-linejoin:round; stroke-width:4; stroke-opacity:1; fill:none\" points=\"1717.49,1423.18 1717.49,1404.28 \"/>\n",
       "<polyline clip-path=\"url(#clip130)\" style=\"stroke:#000000; stroke-linecap:round; stroke-linejoin:round; stroke-width:4; stroke-opacity:1; fill:none\" points=\"2292.39,1423.18 2292.39,1404.28 \"/>\n",
       "<path clip-path=\"url(#clip130)\" d=\"M527.289 1481.64 L534.928 1481.64 L534.928 1455.28 L526.618 1456.95 L526.618 1452.69 L534.882 1451.02 L539.558 1451.02 L539.558 1481.64 L547.196 1481.64 L547.196 1485.58 L527.289 1485.58 L527.289 1481.64 Z\" fill=\"#000000\" fill-rule=\"nonzero\" fill-opacity=\"1\" /><path clip-path=\"url(#clip130)\" d=\"M566.641 1454.1 Q563.03 1454.1 561.201 1457.66 Q559.396 1461.2 559.396 1468.33 Q559.396 1475.44 561.201 1479.01 Q563.03 1482.55 566.641 1482.55 Q570.275 1482.55 572.081 1479.01 Q573.909 1475.44 573.909 1468.33 Q573.909 1461.2 572.081 1457.66 Q570.275 1454.1 566.641 1454.1 M566.641 1450.39 Q572.451 1450.39 575.507 1455 Q578.585 1459.58 578.585 1468.33 Q578.585 1477.06 575.507 1481.67 Q572.451 1486.25 566.641 1486.25 Q560.831 1486.25 557.752 1481.67 Q554.696 1477.06 554.696 1468.33 Q554.696 1459.58 557.752 1455 Q560.831 1450.39 566.641 1450.39 Z\" fill=\"#000000\" fill-rule=\"nonzero\" fill-opacity=\"1\" /><path clip-path=\"url(#clip130)\" d=\"M596.803 1454.1 Q593.192 1454.1 591.363 1457.66 Q589.557 1461.2 589.557 1468.33 Q589.557 1475.44 591.363 1479.01 Q593.192 1482.55 596.803 1482.55 Q600.437 1482.55 602.243 1479.01 Q604.071 1475.44 604.071 1468.33 Q604.071 1461.2 602.243 1457.66 Q600.437 1454.1 596.803 1454.1 M596.803 1450.39 Q602.613 1450.39 605.668 1455 Q608.747 1459.58 608.747 1468.33 Q608.747 1477.06 605.668 1481.67 Q602.613 1486.25 596.803 1486.25 Q590.993 1486.25 587.914 1481.67 Q584.858 1477.06 584.858 1468.33 Q584.858 1459.58 587.914 1455 Q590.993 1450.39 596.803 1450.39 Z\" fill=\"#000000\" fill-rule=\"nonzero\" fill-opacity=\"1\" /><path clip-path=\"url(#clip130)\" d=\"M1106.28 1481.64 L1122.6 1481.64 L1122.6 1485.58 L1100.65 1485.58 L1100.65 1481.64 Q1103.31 1478.89 1107.9 1474.26 Q1112.5 1469.61 1113.69 1468.27 Q1115.93 1465.74 1116.81 1464.01 Q1117.71 1462.25 1117.71 1460.56 Q1117.71 1457.8 1115.77 1456.07 Q1113.85 1454.33 1110.75 1454.33 Q1108.55 1454.33 1106.09 1455.09 Q1103.66 1455.86 1100.88 1457.41 L1100.88 1452.69 Q1103.71 1451.55 1106.16 1450.97 Q1108.62 1450.39 1110.65 1450.39 Q1116.02 1450.39 1119.22 1453.08 Q1122.41 1455.77 1122.41 1460.26 Q1122.41 1462.39 1121.6 1464.31 Q1120.81 1466.2 1118.71 1468.8 Q1118.13 1469.47 1115.03 1472.69 Q1111.93 1475.88 1106.28 1481.64 Z\" fill=\"#000000\" fill-rule=\"nonzero\" fill-opacity=\"1\" /><path clip-path=\"url(#clip130)\" d=\"M1142.41 1454.1 Q1138.8 1454.1 1136.97 1457.66 Q1135.17 1461.2 1135.17 1468.33 Q1135.17 1475.44 1136.97 1479.01 Q1138.8 1482.55 1142.41 1482.55 Q1146.05 1482.55 1147.85 1479.01 Q1149.68 1475.44 1149.68 1468.33 Q1149.68 1461.2 1147.85 1457.66 Q1146.05 1454.1 1142.41 1454.1 M1142.41 1450.39 Q1148.22 1450.39 1151.28 1455 Q1154.36 1459.58 1154.36 1468.33 Q1154.36 1477.06 1151.28 1481.67 Q1148.22 1486.25 1142.41 1486.25 Q1136.6 1486.25 1133.52 1481.67 Q1130.47 1477.06 1130.47 1468.33 Q1130.47 1459.58 1133.52 1455 Q1136.6 1450.39 1142.41 1450.39 Z\" fill=\"#000000\" fill-rule=\"nonzero\" fill-opacity=\"1\" /><path clip-path=\"url(#clip130)\" d=\"M1172.57 1454.1 Q1168.96 1454.1 1167.13 1457.66 Q1165.33 1461.2 1165.33 1468.33 Q1165.33 1475.44 1167.13 1479.01 Q1168.96 1482.55 1172.57 1482.55 Q1176.21 1482.55 1178.01 1479.01 Q1179.84 1475.44 1179.84 1468.33 Q1179.84 1461.2 1178.01 1457.66 Q1176.21 1454.1 1172.57 1454.1 M1172.57 1450.39 Q1178.38 1450.39 1181.44 1455 Q1184.52 1459.58 1184.52 1468.33 Q1184.52 1477.06 1181.44 1481.67 Q1178.38 1486.25 1172.57 1486.25 Q1166.76 1486.25 1163.68 1481.67 Q1160.63 1477.06 1160.63 1468.33 Q1160.63 1459.58 1163.68 1455 Q1166.76 1450.39 1172.57 1450.39 Z\" fill=\"#000000\" fill-rule=\"nonzero\" fill-opacity=\"1\" /><path clip-path=\"url(#clip130)\" d=\"M1691.25 1466.95 Q1694.61 1467.66 1696.48 1469.93 Q1698.38 1472.2 1698.38 1475.53 Q1698.38 1480.65 1694.86 1483.45 Q1691.34 1486.25 1684.86 1486.25 Q1682.69 1486.25 1680.37 1485.81 Q1678.08 1485.39 1675.63 1484.54 L1675.63 1480.02 Q1677.57 1481.16 1679.88 1481.74 Q1682.2 1482.32 1684.72 1482.32 Q1689.12 1482.32 1691.41 1480.58 Q1693.73 1478.84 1693.73 1475.53 Q1693.73 1472.48 1691.57 1470.77 Q1689.44 1469.03 1685.62 1469.03 L1681.6 1469.03 L1681.6 1465.19 L1685.81 1465.19 Q1689.26 1465.19 1691.09 1463.82 Q1692.92 1462.43 1692.92 1459.84 Q1692.92 1457.18 1691.02 1455.77 Q1689.14 1454.33 1685.62 1454.33 Q1683.7 1454.33 1681.5 1454.75 Q1679.31 1455.16 1676.67 1456.04 L1676.67 1451.88 Q1679.33 1451.14 1681.64 1450.77 Q1683.98 1450.39 1686.04 1450.39 Q1691.37 1450.39 1694.47 1452.83 Q1697.57 1455.23 1697.57 1459.35 Q1697.57 1462.22 1695.93 1464.21 Q1694.28 1466.18 1691.25 1466.95 Z\" fill=\"#000000\" fill-rule=\"nonzero\" fill-opacity=\"1\" /><path clip-path=\"url(#clip130)\" d=\"M1717.25 1454.1 Q1713.63 1454.1 1711.81 1457.66 Q1710 1461.2 1710 1468.33 Q1710 1475.44 1711.81 1479.01 Q1713.63 1482.55 1717.25 1482.55 Q1720.88 1482.55 1722.68 1479.01 Q1724.51 1475.44 1724.51 1468.33 Q1724.51 1461.2 1722.68 1457.66 Q1720.88 1454.1 1717.25 1454.1 M1717.25 1450.39 Q1723.06 1450.39 1726.11 1455 Q1729.19 1459.58 1729.19 1468.33 Q1729.19 1477.06 1726.11 1481.67 Q1723.06 1486.25 1717.25 1486.25 Q1711.44 1486.25 1708.36 1481.67 Q1705.3 1477.06 1705.3 1468.33 Q1705.3 1459.58 1708.36 1455 Q1711.44 1450.39 1717.25 1450.39 Z\" fill=\"#000000\" fill-rule=\"nonzero\" fill-opacity=\"1\" /><path clip-path=\"url(#clip130)\" d=\"M1747.41 1454.1 Q1743.8 1454.1 1741.97 1457.66 Q1740.16 1461.2 1740.16 1468.33 Q1740.16 1475.44 1741.97 1479.01 Q1743.8 1482.55 1747.41 1482.55 Q1751.04 1482.55 1752.85 1479.01 Q1754.68 1475.44 1754.68 1468.33 Q1754.68 1461.2 1752.85 1457.66 Q1751.04 1454.1 1747.41 1454.1 M1747.41 1450.39 Q1753.22 1450.39 1756.27 1455 Q1759.35 1459.58 1759.35 1468.33 Q1759.35 1477.06 1756.27 1481.67 Q1753.22 1486.25 1747.41 1486.25 Q1741.6 1486.25 1738.52 1481.67 Q1735.46 1477.06 1735.46 1468.33 Q1735.46 1459.58 1738.52 1455 Q1741.6 1450.39 1747.41 1450.39 Z\" fill=\"#000000\" fill-rule=\"nonzero\" fill-opacity=\"1\" /><path clip-path=\"url(#clip130)\" d=\"M2265.48 1455.09 L2253.68 1473.54 L2265.48 1473.54 L2265.48 1455.09 M2264.25 1451.02 L2270.13 1451.02 L2270.13 1473.54 L2275.06 1473.54 L2275.06 1477.43 L2270.13 1477.43 L2270.13 1485.58 L2265.48 1485.58 L2265.48 1477.43 L2249.88 1477.43 L2249.88 1472.92 L2264.25 1451.02 Z\" fill=\"#000000\" fill-rule=\"nonzero\" fill-opacity=\"1\" /><path clip-path=\"url(#clip130)\" d=\"M2292.8 1454.1 Q2289.19 1454.1 2287.36 1457.66 Q2285.55 1461.2 2285.55 1468.33 Q2285.55 1475.44 2287.36 1479.01 Q2289.19 1482.55 2292.8 1482.55 Q2296.43 1482.55 2298.24 1479.01 Q2300.06 1475.44 2300.06 1468.33 Q2300.06 1461.2 2298.24 1457.66 Q2296.43 1454.1 2292.8 1454.1 M2292.8 1450.39 Q2298.61 1450.39 2301.66 1455 Q2304.74 1459.58 2304.74 1468.33 Q2304.74 1477.06 2301.66 1481.67 Q2298.61 1486.25 2292.8 1486.25 Q2286.99 1486.25 2283.91 1481.67 Q2280.85 1477.06 2280.85 1468.33 Q2280.85 1459.58 2283.91 1455 Q2286.99 1450.39 2292.8 1450.39 Z\" fill=\"#000000\" fill-rule=\"nonzero\" fill-opacity=\"1\" /><path clip-path=\"url(#clip130)\" d=\"M2322.96 1454.1 Q2319.35 1454.1 2317.52 1457.66 Q2315.71 1461.2 2315.71 1468.33 Q2315.71 1475.44 2317.52 1479.01 Q2319.35 1482.55 2322.96 1482.55 Q2326.59 1482.55 2328.4 1479.01 Q2330.23 1475.44 2330.23 1468.33 Q2330.23 1461.2 2328.4 1457.66 Q2326.59 1454.1 2322.96 1454.1 M2322.96 1450.39 Q2328.77 1450.39 2331.82 1455 Q2334.9 1459.58 2334.9 1468.33 Q2334.9 1477.06 2331.82 1481.67 Q2328.77 1486.25 2322.96 1486.25 Q2317.15 1486.25 2314.07 1481.67 Q2311.01 1477.06 2311.01 1468.33 Q2311.01 1459.58 2314.07 1455 Q2317.15 1450.39 2322.96 1450.39 Z\" fill=\"#000000\" fill-rule=\"nonzero\" fill-opacity=\"1\" /><path clip-path=\"url(#clip130)\" d=\"M1301.24 1546.53 L1301.24 1568.04 L1295.38 1568.04 L1295.38 1546.72 Q1295.38 1541.66 1293.41 1539.14 Q1291.44 1536.63 1287.49 1536.63 Q1282.75 1536.63 1280.01 1539.65 Q1277.27 1542.68 1277.27 1547.9 L1277.27 1568.04 L1271.38 1568.04 L1271.38 1532.4 L1277.27 1532.4 L1277.27 1537.93 Q1279.37 1534.72 1282.21 1533.13 Q1285.07 1531.54 1288.79 1531.54 Q1294.94 1531.54 1298.09 1535.36 Q1301.24 1539.14 1301.24 1546.53 Z\" fill=\"#000000\" fill-rule=\"nonzero\" fill-opacity=\"1\" /><polyline clip-path=\"url(#clip132)\" style=\"stroke:#000000; stroke-linecap:round; stroke-linejoin:round; stroke-width:2; stroke-opacity:0.1; fill:none\" points=\"219.866,1215.2 2352.76,1215.2 \"/>\n",
       "<polyline clip-path=\"url(#clip132)\" style=\"stroke:#000000; stroke-linecap:round; stroke-linejoin:round; stroke-width:2; stroke-opacity:0.1; fill:none\" points=\"219.866,1006.51 2352.76,1006.51 \"/>\n",
       "<polyline clip-path=\"url(#clip132)\" style=\"stroke:#000000; stroke-linecap:round; stroke-linejoin:round; stroke-width:2; stroke-opacity:0.1; fill:none\" points=\"219.866,797.819 2352.76,797.819 \"/>\n",
       "<polyline clip-path=\"url(#clip132)\" style=\"stroke:#000000; stroke-linecap:round; stroke-linejoin:round; stroke-width:2; stroke-opacity:0.1; fill:none\" points=\"219.866,589.129 2352.76,589.129 \"/>\n",
       "<polyline clip-path=\"url(#clip132)\" style=\"stroke:#000000; stroke-linecap:round; stroke-linejoin:round; stroke-width:2; stroke-opacity:0.1; fill:none\" points=\"219.866,380.439 2352.76,380.439 \"/>\n",
       "<polyline clip-path=\"url(#clip132)\" style=\"stroke:#000000; stroke-linecap:round; stroke-linejoin:round; stroke-width:2; stroke-opacity:0.1; fill:none\" points=\"219.866,171.749 2352.76,171.749 \"/>\n",
       "<polyline clip-path=\"url(#clip130)\" style=\"stroke:#000000; stroke-linecap:round; stroke-linejoin:round; stroke-width:4; stroke-opacity:1; fill:none\" points=\"219.866,1423.18 219.866,47.2441 \"/>\n",
       "<polyline clip-path=\"url(#clip130)\" style=\"stroke:#000000; stroke-linecap:round; stroke-linejoin:round; stroke-width:4; stroke-opacity:1; fill:none\" points=\"219.866,1215.2 238.764,1215.2 \"/>\n",
       "<polyline clip-path=\"url(#clip130)\" style=\"stroke:#000000; stroke-linecap:round; stroke-linejoin:round; stroke-width:4; stroke-opacity:1; fill:none\" points=\"219.866,1006.51 238.764,1006.51 \"/>\n",
       "<polyline clip-path=\"url(#clip130)\" style=\"stroke:#000000; stroke-linecap:round; stroke-linejoin:round; stroke-width:4; stroke-opacity:1; fill:none\" points=\"219.866,797.819 238.764,797.819 \"/>\n",
       "<polyline clip-path=\"url(#clip130)\" style=\"stroke:#000000; stroke-linecap:round; stroke-linejoin:round; stroke-width:4; stroke-opacity:1; fill:none\" points=\"219.866,589.129 238.764,589.129 \"/>\n",
       "<polyline clip-path=\"url(#clip130)\" style=\"stroke:#000000; stroke-linecap:round; stroke-linejoin:round; stroke-width:4; stroke-opacity:1; fill:none\" points=\"219.866,380.439 238.764,380.439 \"/>\n",
       "<polyline clip-path=\"url(#clip130)\" style=\"stroke:#000000; stroke-linecap:round; stroke-linejoin:round; stroke-width:4; stroke-opacity:1; fill:none\" points=\"219.866,171.749 238.764,171.749 \"/>\n",
       "<path clip-path=\"url(#clip130)\" d=\"M127.917 1201 Q124.306 1201 122.478 1204.56 Q120.672 1208.1 120.672 1215.23 Q120.672 1222.34 122.478 1225.91 Q124.306 1229.45 127.917 1229.45 Q131.552 1229.45 133.357 1225.91 Q135.186 1222.34 135.186 1215.23 Q135.186 1208.1 133.357 1204.56 Q131.552 1201 127.917 1201 M127.917 1197.29 Q133.728 1197.29 136.783 1201.9 Q139.862 1206.48 139.862 1215.23 Q139.862 1223.96 136.783 1228.57 Q133.728 1233.15 127.917 1233.15 Q122.107 1233.15 119.029 1228.57 Q115.973 1223.96 115.973 1215.23 Q115.973 1206.48 119.029 1201.9 Q122.107 1197.29 127.917 1197.29 Z\" fill=\"#000000\" fill-rule=\"nonzero\" fill-opacity=\"1\" /><path clip-path=\"url(#clip130)\" d=\"M148.079 1226.6 L152.964 1226.6 L152.964 1232.48 L148.079 1232.48 L148.079 1226.6 Z\" fill=\"#000000\" fill-rule=\"nonzero\" fill-opacity=\"1\" /><path clip-path=\"url(#clip130)\" d=\"M163.959 1228.54 L171.598 1228.54 L171.598 1202.18 L163.288 1203.85 L163.288 1199.59 L171.552 1197.92 L176.227 1197.92 L176.227 1228.54 L183.866 1228.54 L183.866 1232.48 L163.959 1232.48 L163.959 1228.54 Z\" fill=\"#000000\" fill-rule=\"nonzero\" fill-opacity=\"1\" /><path clip-path=\"url(#clip130)\" d=\"M128.288 992.308 Q124.677 992.308 122.848 995.873 Q121.043 999.414 121.043 1006.54 Q121.043 1013.65 122.848 1017.22 Q124.677 1020.76 128.288 1020.76 Q131.922 1020.76 133.728 1017.22 Q135.556 1013.65 135.556 1006.54 Q135.556 999.414 133.728 995.873 Q131.922 992.308 128.288 992.308 M128.288 988.604 Q134.098 988.604 137.154 993.211 Q140.232 997.794 140.232 1006.54 Q140.232 1015.27 137.154 1019.88 Q134.098 1024.46 128.288 1024.46 Q122.478 1024.46 119.399 1019.88 Q116.343 1015.27 116.343 1006.54 Q116.343 997.794 119.399 993.211 Q122.478 988.604 128.288 988.604 Z\" fill=\"#000000\" fill-rule=\"nonzero\" fill-opacity=\"1\" /><path clip-path=\"url(#clip130)\" d=\"M148.45 1017.91 L153.334 1017.91 L153.334 1023.79 L148.45 1023.79 L148.45 1017.91 Z\" fill=\"#000000\" fill-rule=\"nonzero\" fill-opacity=\"1\" /><path clip-path=\"url(#clip130)\" d=\"M167.547 1019.85 L183.866 1019.85 L183.866 1023.79 L161.922 1023.79 L161.922 1019.85 Q164.584 1017.1 169.167 1012.47 Q173.774 1007.82 174.954 1006.47 Q177.2 1003.95 178.079 1002.22 Q178.982 1000.46 178.982 998.766 Q178.982 996.012 177.038 994.275 Q175.116 992.539 172.014 992.539 Q169.815 992.539 167.362 993.303 Q164.931 994.067 162.153 995.618 L162.153 990.896 Q164.977 989.762 167.431 989.183 Q169.885 988.604 171.922 988.604 Q177.292 988.604 180.487 991.289 Q183.681 993.974 183.681 998.465 Q183.681 1000.59 182.871 1002.52 Q182.084 1004.41 179.977 1007.01 Q179.399 1007.68 176.297 1010.9 Q173.195 1014.09 167.547 1019.85 Z\" fill=\"#000000\" fill-rule=\"nonzero\" fill-opacity=\"1\" /><path clip-path=\"url(#clip130)\" d=\"M127.339 783.618 Q123.728 783.618 121.899 787.182 Q120.093 790.724 120.093 797.854 Q120.093 804.96 121.899 808.525 Q123.728 812.067 127.339 812.067 Q130.973 812.067 132.779 808.525 Q134.607 804.96 134.607 797.854 Q134.607 790.724 132.779 787.182 Q130.973 783.618 127.339 783.618 M127.339 779.914 Q133.149 779.914 136.204 784.52 Q139.283 789.104 139.283 797.854 Q139.283 806.581 136.204 811.187 Q133.149 815.77 127.339 815.77 Q121.529 815.77 118.45 811.187 Q115.394 806.581 115.394 797.854 Q115.394 789.104 118.45 784.52 Q121.529 779.914 127.339 779.914 Z\" fill=\"#000000\" fill-rule=\"nonzero\" fill-opacity=\"1\" /><path clip-path=\"url(#clip130)\" d=\"M147.501 809.219 L152.385 809.219 L152.385 815.099 L147.501 815.099 L147.501 809.219 Z\" fill=\"#000000\" fill-rule=\"nonzero\" fill-opacity=\"1\" /><path clip-path=\"url(#clip130)\" d=\"M176.737 796.465 Q180.093 797.182 181.968 799.451 Q183.866 801.719 183.866 805.053 Q183.866 810.168 180.348 812.969 Q176.829 815.77 170.348 815.77 Q168.172 815.77 165.857 815.33 Q163.565 814.914 161.112 814.057 L161.112 809.543 Q163.056 810.678 165.371 811.256 Q167.686 811.835 170.209 811.835 Q174.607 811.835 176.899 810.099 Q179.214 808.363 179.214 805.053 Q179.214 801.997 177.061 800.284 Q174.931 798.548 171.112 798.548 L167.084 798.548 L167.084 794.706 L171.297 794.706 Q174.746 794.706 176.575 793.34 Q178.403 791.951 178.403 789.358 Q178.403 786.696 176.505 785.284 Q174.63 783.849 171.112 783.849 Q169.19 783.849 166.991 784.266 Q164.792 784.683 162.153 785.562 L162.153 781.395 Q164.815 780.655 167.13 780.284 Q169.468 779.914 171.528 779.914 Q176.852 779.914 179.954 782.345 Q183.056 784.752 183.056 788.872 Q183.056 791.743 181.413 793.733 Q179.769 795.701 176.737 796.465 Z\" fill=\"#000000\" fill-rule=\"nonzero\" fill-opacity=\"1\" /><path clip-path=\"url(#clip130)\" d=\"M126.205 574.928 Q122.593 574.928 120.765 578.492 Q118.959 582.034 118.959 589.164 Q118.959 596.27 120.765 599.835 Q122.593 603.376 126.205 603.376 Q129.839 603.376 131.644 599.835 Q133.473 596.27 133.473 589.164 Q133.473 582.034 131.644 578.492 Q129.839 574.928 126.205 574.928 M126.205 571.224 Q132.015 571.224 135.07 575.83 Q138.149 580.414 138.149 589.164 Q138.149 597.89 135.07 602.497 Q132.015 607.08 126.205 607.08 Q120.394 607.08 117.316 602.497 Q114.26 597.89 114.26 589.164 Q114.26 580.414 117.316 575.83 Q120.394 571.224 126.205 571.224 Z\" fill=\"#000000\" fill-rule=\"nonzero\" fill-opacity=\"1\" /><path clip-path=\"url(#clip130)\" d=\"M146.366 600.529 L151.251 600.529 L151.251 606.409 L146.366 606.409 L146.366 600.529 Z\" fill=\"#000000\" fill-rule=\"nonzero\" fill-opacity=\"1\" /><path clip-path=\"url(#clip130)\" d=\"M174.283 575.923 L162.477 594.372 L174.283 594.372 L174.283 575.923 M173.056 571.849 L178.936 571.849 L178.936 594.372 L183.866 594.372 L183.866 598.261 L178.936 598.261 L178.936 606.409 L174.283 606.409 L174.283 598.261 L158.681 598.261 L158.681 593.747 L173.056 571.849 Z\" fill=\"#000000\" fill-rule=\"nonzero\" fill-opacity=\"1\" /><path clip-path=\"url(#clip130)\" d=\"M127.686 366.237 Q124.075 366.237 122.246 369.802 Q120.441 373.344 120.441 380.473 Q120.441 387.58 122.246 391.145 Q124.075 394.686 127.686 394.686 Q131.32 394.686 133.126 391.145 Q134.954 387.58 134.954 380.473 Q134.954 373.344 133.126 369.802 Q131.32 366.237 127.686 366.237 M127.686 362.534 Q133.496 362.534 136.552 367.14 Q139.63 371.724 139.63 380.473 Q139.63 389.2 136.552 393.807 Q133.496 398.39 127.686 398.39 Q121.876 398.39 118.797 393.807 Q115.742 389.2 115.742 380.473 Q115.742 371.724 118.797 367.14 Q121.876 362.534 127.686 362.534 Z\" fill=\"#000000\" fill-rule=\"nonzero\" fill-opacity=\"1\" /><path clip-path=\"url(#clip130)\" d=\"M147.848 391.839 L152.732 391.839 L152.732 397.719 L147.848 397.719 L147.848 391.839 Z\" fill=\"#000000\" fill-rule=\"nonzero\" fill-opacity=\"1\" /><path clip-path=\"url(#clip130)\" d=\"M162.964 363.159 L181.32 363.159 L181.32 367.094 L167.246 367.094 L167.246 375.566 Q168.264 375.219 169.283 375.057 Q170.302 374.872 171.32 374.872 Q177.107 374.872 180.487 378.043 Q183.866 381.214 183.866 386.631 Q183.866 392.21 180.394 395.311 Q176.922 398.39 170.602 398.39 Q168.427 398.39 166.158 398.02 Q163.913 397.649 161.505 396.909 L161.505 392.21 Q163.589 393.344 165.811 393.899 Q168.033 394.455 170.51 394.455 Q174.514 394.455 176.852 392.348 Q179.19 390.242 179.19 386.631 Q179.19 383.02 176.852 380.913 Q174.514 378.807 170.51 378.807 Q168.635 378.807 166.76 379.223 Q164.908 379.64 162.964 380.52 L162.964 363.159 Z\" fill=\"#000000\" fill-rule=\"nonzero\" fill-opacity=\"1\" /><path clip-path=\"url(#clip130)\" d=\"M126.529 157.547 Q122.918 157.547 121.089 161.112 Q119.283 164.654 119.283 171.783 Q119.283 178.89 121.089 182.455 Q122.918 185.996 126.529 185.996 Q130.163 185.996 131.968 182.455 Q133.797 178.89 133.797 171.783 Q133.797 164.654 131.968 161.112 Q130.163 157.547 126.529 157.547 M126.529 153.844 Q132.339 153.844 135.394 158.45 Q138.473 163.033 138.473 171.783 Q138.473 180.51 135.394 185.117 Q132.339 189.7 126.529 189.7 Q120.718 189.7 117.64 185.117 Q114.584 180.51 114.584 171.783 Q114.584 163.033 117.64 158.45 Q120.718 153.844 126.529 153.844 Z\" fill=\"#000000\" fill-rule=\"nonzero\" fill-opacity=\"1\" /><path clip-path=\"url(#clip130)\" d=\"M146.691 183.149 L151.575 183.149 L151.575 189.029 L146.691 189.029 L146.691 183.149 Z\" fill=\"#000000\" fill-rule=\"nonzero\" fill-opacity=\"1\" /><path clip-path=\"url(#clip130)\" d=\"M172.339 169.885 Q169.19 169.885 167.339 172.038 Q165.51 174.191 165.51 177.941 Q165.51 181.668 167.339 183.843 Q169.19 185.996 172.339 185.996 Q175.487 185.996 177.315 183.843 Q179.167 181.668 179.167 177.941 Q179.167 174.191 177.315 172.038 Q175.487 169.885 172.339 169.885 M181.621 155.233 L181.621 159.492 Q179.862 158.658 178.056 158.219 Q176.274 157.779 174.514 157.779 Q169.885 157.779 167.431 160.904 Q165.001 164.029 164.653 170.348 Q166.019 168.334 168.079 167.269 Q170.139 166.182 172.616 166.182 Q177.825 166.182 180.834 169.353 Q183.866 172.501 183.866 177.941 Q183.866 183.265 180.718 186.482 Q177.57 189.7 172.339 189.7 Q166.343 189.7 163.172 185.117 Q160.001 180.51 160.001 171.783 Q160.001 163.589 163.89 158.728 Q167.778 153.844 174.329 153.844 Q176.089 153.844 177.871 154.191 Q179.676 154.538 181.621 155.233 Z\" fill=\"#000000\" fill-rule=\"nonzero\" fill-opacity=\"1\" /><path clip-path=\"url(#clip130)\" d=\"M18.2347 847.758 L28.3562 847.758 L28.3562 835.695 L32.9077 835.695 L32.9077 847.758 L52.2594 847.758 Q56.6199 847.758 57.8613 846.58 Q59.1026 845.371 59.1026 841.71 L59.1026 835.695 L64.0042 835.695 L64.0042 841.71 Q64.0042 848.49 61.4897 851.068 Q58.9434 853.646 52.2594 853.646 L32.9077 853.646 L32.9077 857.943 L28.3562 857.943 L28.3562 853.646 L18.2347 853.646 L18.2347 847.758 Z\" fill=\"#000000\" fill-rule=\"nonzero\" fill-opacity=\"1\" /><path clip-path=\"url(#clip130)\" d=\"M28.3562 827.992 L28.3562 822.136 L64.0042 822.136 L64.0042 827.992 L28.3562 827.992 M14.479 827.992 L14.479 822.136 L21.895 822.136 L21.895 827.992 L14.479 827.992 Z\" fill=\"#000000\" fill-rule=\"nonzero\" fill-opacity=\"1\" /><path clip-path=\"url(#clip130)\" d=\"M35.1993 782.127 Q31.2526 779.931 29.3747 776.876 Q27.4968 773.82 27.4968 769.682 Q27.4968 764.112 31.4117 761.089 Q35.2948 758.065 42.4881 758.065 L64.0042 758.065 L64.0042 763.953 L42.679 763.953 Q37.5546 763.953 35.072 765.767 Q32.5894 767.582 32.5894 771.306 Q32.5894 775.857 35.6131 778.499 Q38.6368 781.141 43.8567 781.141 L64.0042 781.141 L64.0042 787.029 L42.679 787.029 Q37.5228 787.029 35.072 788.843 Q32.5894 790.657 32.5894 794.445 Q32.5894 798.933 35.6449 801.574 Q38.6686 804.216 43.8567 804.216 L64.0042 804.216 L64.0042 810.105 L28.3562 810.105 L28.3562 804.216 L33.8944 804.216 Q30.616 802.211 29.0564 799.41 Q27.4968 796.609 27.4968 792.758 Q27.4968 788.875 29.4702 786.169 Q31.4436 783.432 35.1993 782.127 Z\" fill=\"#000000\" fill-rule=\"nonzero\" fill-opacity=\"1\" /><path clip-path=\"url(#clip130)\" d=\"M44.7161 715.892 L47.5806 715.892 L47.5806 742.819 Q53.6281 742.437 56.8109 739.191 Q59.9619 735.912 59.9619 730.088 Q59.9619 726.714 59.1344 723.563 Q58.3069 720.38 56.6518 717.261 L62.1899 717.261 Q63.5267 720.412 64.227 723.722 Q64.9272 727.032 64.9272 730.438 Q64.9272 738.968 59.9619 743.965 Q54.9967 748.93 46.5303 748.93 Q37.7774 748.93 32.6531 744.219 Q27.4968 739.477 27.4968 731.456 Q27.4968 724.263 32.1438 720.093 Q36.7589 715.892 44.7161 715.892 M42.9973 721.748 Q38.1912 721.812 35.3266 724.454 Q32.4621 727.064 32.4621 731.393 Q32.4621 736.294 35.2312 739.254 Q38.0002 742.182 43.0292 742.628 L42.9973 721.748 Z\" fill=\"#000000\" fill-rule=\"nonzero\" fill-opacity=\"1\" /><path clip-path=\"url(#clip130)\" d=\"M14.5426 671.491 Q21.8632 675.756 29.0246 677.825 Q36.186 679.894 43.5384 679.894 Q50.8908 679.894 58.1159 677.825 Q65.3091 675.724 72.5979 671.491 L72.5979 676.584 Q65.1182 681.358 57.8931 683.745 Q50.668 686.101 43.5384 686.101 Q36.4406 686.101 29.2474 683.745 Q22.0542 681.39 14.5426 676.584 L14.5426 671.491 Z\" fill=\"#000000\" fill-rule=\"nonzero\" fill-opacity=\"1\" /><path clip-path=\"url(#clip130)\" d=\"M29.4065 637.403 L34.9447 637.403 Q33.6716 639.886 33.035 642.559 Q32.3984 645.233 32.3984 648.097 Q32.3984 652.458 33.7352 654.654 Q35.072 656.818 37.7456 656.818 Q39.7826 656.818 40.9603 655.259 Q42.1061 653.699 43.1565 648.988 L43.6021 646.983 Q44.9389 640.745 47.3897 638.135 Q49.8086 635.493 54.1691 635.493 Q59.1344 635.493 62.0308 639.44 Q64.9272 643.355 64.9272 650.23 Q64.9272 653.094 64.3543 656.214 Q63.8132 659.301 62.6992 662.738 L56.6518 662.738 Q58.3387 659.492 59.198 656.341 Q60.0256 653.19 60.0256 650.102 Q60.0256 645.965 58.6251 643.737 Q57.1929 641.509 54.6147 641.509 Q52.2276 641.509 50.9545 643.132 Q49.6813 644.723 48.5037 650.166 L48.0262 652.203 Q46.8804 657.646 44.5251 660.065 Q42.138 662.484 38.0002 662.484 Q32.9713 662.484 30.2341 658.919 Q27.4968 655.354 27.4968 648.798 Q27.4968 645.551 27.9743 642.686 Q28.4517 639.822 29.4065 637.403 Z\" fill=\"#000000\" fill-rule=\"nonzero\" fill-opacity=\"1\" /><path clip-path=\"url(#clip130)\" d=\"M14.5426 627.09 L14.5426 621.998 Q22.0542 617.224 29.2474 614.868 Q36.4406 612.481 43.5384 612.481 Q50.668 612.481 57.8931 614.868 Q65.1182 617.224 72.5979 621.998 L72.5979 627.09 Q65.3091 622.857 58.1159 620.788 Q50.8908 618.688 43.5384 618.688 Q36.186 618.688 29.0246 620.788 Q21.8632 622.857 14.5426 627.09 Z\" fill=\"#000000\" fill-rule=\"nonzero\" fill-opacity=\"1\" /><circle clip-path=\"url(#clip132)\" cx=\"280.231\" cy=\"1384.24\" r=\"14.4\" fill=\"#009af9\" fill-rule=\"evenodd\" fill-opacity=\"1\" stroke=\"#000000\" stroke-opacity=\"1\" stroke-width=\"3.2\"/>\n",
       "<circle clip-path=\"url(#clip132)\" cx=\"567.683\" cy=\"1302.85\" r=\"14.4\" fill=\"#009af9\" fill-rule=\"evenodd\" fill-opacity=\"1\" stroke=\"#000000\" stroke-opacity=\"1\" stroke-width=\"3.2\"/>\n",
       "<circle clip-path=\"url(#clip132)\" cx=\"855.134\" cy=\"1085.81\" r=\"14.4\" fill=\"#009af9\" fill-rule=\"evenodd\" fill-opacity=\"1\" stroke=\"#000000\" stroke-opacity=\"1\" stroke-width=\"3.2\"/>\n",
       "<circle clip-path=\"url(#clip132)\" cx=\"1142.59\" cy=\"914.685\" r=\"14.4\" fill=\"#009af9\" fill-rule=\"evenodd\" fill-opacity=\"1\" stroke=\"#000000\" stroke-opacity=\"1\" stroke-width=\"3.2\"/>\n",
       "<circle clip-path=\"url(#clip132)\" cx=\"1717.49\" cy=\"645.475\" r=\"14.4\" fill=\"#009af9\" fill-rule=\"evenodd\" fill-opacity=\"1\" stroke=\"#000000\" stroke-opacity=\"1\" stroke-width=\"3.2\"/>\n",
       "<circle clip-path=\"url(#clip132)\" cx=\"2292.39\" cy=\"86.1857\" r=\"14.4\" fill=\"#009af9\" fill-rule=\"evenodd\" fill-opacity=\"1\" stroke=\"#000000\" stroke-opacity=\"1\" stroke-width=\"3.2\"/>\n",
       "</svg>\n"
      ]
     },
     "execution_count": 29,
     "metadata": {},
     "output_type": "execute_result"
    }
   ],
   "source": [
    "scatter(ns, ndouble, xaxis = \"n\", yaxis = \"time (s)\", legend=false )\n"
   ]
  },
  {
   "cell_type": "code",
   "execution_count": 30,
   "id": "6ac8f7d9",
   "metadata": {},
   "outputs": [
    {
     "data": {
      "text/plain": [
       "JuMPspeedn (generic function with 1 method)"
      ]
     },
     "execution_count": 30,
     "metadata": {},
     "output_type": "execute_result"
    }
   ],
   "source": [
    "begin\n",
    "\tfunction JuMPspeedn(n,C)\n",
    "\t\tmodel = Model(SCS.Optimizer)\n",
    "\t\t@variable(model, X[1:n,1:n], PSD)\n",
    "\t\tfor i in 1:n\n",
    "\t\t@constraint(model, X[i,i] == 1)\n",
    "\t\tend\n",
    "\t\t@constraint(model, X ≥ 0, PSDCone())\n",
    "\t\t@objective(model, Min, sum(C.*X))\n",
    "\t\toptimize!(model)\n",
    "\t\treturn value(X)\n",
    "\tend\n",
    "end"
   ]
  },
  {
   "cell_type": "code",
   "execution_count": 31,
   "id": "00035073",
   "metadata": {},
   "outputs": [
    {
     "name": "stdout",
     "output_type": "stream",
     "text": [
      "  0.647798 seconds (81.18 k allocations: 6.325 MiB, 0.52% compilation time)\n",
      "  2.638881 seconds (311.27 k allocations: 25.640 MiB)\n",
      " 14.065179 seconds (1.23 M allocations: 97.339 MiB)\n",
      " 32.034368 seconds (2.76 M allocations: 224.762 MiB, 1.08% gc time)\n",
      "------------------------------------------------------------------\n",
      "\t       SCS v3.2.3 - Splitting Conic Solver\n",
      "\t(c) Brendan O'Donoghue, Stanford University, 2012\n",
      "------------------------------------------------------------------\n",
      "problem:  variables n: 1275, constraints m: 2600\n",
      "cones: \t  z: primal zero / dual free vars: 50\n",
      "\t  s: psd vars: 2550, ssize: 2\n",
      "settings: eps_abs: 1.0e-04, eps_rel: 1.0e-04, eps_infeas: 1.0e-07\n",
      "\t  alpha: 1.50, scale: 1.00e-01, adaptive_scale: 1\n",
      "\t  max_iters: 100000, normalize: 1, rho_x: 1.00e-06\n",
      "\t  acceleration_lookback: 10, acceleration_interval: 10\n",
      "lin-sys:  sparse-direct-amd-qdldl\n",
      "\t  nnz(A): 2600, nnz(P): 0\n",
      "------------------------------------------------------------------\n",
      " iter | pri res | dua res |   gap   |   obj   |  scale  | time (s)\n",
      "------------------------------------------------------------------\n",
      "     0| 2.57e+01  3.95e+00  1.78e+04 -8.89e+03  1.00e-01  6.71e-03 \n",
      "   150| 2.32e-05  4.08e-06  3.30e-06 -3.14e+02  3.54e-01  6.36e-01 \n",
      "------------------------------------------------------------------\n",
      "status:  solved\n",
      "timings: total: 6.36e-01s = setup: 2.97e-03s + solve: 6.33e-01s\n",
      "\t lin-sys: 6.37e-03s, cones: 5.63e-01s, accel: 5.17e-03s\n",
      "------------------------------------------------------------------\n",
      "objective = -313.717444\n",
      "------------------------------------------------------------------\n",
      "------------------------------------------------------------------\n",
      "\t       SCS v3.2.3 - Splitting Conic Solver\n",
      "\t(c) Brendan O'Donoghue, Stanford University, 2012\n",
      "------------------------------------------------------------------\n",
      "problem:  variables n: 5050, constraints m: 10200\n",
      "cones: \t  z: primal zero / dual free vars: 100\n",
      "\t  s: psd vars: 10100, ssize: 2\n",
      "settings: eps_abs: 1.0e-04, eps_rel: 1.0e-04, eps_infeas: 1.0e-07\n",
      "\t  alpha: 1.50, scale: 1.00e-01, adaptive_scale: 1\n",
      "\t  max_iters: 100000, normalize: 1, rho_x: 1.00e-06\n",
      "\t  acceleration_lookback: 10, acceleration_interval: 10\n",
      "lin-sys:  sparse-direct-amd-qdldl\n",
      "\t  nnz(A): 10200, nnz(P): 0\n",
      "------------------------------------------------------------------\n",
      " iter | pri res | dua res |   gap   |   obj   |  scale  | time (s)\n",
      "------------------------------------------------------------------\n",
      "     0| 3.43e+01  5.15e+00  6.88e+04 -3.44e+04  1.00e-01  2.24e-02 \n",
      "   175| 1.69e-04  2.37e-05  1.44e-04 -9.08e+02  3.39e-01  2.61e+00 \n",
      "------------------------------------------------------------------\n",
      "status:  solved\n",
      "timings: total: 2.61e+00s = setup: 1.14e-02s + solve: 2.60e+00s\n",
      "\t lin-sys: 4.58e-02s, cones: 2.26e+00s, accel: 2.58e-02s\n",
      "------------------------------------------------------------------\n",
      "objective = -907.775696\n",
      "------------------------------------------------------------------\n",
      "------------------------------------------------------------------\n",
      "\t       SCS v3.2.3 - Splitting Conic Solver\n",
      "\t(c) Brendan O'Donoghue, Stanford University, 2012\n",
      "------------------------------------------------------------------\n",
      "problem:  variables n: 20100, constraints m: 40400\n",
      "cones: \t  z: primal zero / dual free vars: 200\n",
      "\t  s: psd vars: 40200, ssize: 2\n",
      "settings: eps_abs: 1.0e-04, eps_rel: 1.0e-04, eps_infeas: 1.0e-07\n",
      "\t  alpha: 1.50, scale: 1.00e-01, adaptive_scale: 1\n",
      "\t  max_iters: 100000, normalize: 1, rho_x: 1.00e-06\n",
      "\t  acceleration_lookback: 10, acceleration_interval: 10\n",
      "lin-sys:  sparse-direct-amd-qdldl\n",
      "\t  nnz(A): 40400, nnz(P): 0\n",
      "------------------------------------------------------------------\n",
      " iter | pri res | dua res |   gap   |   obj   |  scale  | time (s)\n",
      "------------------------------------------------------------------\n",
      "     0| 4.73e+01  6.98e+00  2.82e+05 -1.41e+05  1.00e-01  9.46e-02 \n",
      "   225| 6.11e-05  3.42e-05  9.61e-05 -2.55e+03  1.21e+00  1.40e+01 \n",
      "------------------------------------------------------------------\n",
      "status:  solved\n",
      "timings: total: 1.40e+01s = setup: 4.59e-02s + solve: 1.39e+01s\n",
      "\t lin-sys: 2.21e-01s, cones: 1.22e+01s, accel: 1.20e-01s\n",
      "------------------------------------------------------------------\n",
      "objective = -2551.117940\n",
      "------------------------------------------------------------------\n",
      "------------------------------------------------------------------\n",
      "\t       SCS v3.2.3 - Splitting Conic Solver\n",
      "\t(c) Brendan O'Donoghue, Stanford University, 2012\n",
      "------------------------------------------------------------------\n",
      "problem:  variables n: 45150, constraints m: 90600\n",
      "cones: \t  z: primal zero / dual free vars: 300\n",
      "\t  s: psd vars: 90300, ssize: 2\n",
      "settings: eps_abs: 1.0e-04, eps_rel: 1.0e-04, eps_infeas: 1.0e-07\n",
      "\t  alpha: 1.50, scale: 1.00e-01, adaptive_scale: 1\n",
      "\t  max_iters: 100000, normalize: 1, rho_x: 1.00e-06\n",
      "\t  acceleration_lookback: 10, acceleration_interval: 10\n",
      "lin-sys:  sparse-direct-amd-qdldl\n",
      "\t  nnz(A): 90600, nnz(P): 0\n",
      "------------------------------------------------------------------\n",
      " iter | pri res | dua res |   gap   |   obj   |  scale  | time (s)\n",
      "------------------------------------------------------------------\n",
      "     0| 5.61e+01  8.23e+00  6.36e+05 -3.18e+05  1.00e-01  2.19e-01 \n",
      "   225| 1.07e-04  1.54e-05  5.62e-06 -4.86e+03  4.52e-01  3.15e+01 \n",
      "------------------------------------------------------------------\n",
      "status:  solved\n",
      "timings: total: 3.15e+01s = setup: 8.34e-02s + solve: 3.14e+01s\n",
      "\t lin-sys: 4.02e-01s, cones: 2.76e+01s, accel: 3.40e-01s\n",
      "------------------------------------------------------------------\n",
      "objective = -4860.901443\n",
      "------------------------------------------------------------------\n"
     ]
    },
    {
     "data": {
      "text/plain": [
       "300×300 Symmetric{Float64, Matrix{Float64}}:\n",
       "  1.0        0.299006    0.377775   -0.207608    …   0.457817    0.480828\n",
       "  0.299006   1.0         0.435523   -0.710157       -0.231278    0.420394\n",
       "  0.377775   0.435523    1.0        -0.448912        0.108726    0.515319\n",
       " -0.207608  -0.710157   -0.448912    1.0             0.0703333  -0.600566\n",
       " -0.386503  -0.817181   -0.694068    0.608051        0.185516   -0.219797\n",
       "  0.249421   0.148713    0.338622   -0.71991     …   0.504207    0.617215\n",
       " -0.209666  -0.687041   -0.633842    0.890284        0.0389057  -0.576434\n",
       " -0.26318   -0.0465779  -0.0499592   0.172109       -0.312332   -0.776619\n",
       " -0.536334  -0.616047   -0.0516379   0.235094       -0.210402   -0.331766\n",
       "  0.8482     0.187004   -0.0302595  -0.0722674       0.558665    0.24768\n",
       "  0.207624  -0.316253    0.577585   -0.00356358  …   0.0644511   0.0896886\n",
       " -0.263805   0.0621701   0.310065    0.203623       -0.649947   -0.414686\n",
       " -0.269311   0.243437    0.549493   -0.472261       -0.592081    0.30208\n",
       "  ⋮                                              ⋱              \n",
       " -0.358273   0.427591    0.295844   -0.460552        0.0339144   0.164309\n",
       " -0.286479   0.0679359  -0.415911    0.126256        0.174068   -0.647564\n",
       "  0.845429  -0.220244    0.216919    0.141518    …   0.523201    0.284434\n",
       " -0.423315  -0.499947   -0.576244    0.413515       -0.533093   -0.683748\n",
       " -0.828072   0.132826   -0.146679   -0.168496       -0.586148   -0.361909\n",
       " -0.462502  -0.0467233   0.275024    0.0831574      -0.713872   -0.325852\n",
       " -0.785537  -0.304488   -0.765335    0.226273       -0.453353   -0.469053\n",
       " -0.313878   0.325005   -0.0134352  -0.680091    …  -0.0585918   0.479701\n",
       "  0.137061  -0.287664   -0.684108    0.545972        0.184831   -0.20933\n",
       " -0.494335  -0.36262    -0.549698    0.786239       -0.182359   -0.596959\n",
       "  0.457817  -0.231278    0.108726    0.0703333       1.0         0.16764\n",
       "  0.480828   0.420394    0.515319   -0.600566        0.16764     1.0"
      ]
     },
     "execution_count": 31,
     "metadata": {},
     "output_type": "execute_result"
    }
   ],
   "source": [
    "begin\n",
    "\t@time JuMPspeedn(50,Cn(50))\n",
    "\t@time JuMPspeedn(100,Cn(100))\n",
    "\t@time JuMPspeedn(200,Cn(200))\n",
    "\t@time JuMPspeedn(300,Cn(300))\n",
    "end"
   ]
  },
  {
   "cell_type": "code",
   "execution_count": 32,
   "id": "9345fd50",
   "metadata": {},
   "outputs": [
    {
     "data": {
      "text/plain": [
       "4-element Vector{Float64}:\n",
       "  0.232\n",
       "  1.29\n",
       "  9.54\n",
       " 29.57"
      ]
     },
     "execution_count": 32,
     "metadata": {},
     "output_type": "execute_result"
    }
   ],
   "source": [
    "begin\n",
    "JuMPns = [50, 100, 200, 300]\n",
    "JuMPtimes = [.232 ,1.29 ,9.54, 29.57]\n",
    "end"
   ]
  },
  {
   "cell_type": "code",
   "execution_count": 33,
   "id": "6a397484",
   "metadata": {},
   "outputs": [
    {
     "data": {
      "image/svg+xml": [
       "<?xml version=\"1.0\" encoding=\"utf-8\"?>\n",
       "<svg xmlns=\"http://www.w3.org/2000/svg\" xmlns:xlink=\"http://www.w3.org/1999/xlink\" width=\"600\" height=\"400\" viewBox=\"0 0 2400 1600\">\n",
       "<defs>\n",
       "  <clipPath id=\"clip170\">\n",
       "    <rect x=\"0\" y=\"0\" width=\"2400\" height=\"1600\"/>\n",
       "  </clipPath>\n",
       "</defs>\n",
       "<path clip-path=\"url(#clip170)\" d=\"M0 1600 L2400 1600 L2400 0 L0 0  Z\" fill=\"#ffffff\" fill-rule=\"evenodd\" fill-opacity=\"1\"/>\n",
       "<defs>\n",
       "  <clipPath id=\"clip171\">\n",
       "    <rect x=\"480\" y=\"0\" width=\"1681\" height=\"1600\"/>\n",
       "  </clipPath>\n",
       "</defs>\n",
       "<path clip-path=\"url(#clip170)\" d=\"M203.964 1423.18 L2352.76 1423.18 L2352.76 47.2441 L203.964 47.2441  Z\" fill=\"#ffffff\" fill-rule=\"evenodd\" fill-opacity=\"1\"/>\n",
       "<defs>\n",
       "  <clipPath id=\"clip172\">\n",
       "    <rect x=\"203\" y=\"47\" width=\"2150\" height=\"1377\"/>\n",
       "  </clipPath>\n",
       "</defs>\n",
       "<polyline clip-path=\"url(#clip172)\" style=\"stroke:#000000; stroke-linecap:round; stroke-linejoin:round; stroke-width:2; stroke-opacity:0.1; fill:none\" points=\"264.778,1423.18 264.778,47.2441 \"/>\n",
       "<polyline clip-path=\"url(#clip172)\" style=\"stroke:#000000; stroke-linecap:round; stroke-linejoin:round; stroke-width:2; stroke-opacity:0.1; fill:none\" points=\"670.211,1423.18 670.211,47.2441 \"/>\n",
       "<polyline clip-path=\"url(#clip172)\" style=\"stroke:#000000; stroke-linecap:round; stroke-linejoin:round; stroke-width:2; stroke-opacity:0.1; fill:none\" points=\"1075.64,1423.18 1075.64,47.2441 \"/>\n",
       "<polyline clip-path=\"url(#clip172)\" style=\"stroke:#000000; stroke-linecap:round; stroke-linejoin:round; stroke-width:2; stroke-opacity:0.1; fill:none\" points=\"1481.08,1423.18 1481.08,47.2441 \"/>\n",
       "<polyline clip-path=\"url(#clip172)\" style=\"stroke:#000000; stroke-linecap:round; stroke-linejoin:round; stroke-width:2; stroke-opacity:0.1; fill:none\" points=\"1886.51,1423.18 1886.51,47.2441 \"/>\n",
       "<polyline clip-path=\"url(#clip172)\" style=\"stroke:#000000; stroke-linecap:round; stroke-linejoin:round; stroke-width:2; stroke-opacity:0.1; fill:none\" points=\"2291.94,1423.18 2291.94,47.2441 \"/>\n",
       "<polyline clip-path=\"url(#clip170)\" style=\"stroke:#000000; stroke-linecap:round; stroke-linejoin:round; stroke-width:4; stroke-opacity:1; fill:none\" points=\"203.964,1423.18 2352.76,1423.18 \"/>\n",
       "<polyline clip-path=\"url(#clip170)\" style=\"stroke:#000000; stroke-linecap:round; stroke-linejoin:round; stroke-width:4; stroke-opacity:1; fill:none\" points=\"264.778,1423.18 264.778,1404.28 \"/>\n",
       "<polyline clip-path=\"url(#clip170)\" style=\"stroke:#000000; stroke-linecap:round; stroke-linejoin:round; stroke-width:4; stroke-opacity:1; fill:none\" points=\"670.211,1423.18 670.211,1404.28 \"/>\n",
       "<polyline clip-path=\"url(#clip170)\" style=\"stroke:#000000; stroke-linecap:round; stroke-linejoin:round; stroke-width:4; stroke-opacity:1; fill:none\" points=\"1075.64,1423.18 1075.64,1404.28 \"/>\n",
       "<polyline clip-path=\"url(#clip170)\" style=\"stroke:#000000; stroke-linecap:round; stroke-linejoin:round; stroke-width:4; stroke-opacity:1; fill:none\" points=\"1481.08,1423.18 1481.08,1404.28 \"/>\n",
       "<polyline clip-path=\"url(#clip170)\" style=\"stroke:#000000; stroke-linecap:round; stroke-linejoin:round; stroke-width:4; stroke-opacity:1; fill:none\" points=\"1886.51,1423.18 1886.51,1404.28 \"/>\n",
       "<polyline clip-path=\"url(#clip170)\" style=\"stroke:#000000; stroke-linecap:round; stroke-linejoin:round; stroke-width:4; stroke-opacity:1; fill:none\" points=\"2291.94,1423.18 2291.94,1404.28 \"/>\n",
       "<path clip-path=\"url(#clip170)\" d=\"M239.478 1451.02 L257.834 1451.02 L257.834 1454.96 L243.76 1454.96 L243.76 1463.43 Q244.779 1463.08 245.797 1462.92 Q246.816 1462.73 247.834 1462.73 Q253.621 1462.73 257.001 1465.9 Q260.38 1469.08 260.38 1474.49 Q260.38 1480.07 256.908 1483.17 Q253.436 1486.25 247.117 1486.25 Q244.941 1486.25 242.672 1485.88 Q240.427 1485.51 238.019 1484.77 L238.019 1480.07 Q240.103 1481.2 242.325 1481.76 Q244.547 1482.32 247.024 1482.32 Q251.029 1482.32 253.366 1480.21 Q255.704 1478.1 255.704 1474.49 Q255.704 1470.88 253.366 1468.77 Q251.029 1466.67 247.024 1466.67 Q245.149 1466.67 243.274 1467.08 Q241.422 1467.5 239.478 1468.38 L239.478 1451.02 Z\" fill=\"#000000\" fill-rule=\"nonzero\" fill-opacity=\"1\" /><path clip-path=\"url(#clip170)\" d=\"M279.593 1454.1 Q275.982 1454.1 274.153 1457.66 Q272.348 1461.2 272.348 1468.33 Q272.348 1475.44 274.153 1479.01 Q275.982 1482.55 279.593 1482.55 Q283.227 1482.55 285.033 1479.01 Q286.862 1475.44 286.862 1468.33 Q286.862 1461.2 285.033 1457.66 Q283.227 1454.1 279.593 1454.1 M279.593 1450.39 Q285.403 1450.39 288.459 1455 Q291.538 1459.58 291.538 1468.33 Q291.538 1477.06 288.459 1481.67 Q285.403 1486.25 279.593 1486.25 Q273.783 1486.25 270.704 1481.67 Q267.649 1477.06 267.649 1468.33 Q267.649 1459.58 270.704 1455 Q273.783 1450.39 279.593 1450.39 Z\" fill=\"#000000\" fill-rule=\"nonzero\" fill-opacity=\"1\" /><path clip-path=\"url(#clip170)\" d=\"M629.818 1481.64 L637.457 1481.64 L637.457 1455.28 L629.146 1456.95 L629.146 1452.69 L637.41 1451.02 L642.086 1451.02 L642.086 1481.64 L649.725 1481.64 L649.725 1485.58 L629.818 1485.58 L629.818 1481.64 Z\" fill=\"#000000\" fill-rule=\"nonzero\" fill-opacity=\"1\" /><path clip-path=\"url(#clip170)\" d=\"M669.169 1454.1 Q665.558 1454.1 663.73 1457.66 Q661.924 1461.2 661.924 1468.33 Q661.924 1475.44 663.73 1479.01 Q665.558 1482.55 669.169 1482.55 Q672.804 1482.55 674.609 1479.01 Q676.438 1475.44 676.438 1468.33 Q676.438 1461.2 674.609 1457.66 Q672.804 1454.1 669.169 1454.1 M669.169 1450.39 Q674.979 1450.39 678.035 1455 Q681.114 1459.58 681.114 1468.33 Q681.114 1477.06 678.035 1481.67 Q674.979 1486.25 669.169 1486.25 Q663.359 1486.25 660.28 1481.67 Q657.225 1477.06 657.225 1468.33 Q657.225 1459.58 660.28 1455 Q663.359 1450.39 669.169 1450.39 Z\" fill=\"#000000\" fill-rule=\"nonzero\" fill-opacity=\"1\" /><path clip-path=\"url(#clip170)\" d=\"M699.331 1454.1 Q695.72 1454.1 693.891 1457.66 Q692.086 1461.2 692.086 1468.33 Q692.086 1475.44 693.891 1479.01 Q695.72 1482.55 699.331 1482.55 Q702.965 1482.55 704.771 1479.01 Q706.6 1475.44 706.6 1468.33 Q706.6 1461.2 704.771 1457.66 Q702.965 1454.1 699.331 1454.1 M699.331 1450.39 Q705.141 1450.39 708.197 1455 Q711.276 1459.58 711.276 1468.33 Q711.276 1477.06 708.197 1481.67 Q705.141 1486.25 699.331 1486.25 Q693.521 1486.25 690.442 1481.67 Q687.387 1477.06 687.387 1468.33 Q687.387 1459.58 690.442 1455 Q693.521 1450.39 699.331 1450.39 Z\" fill=\"#000000\" fill-rule=\"nonzero\" fill-opacity=\"1\" /><path clip-path=\"url(#clip170)\" d=\"M1035.25 1481.64 L1042.89 1481.64 L1042.89 1455.28 L1034.58 1456.95 L1034.58 1452.69 L1042.84 1451.02 L1047.52 1451.02 L1047.52 1481.64 L1055.16 1481.64 L1055.16 1485.58 L1035.25 1485.58 L1035.25 1481.64 Z\" fill=\"#000000\" fill-rule=\"nonzero\" fill-opacity=\"1\" /><path clip-path=\"url(#clip170)\" d=\"M1064.65 1451.02 L1083 1451.02 L1083 1454.96 L1068.93 1454.96 L1068.93 1463.43 Q1069.95 1463.08 1070.97 1462.92 Q1071.99 1462.73 1073 1462.73 Q1078.79 1462.73 1082.17 1465.9 Q1085.55 1469.08 1085.55 1474.49 Q1085.55 1480.07 1082.08 1483.17 Q1078.61 1486.25 1072.29 1486.25 Q1070.11 1486.25 1067.84 1485.88 Q1065.6 1485.51 1063.19 1484.77 L1063.19 1480.07 Q1065.27 1481.2 1067.5 1481.76 Q1069.72 1482.32 1072.19 1482.32 Q1076.2 1482.32 1078.54 1480.21 Q1080.87 1478.1 1080.87 1474.49 Q1080.87 1470.88 1078.54 1468.77 Q1076.2 1466.67 1072.19 1466.67 Q1070.32 1466.67 1068.44 1467.08 Q1066.59 1467.5 1064.65 1468.38 L1064.65 1451.02 Z\" fill=\"#000000\" fill-rule=\"nonzero\" fill-opacity=\"1\" /><path clip-path=\"url(#clip170)\" d=\"M1104.76 1454.1 Q1101.15 1454.1 1099.32 1457.66 Q1097.52 1461.2 1097.52 1468.33 Q1097.52 1475.44 1099.32 1479.01 Q1101.15 1482.55 1104.76 1482.55 Q1108.4 1482.55 1110.2 1479.01 Q1112.03 1475.44 1112.03 1468.33 Q1112.03 1461.2 1110.2 1457.66 Q1108.4 1454.1 1104.76 1454.1 M1104.76 1450.39 Q1110.57 1450.39 1113.63 1455 Q1116.71 1459.58 1116.71 1468.33 Q1116.71 1477.06 1113.63 1481.67 Q1110.57 1486.25 1104.76 1486.25 Q1098.95 1486.25 1095.87 1481.67 Q1092.82 1477.06 1092.82 1468.33 Q1092.82 1459.58 1095.87 1455 Q1098.95 1450.39 1104.76 1450.39 Z\" fill=\"#000000\" fill-rule=\"nonzero\" fill-opacity=\"1\" /><path clip-path=\"url(#clip170)\" d=\"M1444.77 1481.64 L1461.09 1481.64 L1461.09 1485.58 L1439.14 1485.58 L1439.14 1481.64 Q1441.81 1478.89 1446.39 1474.26 Q1451 1469.61 1452.18 1468.27 Q1454.42 1465.74 1455.3 1464.01 Q1456.2 1462.25 1456.2 1460.56 Q1456.2 1457.8 1454.26 1456.07 Q1452.34 1454.33 1449.24 1454.33 Q1447.04 1454.33 1444.58 1455.09 Q1442.15 1455.86 1439.37 1457.41 L1439.37 1452.69 Q1442.2 1451.55 1444.65 1450.97 Q1447.11 1450.39 1449.14 1450.39 Q1454.51 1450.39 1457.71 1453.08 Q1460.9 1455.77 1460.9 1460.26 Q1460.9 1462.39 1460.09 1464.31 Q1459.31 1466.2 1457.2 1468.8 Q1456.62 1469.47 1453.52 1472.69 Q1450.42 1475.88 1444.77 1481.64 Z\" fill=\"#000000\" fill-rule=\"nonzero\" fill-opacity=\"1\" /><path clip-path=\"url(#clip170)\" d=\"M1480.9 1454.1 Q1477.29 1454.1 1475.46 1457.66 Q1473.66 1461.2 1473.66 1468.33 Q1473.66 1475.44 1475.46 1479.01 Q1477.29 1482.55 1480.9 1482.55 Q1484.54 1482.55 1486.34 1479.01 Q1488.17 1475.44 1488.17 1468.33 Q1488.17 1461.2 1486.34 1457.66 Q1484.54 1454.1 1480.9 1454.1 M1480.9 1450.39 Q1486.71 1450.39 1489.77 1455 Q1492.85 1459.58 1492.85 1468.33 Q1492.85 1477.06 1489.77 1481.67 Q1486.71 1486.25 1480.9 1486.25 Q1475.09 1486.25 1472.01 1481.67 Q1468.96 1477.06 1468.96 1468.33 Q1468.96 1459.58 1472.01 1455 Q1475.09 1450.39 1480.9 1450.39 Z\" fill=\"#000000\" fill-rule=\"nonzero\" fill-opacity=\"1\" /><path clip-path=\"url(#clip170)\" d=\"M1511.06 1454.1 Q1507.45 1454.1 1505.62 1457.66 Q1503.82 1461.2 1503.82 1468.33 Q1503.82 1475.44 1505.62 1479.01 Q1507.45 1482.55 1511.06 1482.55 Q1514.7 1482.55 1516.5 1479.01 Q1518.33 1475.44 1518.33 1468.33 Q1518.33 1461.2 1516.5 1457.66 Q1514.7 1454.1 1511.06 1454.1 M1511.06 1450.39 Q1516.87 1450.39 1519.93 1455 Q1523.01 1459.58 1523.01 1468.33 Q1523.01 1477.06 1519.93 1481.67 Q1516.87 1486.25 1511.06 1486.25 Q1505.25 1486.25 1502.18 1481.67 Q1499.12 1477.06 1499.12 1468.33 Q1499.12 1459.58 1502.18 1455 Q1505.25 1450.39 1511.06 1450.39 Z\" fill=\"#000000\" fill-rule=\"nonzero\" fill-opacity=\"1\" /><path clip-path=\"url(#clip170)\" d=\"M1850.2 1481.64 L1866.52 1481.64 L1866.52 1485.58 L1844.58 1485.58 L1844.58 1481.64 Q1847.24 1478.89 1851.82 1474.26 Q1856.43 1469.61 1857.61 1468.27 Q1859.85 1465.74 1860.73 1464.01 Q1861.64 1462.25 1861.64 1460.56 Q1861.64 1457.8 1859.69 1456.07 Q1857.77 1454.33 1854.67 1454.33 Q1852.47 1454.33 1850.02 1455.09 Q1847.59 1455.86 1844.81 1457.41 L1844.81 1452.69 Q1847.63 1451.55 1850.09 1450.97 Q1852.54 1450.39 1854.58 1450.39 Q1859.95 1450.39 1863.14 1453.08 Q1866.34 1455.77 1866.34 1460.26 Q1866.34 1462.39 1865.52 1464.31 Q1864.74 1466.2 1862.63 1468.8 Q1862.05 1469.47 1858.95 1472.69 Q1855.85 1475.88 1850.2 1481.64 Z\" fill=\"#000000\" fill-rule=\"nonzero\" fill-opacity=\"1\" /><path clip-path=\"url(#clip170)\" d=\"M1876.38 1451.02 L1894.74 1451.02 L1894.74 1454.96 L1880.66 1454.96 L1880.66 1463.43 Q1881.68 1463.08 1882.7 1462.92 Q1883.72 1462.73 1884.74 1462.73 Q1890.52 1462.73 1893.9 1465.9 Q1897.28 1469.08 1897.28 1474.49 Q1897.28 1480.07 1893.81 1483.17 Q1890.34 1486.25 1884.02 1486.25 Q1881.84 1486.25 1879.58 1485.88 Q1877.33 1485.51 1874.92 1484.77 L1874.92 1480.07 Q1877.01 1481.2 1879.23 1481.76 Q1881.45 1482.32 1883.93 1482.32 Q1887.93 1482.32 1890.27 1480.21 Q1892.61 1478.1 1892.61 1474.49 Q1892.61 1470.88 1890.27 1468.77 Q1887.93 1466.67 1883.93 1466.67 Q1882.05 1466.67 1880.18 1467.08 Q1878.33 1467.5 1876.38 1468.38 L1876.38 1451.02 Z\" fill=\"#000000\" fill-rule=\"nonzero\" fill-opacity=\"1\" /><path clip-path=\"url(#clip170)\" d=\"M1916.5 1454.1 Q1912.89 1454.1 1911.06 1457.66 Q1909.25 1461.2 1909.25 1468.33 Q1909.25 1475.44 1911.06 1479.01 Q1912.89 1482.55 1916.5 1482.55 Q1920.13 1482.55 1921.94 1479.01 Q1923.77 1475.44 1923.77 1468.33 Q1923.77 1461.2 1921.94 1457.66 Q1920.13 1454.1 1916.5 1454.1 M1916.5 1450.39 Q1922.31 1450.39 1925.36 1455 Q1928.44 1459.58 1928.44 1468.33 Q1928.44 1477.06 1925.36 1481.67 Q1922.31 1486.25 1916.5 1486.25 Q1910.69 1486.25 1907.61 1481.67 Q1904.55 1477.06 1904.55 1468.33 Q1904.55 1459.58 1907.61 1455 Q1910.69 1450.39 1916.5 1450.39 Z\" fill=\"#000000\" fill-rule=\"nonzero\" fill-opacity=\"1\" /><path clip-path=\"url(#clip170)\" d=\"M2265.7 1466.95 Q2269.06 1467.66 2270.93 1469.93 Q2272.83 1472.2 2272.83 1475.53 Q2272.83 1480.65 2269.31 1483.45 Q2265.8 1486.25 2259.31 1486.25 Q2257.14 1486.25 2254.82 1485.81 Q2252.53 1485.39 2250.08 1484.54 L2250.08 1480.02 Q2252.02 1481.16 2254.34 1481.74 Q2256.65 1482.32 2259.18 1482.32 Q2263.57 1482.32 2265.86 1480.58 Q2268.18 1478.84 2268.18 1475.53 Q2268.18 1472.48 2266.03 1470.77 Q2263.9 1469.03 2260.08 1469.03 L2256.05 1469.03 L2256.05 1465.19 L2260.26 1465.19 Q2263.71 1465.19 2265.54 1463.82 Q2267.37 1462.43 2267.37 1459.84 Q2267.37 1457.18 2265.47 1455.77 Q2263.6 1454.33 2260.08 1454.33 Q2258.16 1454.33 2255.96 1454.75 Q2253.76 1455.16 2251.12 1456.04 L2251.12 1451.88 Q2253.78 1451.14 2256.1 1450.77 Q2258.43 1450.39 2260.49 1450.39 Q2265.82 1450.39 2268.92 1452.83 Q2272.02 1455.23 2272.02 1459.35 Q2272.02 1462.22 2270.38 1464.21 Q2268.74 1466.18 2265.7 1466.95 Z\" fill=\"#000000\" fill-rule=\"nonzero\" fill-opacity=\"1\" /><path clip-path=\"url(#clip170)\" d=\"M2291.7 1454.1 Q2288.09 1454.1 2286.26 1457.66 Q2284.45 1461.2 2284.45 1468.33 Q2284.45 1475.44 2286.26 1479.01 Q2288.09 1482.55 2291.7 1482.55 Q2295.33 1482.55 2297.14 1479.01 Q2298.97 1475.44 2298.97 1468.33 Q2298.97 1461.2 2297.14 1457.66 Q2295.33 1454.1 2291.7 1454.1 M2291.7 1450.39 Q2297.51 1450.39 2300.56 1455 Q2303.64 1459.58 2303.64 1468.33 Q2303.64 1477.06 2300.56 1481.67 Q2297.51 1486.25 2291.7 1486.25 Q2285.89 1486.25 2282.81 1481.67 Q2279.75 1477.06 2279.75 1468.33 Q2279.75 1459.58 2282.81 1455 Q2285.89 1450.39 2291.7 1450.39 Z\" fill=\"#000000\" fill-rule=\"nonzero\" fill-opacity=\"1\" /><path clip-path=\"url(#clip170)\" d=\"M2321.86 1454.1 Q2318.25 1454.1 2316.42 1457.66 Q2314.61 1461.2 2314.61 1468.33 Q2314.61 1475.44 2316.42 1479.01 Q2318.25 1482.55 2321.86 1482.55 Q2325.49 1482.55 2327.3 1479.01 Q2329.13 1475.44 2329.13 1468.33 Q2329.13 1461.2 2327.3 1457.66 Q2325.49 1454.1 2321.86 1454.1 M2321.86 1450.39 Q2327.67 1450.39 2330.73 1455 Q2333.8 1459.58 2333.8 1468.33 Q2333.8 1477.06 2330.73 1481.67 Q2327.67 1486.25 2321.86 1486.25 Q2316.05 1486.25 2312.97 1481.67 Q2309.92 1477.06 2309.92 1468.33 Q2309.92 1459.58 2312.97 1455 Q2316.05 1450.39 2321.86 1450.39 Z\" fill=\"#000000\" fill-rule=\"nonzero\" fill-opacity=\"1\" /><path clip-path=\"url(#clip170)\" d=\"M1293.29 1546.53 L1293.29 1568.04 L1287.43 1568.04 L1287.43 1546.72 Q1287.43 1541.66 1285.46 1539.14 Q1283.48 1536.63 1279.54 1536.63 Q1274.79 1536.63 1272.06 1539.65 Q1269.32 1542.68 1269.32 1547.9 L1269.32 1568.04 L1263.43 1568.04 L1263.43 1532.4 L1269.32 1532.4 L1269.32 1537.93 Q1271.42 1534.72 1274.25 1533.13 Q1277.12 1531.54 1280.84 1531.54 Q1286.99 1531.54 1290.14 1535.36 Q1293.29 1539.14 1293.29 1546.53 Z\" fill=\"#000000\" fill-rule=\"nonzero\" fill-opacity=\"1\" /><polyline clip-path=\"url(#clip172)\" style=\"stroke:#000000; stroke-linecap:round; stroke-linejoin:round; stroke-width:2; stroke-opacity:0.1; fill:none\" points=\"203.964,1394.5 2352.76,1394.5 \"/>\n",
       "<polyline clip-path=\"url(#clip172)\" style=\"stroke:#000000; stroke-linecap:round; stroke-linejoin:round; stroke-width:2; stroke-opacity:0.1; fill:none\" points=\"203.964,952.056 2352.76,952.056 \"/>\n",
       "<polyline clip-path=\"url(#clip172)\" style=\"stroke:#000000; stroke-linecap:round; stroke-linejoin:round; stroke-width:2; stroke-opacity:0.1; fill:none\" points=\"203.964,509.608 2352.76,509.608 \"/>\n",
       "<polyline clip-path=\"url(#clip172)\" style=\"stroke:#000000; stroke-linecap:round; stroke-linejoin:round; stroke-width:2; stroke-opacity:0.1; fill:none\" points=\"203.964,67.1604 2352.76,67.1604 \"/>\n",
       "<polyline clip-path=\"url(#clip170)\" style=\"stroke:#000000; stroke-linecap:round; stroke-linejoin:round; stroke-width:4; stroke-opacity:1; fill:none\" points=\"203.964,1423.18 203.964,47.2441 \"/>\n",
       "<polyline clip-path=\"url(#clip170)\" style=\"stroke:#000000; stroke-linecap:round; stroke-linejoin:round; stroke-width:4; stroke-opacity:1; fill:none\" points=\"203.964,1394.5 222.861,1394.5 \"/>\n",
       "<polyline clip-path=\"url(#clip170)\" style=\"stroke:#000000; stroke-linecap:round; stroke-linejoin:round; stroke-width:4; stroke-opacity:1; fill:none\" points=\"203.964,952.056 222.861,952.056 \"/>\n",
       "<polyline clip-path=\"url(#clip170)\" style=\"stroke:#000000; stroke-linecap:round; stroke-linejoin:round; stroke-width:4; stroke-opacity:1; fill:none\" points=\"203.964,509.608 222.861,509.608 \"/>\n",
       "<polyline clip-path=\"url(#clip170)\" style=\"stroke:#000000; stroke-linecap:round; stroke-linejoin:round; stroke-width:4; stroke-opacity:1; fill:none\" points=\"203.964,67.1604 222.861,67.1604 \"/>\n",
       "<path clip-path=\"url(#clip170)\" d=\"M156.019 1380.3 Q152.408 1380.3 150.579 1383.87 Q148.774 1387.41 148.774 1394.54 Q148.774 1401.64 150.579 1405.21 Q152.408 1408.75 156.019 1408.75 Q159.653 1408.75 161.459 1405.21 Q163.288 1401.64 163.288 1394.54 Q163.288 1387.41 161.459 1383.87 Q159.653 1380.3 156.019 1380.3 M156.019 1376.6 Q161.829 1376.6 164.885 1381.2 Q167.964 1385.79 167.964 1394.54 Q167.964 1403.26 164.885 1407.87 Q161.829 1412.45 156.019 1412.45 Q150.209 1412.45 147.13 1407.87 Q144.075 1403.26 144.075 1394.54 Q144.075 1385.79 147.13 1381.2 Q150.209 1376.6 156.019 1376.6 Z\" fill=\"#000000\" fill-rule=\"nonzero\" fill-opacity=\"1\" /><path clip-path=\"url(#clip170)\" d=\"M116.668 965.4 L124.306 965.4 L124.306 939.035 L115.996 940.701 L115.996 936.442 L124.26 934.776 L128.936 934.776 L128.936 965.4 L136.575 965.4 L136.575 969.336 L116.668 969.336 L116.668 965.4 Z\" fill=\"#000000\" fill-rule=\"nonzero\" fill-opacity=\"1\" /><path clip-path=\"url(#clip170)\" d=\"M156.019 937.854 Q152.408 937.854 150.579 941.419 Q148.774 944.961 148.774 952.09 Q148.774 959.197 150.579 962.761 Q152.408 966.303 156.019 966.303 Q159.653 966.303 161.459 962.761 Q163.288 959.197 163.288 952.09 Q163.288 944.961 161.459 941.419 Q159.653 937.854 156.019 937.854 M156.019 934.151 Q161.829 934.151 164.885 938.757 Q167.964 943.34 167.964 952.09 Q167.964 960.817 164.885 965.423 Q161.829 970.007 156.019 970.007 Q150.209 970.007 147.13 965.423 Q144.075 960.817 144.075 952.09 Q144.075 943.34 147.13 938.757 Q150.209 934.151 156.019 934.151 Z\" fill=\"#000000\" fill-rule=\"nonzero\" fill-opacity=\"1\" /><path clip-path=\"url(#clip170)\" d=\"M119.885 522.953 L136.204 522.953 L136.204 526.888 L114.26 526.888 L114.26 522.953 Q116.922 520.198 121.505 515.569 Q126.112 510.916 127.292 509.573 Q129.538 507.05 130.417 505.314 Q131.32 503.555 131.32 501.865 Q131.32 499.11 129.376 497.374 Q127.455 495.638 124.353 495.638 Q122.154 495.638 119.7 496.402 Q117.269 497.166 114.492 498.717 L114.492 493.995 Q117.316 492.86 119.769 492.282 Q122.223 491.703 124.26 491.703 Q129.63 491.703 132.825 494.388 Q136.019 497.073 136.019 501.564 Q136.019 503.694 135.209 505.615 Q134.422 507.513 132.316 510.106 Q131.737 510.777 128.635 513.995 Q125.533 517.189 119.885 522.953 Z\" fill=\"#000000\" fill-rule=\"nonzero\" fill-opacity=\"1\" /><path clip-path=\"url(#clip170)\" d=\"M156.019 495.407 Q152.408 495.407 150.579 498.971 Q148.774 502.513 148.774 509.643 Q148.774 516.749 150.579 520.314 Q152.408 523.856 156.019 523.856 Q159.653 523.856 161.459 520.314 Q163.288 516.749 163.288 509.643 Q163.288 502.513 161.459 498.971 Q159.653 495.407 156.019 495.407 M156.019 491.703 Q161.829 491.703 164.885 496.309 Q167.964 500.893 167.964 509.643 Q167.964 518.369 164.885 522.976 Q161.829 527.559 156.019 527.559 Q150.209 527.559 147.13 522.976 Q144.075 518.369 144.075 509.643 Q144.075 500.893 147.13 496.309 Q150.209 491.703 156.019 491.703 Z\" fill=\"#000000\" fill-rule=\"nonzero\" fill-opacity=\"1\" /><path clip-path=\"url(#clip170)\" d=\"M130.024 65.8063 Q133.38 66.5239 135.255 68.7924 Q137.154 71.0609 137.154 74.3942 Q137.154 79.5099 133.635 82.3108 Q130.117 85.1117 123.635 85.1117 Q121.459 85.1117 119.144 84.6719 Q116.853 84.2552 114.399 83.3988 L114.399 78.8849 Q116.343 80.0192 118.658 80.5979 Q120.973 81.1766 123.496 81.1766 Q127.894 81.1766 130.186 79.4405 Q132.501 77.7044 132.501 74.3942 Q132.501 71.3386 130.348 69.6257 Q128.218 67.8896 124.399 67.8896 L120.371 67.8896 L120.371 64.047 L124.584 64.047 Q128.033 64.047 129.862 62.6813 Q131.691 61.2924 131.691 58.6998 Q131.691 56.0378 129.792 54.6258 Q127.917 53.1906 124.399 53.1906 Q122.478 53.1906 120.279 53.6073 Q118.08 54.0239 115.441 54.9035 L115.441 50.7369 Q118.103 49.9962 120.418 49.6258 Q122.755 49.2554 124.816 49.2554 Q130.14 49.2554 133.242 51.686 Q136.343 54.0934 136.343 58.2137 Q136.343 61.0841 134.7 63.0748 Q133.056 65.0424 130.024 65.8063 Z\" fill=\"#000000\" fill-rule=\"nonzero\" fill-opacity=\"1\" /><path clip-path=\"url(#clip170)\" d=\"M156.019 52.9591 Q152.408 52.9591 150.579 56.5239 Q148.774 60.0656 148.774 67.1952 Q148.774 74.3016 150.579 77.8664 Q152.408 81.408 156.019 81.408 Q159.653 81.408 161.459 77.8664 Q163.288 74.3016 163.288 67.1952 Q163.288 60.0656 161.459 56.5239 Q159.653 52.9591 156.019 52.9591 M156.019 49.2554 Q161.829 49.2554 164.885 53.8619 Q167.964 58.4452 167.964 67.1952 Q167.964 75.922 164.885 80.5284 Q161.829 85.1117 156.019 85.1117 Q150.209 85.1117 147.13 80.5284 Q144.075 75.922 144.075 67.1952 Q144.075 58.4452 147.13 53.8619 Q150.209 49.2554 156.019 49.2554 Z\" fill=\"#000000\" fill-rule=\"nonzero\" fill-opacity=\"1\" /><path clip-path=\"url(#clip170)\" d=\"M18.2347 847.758 L28.3562 847.758 L28.3562 835.695 L32.9077 835.695 L32.9077 847.758 L52.2594 847.758 Q56.6199 847.758 57.8613 846.58 Q59.1026 845.371 59.1026 841.71 L59.1026 835.695 L64.0042 835.695 L64.0042 841.71 Q64.0042 848.49 61.4897 851.068 Q58.9434 853.646 52.2594 853.646 L32.9077 853.646 L32.9077 857.943 L28.3562 857.943 L28.3562 853.646 L18.2347 853.646 L18.2347 847.758 Z\" fill=\"#000000\" fill-rule=\"nonzero\" fill-opacity=\"1\" /><path clip-path=\"url(#clip170)\" d=\"M28.3562 827.992 L28.3562 822.136 L64.0042 822.136 L64.0042 827.992 L28.3562 827.992 M14.479 827.992 L14.479 822.136 L21.895 822.136 L21.895 827.992 L14.479 827.992 Z\" fill=\"#000000\" fill-rule=\"nonzero\" fill-opacity=\"1\" /><path clip-path=\"url(#clip170)\" d=\"M35.1993 782.127 Q31.2526 779.931 29.3747 776.876 Q27.4968 773.82 27.4968 769.682 Q27.4968 764.112 31.4117 761.089 Q35.2948 758.065 42.4881 758.065 L64.0042 758.065 L64.0042 763.953 L42.679 763.953 Q37.5546 763.953 35.072 765.767 Q32.5894 767.582 32.5894 771.306 Q32.5894 775.857 35.6131 778.499 Q38.6368 781.141 43.8567 781.141 L64.0042 781.141 L64.0042 787.029 L42.679 787.029 Q37.5228 787.029 35.072 788.843 Q32.5894 790.657 32.5894 794.445 Q32.5894 798.933 35.6449 801.574 Q38.6686 804.216 43.8567 804.216 L64.0042 804.216 L64.0042 810.105 L28.3562 810.105 L28.3562 804.216 L33.8944 804.216 Q30.616 802.211 29.0564 799.41 Q27.4968 796.609 27.4968 792.758 Q27.4968 788.875 29.4702 786.169 Q31.4436 783.432 35.1993 782.127 Z\" fill=\"#000000\" fill-rule=\"nonzero\" fill-opacity=\"1\" /><path clip-path=\"url(#clip170)\" d=\"M44.7161 715.892 L47.5806 715.892 L47.5806 742.819 Q53.6281 742.437 56.8109 739.191 Q59.9619 735.912 59.9619 730.088 Q59.9619 726.714 59.1344 723.563 Q58.3069 720.38 56.6518 717.261 L62.1899 717.261 Q63.5267 720.412 64.227 723.722 Q64.9272 727.032 64.9272 730.438 Q64.9272 738.968 59.9619 743.965 Q54.9967 748.93 46.5303 748.93 Q37.7774 748.93 32.6531 744.219 Q27.4968 739.477 27.4968 731.456 Q27.4968 724.263 32.1438 720.093 Q36.7589 715.892 44.7161 715.892 M42.9973 721.748 Q38.1912 721.812 35.3266 724.454 Q32.4621 727.064 32.4621 731.393 Q32.4621 736.294 35.2312 739.254 Q38.0002 742.182 43.0292 742.628 L42.9973 721.748 Z\" fill=\"#000000\" fill-rule=\"nonzero\" fill-opacity=\"1\" /><path clip-path=\"url(#clip170)\" d=\"M14.5426 671.491 Q21.8632 675.756 29.0246 677.825 Q36.186 679.894 43.5384 679.894 Q50.8908 679.894 58.1159 677.825 Q65.3091 675.724 72.5979 671.491 L72.5979 676.584 Q65.1182 681.358 57.8931 683.745 Q50.668 686.101 43.5384 686.101 Q36.4406 686.101 29.2474 683.745 Q22.0542 681.39 14.5426 676.584 L14.5426 671.491 Z\" fill=\"#000000\" fill-rule=\"nonzero\" fill-opacity=\"1\" /><path clip-path=\"url(#clip170)\" d=\"M29.4065 637.403 L34.9447 637.403 Q33.6716 639.886 33.035 642.559 Q32.3984 645.233 32.3984 648.097 Q32.3984 652.458 33.7352 654.654 Q35.072 656.818 37.7456 656.818 Q39.7826 656.818 40.9603 655.259 Q42.1061 653.699 43.1565 648.988 L43.6021 646.983 Q44.9389 640.745 47.3897 638.135 Q49.8086 635.493 54.1691 635.493 Q59.1344 635.493 62.0308 639.44 Q64.9272 643.355 64.9272 650.23 Q64.9272 653.094 64.3543 656.214 Q63.8132 659.301 62.6992 662.738 L56.6518 662.738 Q58.3387 659.492 59.198 656.341 Q60.0256 653.19 60.0256 650.102 Q60.0256 645.965 58.6251 643.737 Q57.1929 641.509 54.6147 641.509 Q52.2276 641.509 50.9545 643.132 Q49.6813 644.723 48.5037 650.166 L48.0262 652.203 Q46.8804 657.646 44.5251 660.065 Q42.138 662.484 38.0002 662.484 Q32.9713 662.484 30.2341 658.919 Q27.4968 655.354 27.4968 648.798 Q27.4968 645.551 27.9743 642.686 Q28.4517 639.822 29.4065 637.403 Z\" fill=\"#000000\" fill-rule=\"nonzero\" fill-opacity=\"1\" /><path clip-path=\"url(#clip170)\" d=\"M14.5426 627.09 L14.5426 621.998 Q22.0542 617.224 29.2474 614.868 Q36.4406 612.481 43.5384 612.481 Q50.668 612.481 57.8931 614.868 Q65.1182 617.224 72.5979 621.998 L72.5979 627.09 Q65.3091 622.857 58.1159 620.788 Q50.8908 618.688 43.5384 618.688 Q36.186 618.688 29.0246 620.788 Q21.8632 622.857 14.5426 627.09 Z\" fill=\"#000000\" fill-rule=\"nonzero\" fill-opacity=\"1\" /><circle clip-path=\"url(#clip172)\" cx=\"264.778\" cy=\"1384.24\" r=\"14.4\" fill=\"#009af9\" fill-rule=\"evenodd\" fill-opacity=\"1\" stroke=\"#000000\" stroke-opacity=\"1\" stroke-width=\"3.2\"/>\n",
       "<circle clip-path=\"url(#clip172)\" cx=\"670.211\" cy=\"1337.43\" r=\"14.4\" fill=\"#009af9\" fill-rule=\"evenodd\" fill-opacity=\"1\" stroke=\"#000000\" stroke-opacity=\"1\" stroke-width=\"3.2\"/>\n",
       "<circle clip-path=\"url(#clip172)\" cx=\"1481.08\" cy=\"972.408\" r=\"14.4\" fill=\"#009af9\" fill-rule=\"evenodd\" fill-opacity=\"1\" stroke=\"#000000\" stroke-opacity=\"1\" stroke-width=\"3.2\"/>\n",
       "<circle clip-path=\"url(#clip172)\" cx=\"2291.94\" cy=\"86.1857\" r=\"14.4\" fill=\"#009af9\" fill-rule=\"evenodd\" fill-opacity=\"1\" stroke=\"#000000\" stroke-opacity=\"1\" stroke-width=\"3.2\"/>\n",
       "</svg>\n"
      ]
     },
     "execution_count": 33,
     "metadata": {},
     "output_type": "execute_result"
    }
   ],
   "source": [
    "scatter(JuMPns, JuMPtimes, xlabel = \"n\", ylabel = \"time (s)\",  legend=false)"
   ]
  },
  {
   "cell_type": "code",
   "execution_count": 34,
   "id": "69c270da",
   "metadata": {},
   "outputs": [
    {
     "name": "stdout",
     "output_type": "stream",
     "text": [
      "  0.063341 seconds (116.02 k allocations: 69.455 MiB)\n"
     ]
    },
    {
     "data": {
      "text/plain": [
       "-2579.5446764276"
      ]
     },
     "execution_count": 34,
     "metadata": {},
     "output_type": "execute_result"
    }
   ],
   "source": [
    "@time randserial(n,18,Cn(n))"
   ]
  },
  {
   "cell_type": "code",
   "execution_count": 35,
   "id": "da3e2e66",
   "metadata": {},
   "outputs": [
    {
     "name": "stdout",
     "output_type": "stream",
     "text": [
      "  0.388098 seconds (231.22 k allocations: 162.773 MiB, 3.70% gc time)\n"
     ]
    },
    {
     "data": {
      "text/plain": [
       "-2633.055013916222"
      ]
     },
     "execution_count": 35,
     "metadata": {},
     "output_type": "execute_result"
    }
   ],
   "source": [
    "@time randserial(n,36,Cn(n))"
   ]
  },
  {
   "cell_type": "code",
   "execution_count": 36,
   "id": "3d104e7f",
   "metadata": {},
   "outputs": [
    {
     "name": "stdout",
     "output_type": "stream",
     "text": [
      "  0.012751 seconds (52.02 k allocations: 29.338 MiB)\n"
     ]
    },
    {
     "data": {
      "text/plain": [
       "-2661.8805396389675"
      ]
     },
     "execution_count": 36,
     "metadata": {},
     "output_type": "execute_result"
    }
   ],
   "source": [
    "@time randserial(n,8,Cn(n))"
   ]
  },
  {
   "cell_type": "code",
   "execution_count": 37,
   "id": "426be54d",
   "metadata": {},
   "outputs": [
    {
     "data": {
      "text/plain": [
       "4"
      ]
     },
     "execution_count": 37,
     "metadata": {},
     "output_type": "execute_result"
    }
   ],
   "source": [
    "LinearAlgebra.BLAS.get_num_threads()"
   ]
  },
  {
   "cell_type": "code",
   "execution_count": null,
   "id": "90ebdf32",
   "metadata": {},
   "outputs": [],
   "source": []
  }
 ],
 "metadata": {
  "kernelspec": {
   "display_name": "Julia 4 Threads 1.8.5",
   "language": "julia",
   "name": "julia-4-threads-1.8"
  },
  "language_info": {
   "file_extension": ".jl",
   "mimetype": "application/julia",
   "name": "julia",
   "version": "1.8.5"
  }
 },
 "nbformat": 4,
 "nbformat_minor": 5
}
