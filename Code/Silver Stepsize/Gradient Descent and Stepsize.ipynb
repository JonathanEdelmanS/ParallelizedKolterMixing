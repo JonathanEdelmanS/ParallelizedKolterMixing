{
 "cells": [
  {
   "cell_type": "code",
   "execution_count": 2,
   "id": "e5c9eac5",
   "metadata": {},
   "outputs": [],
   "source": [
    "using LinearAlgebra, Plots"
   ]
  },
  {
   "cell_type": "code",
   "execution_count": 3,
   "id": "23eaa27b",
   "metadata": {},
   "outputs": [
    {
     "data": {
      "text/plain": [
       "GradDescent (generic function with 1 method)"
      ]
     },
     "execution_count": 3,
     "metadata": {},
     "output_type": "execute_result"
    }
   ],
   "source": [
    "function GradDescent(grad, init, stepsize, iters)\n",
    "    cur = [init]\n",
    "    for i in 1:iters\n",
    "        push!(cur, cur[end] - stepsize(i) * grad(cur[end]...))\n",
    "    end\n",
    "    return cur\n",
    "end\n",
    "        "
   ]
  },
  {
   "cell_type": "code",
   "execution_count": 9,
   "id": "00dbf0e5",
   "metadata": {},
   "outputs": [
    {
     "data": {
      "text/plain": [
       "L (generic function with 1 method)"
      ]
     },
     "execution_count": 9,
     "metadata": {},
     "output_type": "execute_result"
    }
   ],
   "source": [
    "L(w, data) = prod(1/(1 + exp(-data[2] * w'data[1])) for i = 1:length(data))"
   ]
  },
  {
   "cell_type": "code",
   "execution_count": 23,
   "id": "4c57217b",
   "metadata": {},
   "outputs": [
    {
     "data": {
      "text/plain": [
       "([4, 5, 6], 1)"
      ]
     },
     "execution_count": 23,
     "metadata": {},
     "output_type": "execute_result"
    }
   ],
   "source": [
    "data = ([4,5,6],1)"
   ]
  },
  {
   "cell_type": "code",
   "execution_count": 24,
   "id": "5d4829bf",
   "metadata": {},
   "outputs": [
    {
     "data": {
      "text/plain": [
       "3-element Vector{Int64}:\n",
       " 3\n",
       " 4\n",
       " 5"
      ]
     },
     "execution_count": 24,
     "metadata": {},
     "output_type": "execute_result"
    }
   ],
   "source": [
    "w = [3,4,5]"
   ]
  },
  {
   "cell_type": "code",
   "execution_count": 25,
   "id": "29936c55",
   "metadata": {},
   "outputs": [
    {
     "data": {
      "text/plain": [
       "1.0"
      ]
     },
     "execution_count": 25,
     "metadata": {},
     "output_type": "execute_result"
    }
   ],
   "source": [
    "L(w,data)"
   ]
  },
  {
   "cell_type": "code",
   "execution_count": 26,
   "id": "e97a7376",
   "metadata": {},
   "outputs": [
    {
     "data": {
      "text/plain": [
       "grad (generic function with 1 method)"
      ]
     },
     "execution_count": 26,
     "metadata": {},
     "output_type": "execute_result"
    }
   ],
   "source": [
    "grad(w,data) = (-data[2]*data[1])/(1 + exp(-data[2] * w'data[1]))"
   ]
  },
  {
   "cell_type": "code",
   "execution_count": 27,
   "id": "c2c2d955",
   "metadata": {},
   "outputs": [
    {
     "data": {
      "text/plain": [
       "3-element Vector{Float64}:\n",
       " -4.0\n",
       " -5.0\n",
       " -6.0"
      ]
     },
     "execution_count": 27,
     "metadata": {},
     "output_type": "execute_result"
    }
   ],
   "source": [
    "grad(w,data)"
   ]
  },
  {
   "cell_type": "code",
   "execution_count": null,
   "id": "449584ea",
   "metadata": {},
   "outputs": [],
   "source": []
  }
 ],
 "metadata": {
  "kernelspec": {
   "display_name": "Julia 1.9.3",
   "language": "julia",
   "name": "julia-1.9"
  },
  "language_info": {
   "file_extension": ".jl",
   "mimetype": "application/julia",
   "name": "julia",
   "version": "1.9.3"
  }
 },
 "nbformat": 4,
 "nbformat_minor": 5
}
