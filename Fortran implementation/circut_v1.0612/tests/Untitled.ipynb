{
 "cells": [
  {
   "cell_type": "code",
   "execution_count": 4,
   "id": "849f56a8",
   "metadata": {},
   "outputs": [],
   "source": [
    "test = CSV.read(\"G11\", header=0, DataFrame);"
   ]
  },
  {
   "cell_type": "code",
   "execution_count": 2,
   "id": "56350428",
   "metadata": {},
   "outputs": [],
   "source": [
    "using DataFrames, CSV"
   ]
  },
  {
   "cell_type": "code",
   "execution_count": 7,
   "id": "421b6781",
   "metadata": {},
   "outputs": [
    {
     "data": {
      "text/plain": [
       "\"/Users/j/Documents/GitHub/ParallelizedKolterMixing/Fortran implementation/circut_v1.0612/tests\""
      ]
     },
     "execution_count": 7,
     "metadata": {},
     "output_type": "execute_result"
    }
   ],
   "source": [
    "pwd()"
   ]
  },
  {
   "cell_type": "code",
   "execution_count": 5,
   "id": "ead09ed6",
   "metadata": {},
   "outputs": [
    {
     "data": {
      "text/html": [
       "<div><div style = \"float: left;\"><span>1601×3 DataFrame</span></div><div style = \"float: right;\"><span style = \"font-style: italic;\">1576 rows omitted</span></div><div style = \"clear: both;\"></div></div><div class = \"data-frame\" style = \"overflow-x: scroll;\"><table class = \"data-frame\" style = \"margin-bottom: 6px;\"><thead><tr class = \"header\"><th class = \"rowNumber\" style = \"font-weight: bold; text-align: right;\">Row</th><th style = \"text-align: left;\">Column1</th><th style = \"text-align: left;\">Column2</th><th style = \"text-align: left;\">Column3</th></tr><tr class = \"subheader headerLastRow\"><th class = \"rowNumber\" style = \"font-weight: bold; text-align: right;\"></th><th title = \"Int64\" style = \"text-align: left;\">Int64</th><th title = \"Int64\" style = \"text-align: left;\">Int64</th><th title = \"Union{Missing, Int64}\" style = \"text-align: left;\">Int64?</th></tr></thead><tbody><tr><td class = \"rowNumber\" style = \"font-weight: bold; text-align: right;\">1</td><td style = \"text-align: right;\">800</td><td style = \"text-align: right;\">1600</td><td style = \"font-style: italic; text-align: right;\">missing</td></tr><tr><td class = \"rowNumber\" style = \"font-weight: bold; text-align: right;\">2</td><td style = \"text-align: right;\">1</td><td style = \"text-align: right;\">793</td><td style = \"text-align: right;\">1</td></tr><tr><td class = \"rowNumber\" style = \"font-weight: bold; text-align: right;\">3</td><td style = \"text-align: right;\">1</td><td style = \"text-align: right;\">9</td><td style = \"text-align: right;\">-1</td></tr><tr><td class = \"rowNumber\" style = \"font-weight: bold; text-align: right;\">4</td><td style = \"text-align: right;\">1</td><td style = \"text-align: right;\">8</td><td style = \"text-align: right;\">1</td></tr><tr><td class = \"rowNumber\" style = \"font-weight: bold; text-align: right;\">5</td><td style = \"text-align: right;\">1</td><td style = \"text-align: right;\">2</td><td style = \"text-align: right;\">-1</td></tr><tr><td class = \"rowNumber\" style = \"font-weight: bold; text-align: right;\">6</td><td style = \"text-align: right;\">2</td><td style = \"text-align: right;\">794</td><td style = \"text-align: right;\">1</td></tr><tr><td class = \"rowNumber\" style = \"font-weight: bold; text-align: right;\">7</td><td style = \"text-align: right;\">2</td><td style = \"text-align: right;\">10</td><td style = \"text-align: right;\">-1</td></tr><tr><td class = \"rowNumber\" style = \"font-weight: bold; text-align: right;\">8</td><td style = \"text-align: right;\">2</td><td style = \"text-align: right;\">3</td><td style = \"text-align: right;\">-1</td></tr><tr><td class = \"rowNumber\" style = \"font-weight: bold; text-align: right;\">9</td><td style = \"text-align: right;\">3</td><td style = \"text-align: right;\">795</td><td style = \"text-align: right;\">1</td></tr><tr><td class = \"rowNumber\" style = \"font-weight: bold; text-align: right;\">10</td><td style = \"text-align: right;\">3</td><td style = \"text-align: right;\">11</td><td style = \"text-align: right;\">-1</td></tr><tr><td class = \"rowNumber\" style = \"font-weight: bold; text-align: right;\">11</td><td style = \"text-align: right;\">3</td><td style = \"text-align: right;\">4</td><td style = \"text-align: right;\">-1</td></tr><tr><td class = \"rowNumber\" style = \"font-weight: bold; text-align: right;\">12</td><td style = \"text-align: right;\">4</td><td style = \"text-align: right;\">796</td><td style = \"text-align: right;\">1</td></tr><tr><td class = \"rowNumber\" style = \"font-weight: bold; text-align: right;\">13</td><td style = \"text-align: right;\">4</td><td style = \"text-align: right;\">12</td><td style = \"text-align: right;\">-1</td></tr><tr><td style = \"text-align: right;\">&vellip;</td><td style = \"text-align: right;\">&vellip;</td><td style = \"text-align: right;\">&vellip;</td><td style = \"text-align: right;\">&vellip;</td></tr><tr><td class = \"rowNumber\" style = \"font-weight: bold; text-align: right;\">1590</td><td style = \"text-align: right;\">790</td><td style = \"text-align: right;\">791</td><td style = \"text-align: right;\">-1</td></tr><tr><td class = \"rowNumber\" style = \"font-weight: bold; text-align: right;\">1591</td><td style = \"text-align: right;\">791</td><td style = \"text-align: right;\">799</td><td style = \"text-align: right;\">-1</td></tr><tr><td class = \"rowNumber\" style = \"font-weight: bold; text-align: right;\">1592</td><td style = \"text-align: right;\">791</td><td style = \"text-align: right;\">792</td><td style = \"text-align: right;\">-1</td></tr><tr><td class = \"rowNumber\" style = \"font-weight: bold; text-align: right;\">1593</td><td style = \"text-align: right;\">792</td><td style = \"text-align: right;\">800</td><td style = \"text-align: right;\">1</td></tr><tr><td class = \"rowNumber\" style = \"font-weight: bold; text-align: right;\">1594</td><td style = \"text-align: right;\">793</td><td style = \"text-align: right;\">800</td><td style = \"text-align: right;\">-1</td></tr><tr><td class = \"rowNumber\" style = \"font-weight: bold; text-align: right;\">1595</td><td style = \"text-align: right;\">793</td><td style = \"text-align: right;\">794</td><td style = \"text-align: right;\">-1</td></tr><tr><td class = \"rowNumber\" style = \"font-weight: bold; text-align: right;\">1596</td><td style = \"text-align: right;\">794</td><td style = \"text-align: right;\">795</td><td style = \"text-align: right;\">-1</td></tr><tr><td class = \"rowNumber\" style = \"font-weight: bold; text-align: right;\">1597</td><td style = \"text-align: right;\">795</td><td style = \"text-align: right;\">796</td><td style = \"text-align: right;\">-1</td></tr><tr><td class = \"rowNumber\" style = \"font-weight: bold; text-align: right;\">1598</td><td style = \"text-align: right;\">796</td><td style = \"text-align: right;\">797</td><td style = \"text-align: right;\">-1</td></tr><tr><td class = \"rowNumber\" style = \"font-weight: bold; text-align: right;\">1599</td><td style = \"text-align: right;\">797</td><td style = \"text-align: right;\">798</td><td style = \"text-align: right;\">-1</td></tr><tr><td class = \"rowNumber\" style = \"font-weight: bold; text-align: right;\">1600</td><td style = \"text-align: right;\">798</td><td style = \"text-align: right;\">799</td><td style = \"text-align: right;\">-1</td></tr><tr><td class = \"rowNumber\" style = \"font-weight: bold; text-align: right;\">1601</td><td style = \"text-align: right;\">799</td><td style = \"text-align: right;\">800</td><td style = \"text-align: right;\">-1</td></tr></tbody></table></div>"
      ],
      "text/latex": [
       "\\begin{tabular}{r|ccc}\n",
       "\t& Column1 & Column2 & Column3\\\\\n",
       "\t\\hline\n",
       "\t& Int64 & Int64 & Int64?\\\\\n",
       "\t\\hline\n",
       "\t1 & 800 & 1600 & \\emph{missing} \\\\\n",
       "\t2 & 1 & 793 & 1 \\\\\n",
       "\t3 & 1 & 9 & -1 \\\\\n",
       "\t4 & 1 & 8 & 1 \\\\\n",
       "\t5 & 1 & 2 & -1 \\\\\n",
       "\t6 & 2 & 794 & 1 \\\\\n",
       "\t7 & 2 & 10 & -1 \\\\\n",
       "\t8 & 2 & 3 & -1 \\\\\n",
       "\t9 & 3 & 795 & 1 \\\\\n",
       "\t10 & 3 & 11 & -1 \\\\\n",
       "\t11 & 3 & 4 & -1 \\\\\n",
       "\t12 & 4 & 796 & 1 \\\\\n",
       "\t13 & 4 & 12 & -1 \\\\\n",
       "\t14 & 4 & 5 & -1 \\\\\n",
       "\t15 & 5 & 797 & -1 \\\\\n",
       "\t16 & 5 & 13 & 1 \\\\\n",
       "\t17 & 5 & 6 & -1 \\\\\n",
       "\t18 & 6 & 798 & -1 \\\\\n",
       "\t19 & 6 & 14 & 1 \\\\\n",
       "\t20 & 6 & 7 & -1 \\\\\n",
       "\t21 & 7 & 799 & 1 \\\\\n",
       "\t22 & 7 & 15 & 1 \\\\\n",
       "\t23 & 7 & 8 & 1 \\\\\n",
       "\t24 & 8 & 800 & 1 \\\\\n",
       "\t25 & 8 & 16 & 1 \\\\\n",
       "\t26 & 9 & 17 & -1 \\\\\n",
       "\t27 & 9 & 16 & 1 \\\\\n",
       "\t28 & 9 & 10 & 1 \\\\\n",
       "\t29 & 10 & 18 & 1 \\\\\n",
       "\t30 & 10 & 11 & 1 \\\\\n",
       "\t$\\dots$ & $\\dots$ & $\\dots$ & $\\dots$ \\\\\n",
       "\\end{tabular}\n"
      ],
      "text/plain": [
       "\u001b[1m1601×3 DataFrame\u001b[0m\n",
       "\u001b[1m  Row \u001b[0m│\u001b[1m Column1 \u001b[0m\u001b[1m Column2 \u001b[0m\u001b[1m Column3 \u001b[0m\n",
       "      │\u001b[90m Int64   \u001b[0m\u001b[90m Int64   \u001b[0m\u001b[90m Int64?  \u001b[0m\n",
       "──────┼───────────────────────────\n",
       "    1 │     800     1600 \u001b[90m missing \u001b[0m\n",
       "    2 │       1      793        1\n",
       "    3 │       1        9       -1\n",
       "    4 │       1        8        1\n",
       "    5 │       1        2       -1\n",
       "    6 │       2      794        1\n",
       "    7 │       2       10       -1\n",
       "    8 │       2        3       -1\n",
       "    9 │       3      795        1\n",
       "   10 │       3       11       -1\n",
       "   11 │       3        4       -1\n",
       "  ⋮   │    ⋮        ⋮        ⋮\n",
       " 1592 │     791      792       -1\n",
       " 1593 │     792      800        1\n",
       " 1594 │     793      800       -1\n",
       " 1595 │     793      794       -1\n",
       " 1596 │     794      795       -1\n",
       " 1597 │     795      796       -1\n",
       " 1598 │     796      797       -1\n",
       " 1599 │     797      798       -1\n",
       " 1600 │     798      799       -1\n",
       " 1601 │     799      800       -1\n",
       "\u001b[36m                 1580 rows omitted\u001b[0m"
      ]
     },
     "execution_count": 5,
     "metadata": {},
     "output_type": "execute_result"
    }
   ],
   "source": [
    "test"
   ]
  },
  {
   "cell_type": "code",
   "execution_count": null,
   "id": "2039e42c",
   "metadata": {},
   "outputs": [],
   "source": []
  }
 ],
 "metadata": {
  "kernelspec": {
   "display_name": "Julia 4 Threads 1.8.5",
   "language": "julia",
   "name": "julia-4-threads-1.8"
  },
  "language_info": {
   "file_extension": ".jl",
   "mimetype": "application/julia",
   "name": "julia",
   "version": "1.8.5"
  }
 },
 "nbformat": 4,
 "nbformat_minor": 5
}
