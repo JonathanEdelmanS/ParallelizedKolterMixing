{
 "cells": [
  {
   "cell_type": "code",
   "execution_count": 43,
   "id": "9db39ba9",
   "metadata": {},
   "outputs": [
    {
     "name": "stderr",
     "output_type": "stream",
     "text": [
      "WARNING: replacing module Mixing.\n"
     ]
    },
    {
     "data": {
      "text/plain": [
       "Main.Mixing"
      ]
     },
     "execution_count": 43,
     "metadata": {},
     "output_type": "execute_result"
    }
   ],
   "source": [
    "using DataFrames, CSV, SparseArrays, LinearAlgebra\n",
    "include(\"../Code/Mixing/Mixing.jl\")\n"
   ]
  },
  {
   "cell_type": "code",
   "execution_count": 54,
   "id": "56c2ee8a",
   "metadata": {},
   "outputs": [],
   "source": [
    "using Plots"
   ]
  },
  {
   "cell_type": "code",
   "execution_count": 38,
   "id": "80ecf1b4",
   "metadata": {},
   "outputs": [],
   "source": [
    "G1test = CSV.read(\"../Fortran implementation/circut_v1.0612/tests/G1\"\n",
    ", header=0, DataFrame);\n",
    "G11test = CSV.read(\"../Fortran implementation/circut_v1.0612/tests/G11\"\n",
    ", header=0, DataFrame);\n",
    "G14test = CSV.read(\"../Fortran implementation/circut_v1.0612/tests/G14\"\n",
    ", header=0, DataFrame);\n",
    "G32test = CSV.read(\"../Fortran implementation/circut_v1.0612/tests/G32\"\n",
    ", header=0, DataFrame);\n",
    "G35test = CSV.read(\"../Fortran implementation/circut_v1.0612/tests/G35\"\n",
    ", header=0, DataFrame);\n",
    "G48test = CSV.read(\"../Fortran implementation/circut_v1.0612/tests/G48\"\n",
    ", header=0, DataFrame);\n",
    "G51test = CSV.read(\"../Fortran implementation/circut_v1.0612/tests/G51\"\n",
    ", header=0, DataFrame);"
   ]
  },
  {
   "cell_type": "code",
   "execution_count": 39,
   "id": "8b12328c",
   "metadata": {},
   "outputs": [
    {
     "data": {
      "text/plain": [
       "matrixFromFile (generic function with 1 method)"
      ]
     },
     "execution_count": 39,
     "metadata": {},
     "output_type": "execute_result"
    }
   ],
   "source": [
    "function matrixFromFile(readfile)\n",
    "    M = zeros(readfile[1,1], readfile[1,1])\n",
    "    for i in 2:nrow(readfile)\n",
    "        M[readfile[i,1], readfile[i,2]] = readfile[i,3]\n",
    "        M[readfile[i,2], readfile[i,1]] = readfile[i,3]\n",
    "    end\n",
    "    return M\n",
    "end"
   ]
  },
  {
   "cell_type": "code",
   "execution_count": 40,
   "id": "f2fd478f",
   "metadata": {},
   "outputs": [
    {
     "data": {
      "text/plain": [
       "testpipeline (generic function with 1 method)"
      ]
     },
     "execution_count": 40,
     "metadata": {},
     "output_type": "execute_result"
    }
   ],
   "source": [
    "function testpipeline(testinput)\n",
    "    testmat = matrixFromFile(testinput)\n",
    "    sparsetestmat=sparse(testmat)\n",
    "    @time V = Mixing.randserial(length(sparsetestmat[1,:]), 20, sparsetestmat)\n",
    "    a100 = Mixing.assign100(V, sparsetestmat)\n",
    "    print(\"Best: \",max(a100...), \" Average: \", sum(a100)/100)\n",
    "end"
   ]
  },
  {
   "cell_type": "code",
   "execution_count": 50,
   "id": "22438fdc",
   "metadata": {},
   "outputs": [
    {
     "data": {
      "text/plain": [
       "([0.22774256680228178 -0.014589032006770352 … -0.06344105526179396 0.2696682334553766; 0.06678915997281754 0.16659666283980948 … -0.00956625589580842 0.18738798014882427; … ; -0.04944153071401984 0.1766360438631789 … 0.48368996445173007 0.15218531031448154; 0.10461425256222896 0.21714156045992036 … 0.17358750578025536 0.31479496021610914], Any[4740.706451033623, 4725.946140510535, 4674.3061397650235, 4661.992547806078, 4604.874874333188, 4603.163208318494, 4514.254072273997, 4454.231740205942, 4389.882162368411, 4329.662388535347  …  -9980.512275172132, -9980.512281824955, -9980.512282781378, -9980.51228655848, -9980.51228774218, -9980.512288109938, -9980.512289838312, -9980.512290036979, -9980.512307011466, -9980.512327482227])"
      ]
     },
     "execution_count": 50,
     "metadata": {},
     "output_type": "execute_result"
    }
   ],
   "source": [
    "V,costs = Mixing.randserial(length(sparse(matrixFromFile(G1test))[1,:]), 20, sparse(matrixFromFile(G1test)), 1e-7, true)"
   ]
  },
  {
   "cell_type": "code",
   "execution_count": 67,
   "id": "7b3b3f5d",
   "metadata": {},
   "outputs": [
    {
     "data": {
      "image/svg+xml": [
       "<?xml version=\"1.0\" encoding=\"utf-8\"?>\n",
       "<svg xmlns=\"http://www.w3.org/2000/svg\" xmlns:xlink=\"http://www.w3.org/1999/xlink\" width=\"600\" height=\"400\" viewBox=\"0 0 2400 1600\">\n",
       "<defs>\n",
       "  <clipPath id=\"clip990\">\n",
       "    <rect x=\"0\" y=\"0\" width=\"2400\" height=\"1600\"/>\n",
       "  </clipPath>\n",
       "</defs>\n",
       "<path clip-path=\"url(#clip990)\" d=\"M0 1600 L2400 1600 L2400 0 L0 0  Z\" fill=\"#ffffff\" fill-rule=\"evenodd\" fill-opacity=\"1\"/>\n",
       "<defs>\n",
       "  <clipPath id=\"clip991\">\n",
       "    <rect x=\"480\" y=\"0\" width=\"1681\" height=\"1600\"/>\n",
       "  </clipPath>\n",
       "</defs>\n",
       "<path clip-path=\"url(#clip990)\" d=\"M86.9921 1474.16 L2352.76 1474.16 L2352.76 47.2441 L86.9921 47.2441  Z\" fill=\"#ffffff\" fill-rule=\"evenodd\" fill-opacity=\"1\"/>\n",
       "<defs>\n",
       "  <clipPath id=\"clip992\">\n",
       "    <rect x=\"86\" y=\"47\" width=\"2267\" height=\"1428\"/>\n",
       "  </clipPath>\n",
       "</defs>\n",
       "<path clip-path=\"url(#clip990)\" d=\"Mnan nan Qnan nan nan nan Qnan nan nan nan Qnan nan nan nan Qnan nan nan nan Qnan nan nan nan Qnan nan nan nan Qnan nan nan nan Qnan nan nan nan Mnan nan Qnan nan nan nan Qnan nan nan nan Qnan nan nan nan Qnan nan nan nan Qnan nan nan nan Qnan nan nan nan Qnan nan nan nan Qnan nan nan nan Z\" fill=\"#000000\" fill-rule=\"nonzero\" fill-opacity=\"1\" /><path clip-path=\"url(#clip990)\" d=\"Mnan nan Lnan nan Lnan nan Lnan nan Lnan nan Qnan nan nan nan Qnan nan nan nan Qnan nan nan nan Qnan nan nan nan Qnan nan nan nan Qnan nan nan nan Qnan nan nan nan Qnan nan nan nan Lnan nan Qnan nan nan nan Qnan nan nan nan Qnan nan nan nan Qnan nan nan nan Qnan nan nan nan Qnan nan nan nan Qnan nan nan nan Qnan nan nan nan Z\" fill=\"#000000\" fill-rule=\"nonzero\" fill-opacity=\"1\" /><path clip-path=\"url(#clip990)\" d=\"Mnan nan Lnan nan Lnan nan Lnan nan Lnan nan Z\" fill=\"#000000\" fill-rule=\"nonzero\" fill-opacity=\"1\" /><path clip-path=\"url(#clip990)\" d=\"Mnan nan Qnan nan nan nan Qnan nan nan nan Qnan nan nan nan Qnan nan nan nan Qnan nan nan nan Qnan nan nan nan Qnan nan nan nan Qnan nan nan nan Mnan nan Qnan nan nan nan Qnan nan nan nan Qnan nan nan nan Qnan nan nan nan Qnan nan nan nan Qnan nan nan nan Qnan nan nan nan Qnan nan nan nan Z\" fill=\"#000000\" fill-rule=\"nonzero\" fill-opacity=\"1\" /><path clip-path=\"url(#clip990)\" d=\"Mnan nan Qnan nan nan nan Qnan nan nan nan Qnan nan nan nan Qnan nan nan nan Qnan nan nan nan Qnan nan nan nan Qnan nan nan nan Qnan nan nan nan Mnan nan Qnan nan nan nan Qnan nan nan nan Qnan nan nan nan Qnan nan nan nan Qnan nan nan nan Qnan nan nan nan Qnan nan nan nan Qnan nan nan nan Z\" fill=\"#000000\" fill-rule=\"nonzero\" fill-opacity=\"1\" /><path clip-path=\"url(#clip990)\" d=\"Mnan nan Lnan nan Lnan nan Lnan nan Lnan nan Lnan nan Lnan nan Lnan nan Lnan nan Lnan nan Lnan nan Lnan nan Lnan nan Z\" fill=\"#000000\" fill-rule=\"nonzero\" fill-opacity=\"1\" /><path clip-path=\"url(#clip990)\" d=\"Mnan nan Lnan nan Lnan nan Lnan nan Lnan nan Lnan nan Lnan nan Lnan nan Lnan nan Lnan nan Lnan nan Lnan nan Z\" fill=\"#000000\" fill-rule=\"nonzero\" fill-opacity=\"1\" /><path clip-path=\"url(#clip990)\" d=\"Mnan nan Qnan nan nan nan Qnan nan nan nan Qnan nan nan nan Qnan nan nan nan Qnan nan nan nan Qnan nan nan nan Qnan nan nan nan Qnan nan nan nan Mnan nan Qnan nan nan nan Qnan nan nan nan Qnan nan nan nan Qnan nan nan nan Qnan nan nan nan Qnan nan nan nan Qnan nan nan nan Qnan nan nan nan Z\" fill=\"#000000\" fill-rule=\"nonzero\" fill-opacity=\"1\" /><path clip-path=\"url(#clip990)\" d=\"Mnan nan Lnan nan Lnan nan Lnan nan Mnan nan Lnan nan Lnan nan Lnan nan Lnan nan Lnan nan Lnan nan Lnan nan Lnan nan Lnan nan Lnan nan Lnan nan Z\" fill=\"#000000\" fill-rule=\"nonzero\" fill-opacity=\"1\" /><path clip-path=\"url(#clip990)\" d=\"Mnan nan Lnan nan Lnan nan Lnan nan Mnan nan Lnan nan Lnan nan Lnan nan Lnan nan Lnan nan Lnan nan Lnan nan Lnan nan Lnan nan Lnan nan Lnan nan Z\" fill=\"#000000\" fill-rule=\"nonzero\" fill-opacity=\"1\" /><path clip-path=\"url(#clip990)\" d=\"Mnan nan Lnan nan Lnan nan Lnan nan Lnan nan Z\" fill=\"#000000\" fill-rule=\"nonzero\" fill-opacity=\"1\" /><path clip-path=\"url(#clip990)\" d=\"Mnan nan Qnan nan nan nan Qnan nan nan nan Qnan nan nan nan Qnan nan nan nan Qnan nan nan nan Qnan nan nan nan Qnan nan nan nan Qnan nan nan nan Mnan nan Qnan nan nan nan Qnan nan nan nan Qnan nan nan nan Qnan nan nan nan Qnan nan nan nan Qnan nan nan nan Qnan nan nan nan Qnan nan nan nan Z\" fill=\"#000000\" fill-rule=\"nonzero\" fill-opacity=\"1\" /><path clip-path=\"url(#clip990)\" d=\"Mnan nan Qnan nan nan nan Qnan nan nan nan Qnan nan nan nan Qnan nan nan nan Qnan nan nan nan Qnan nan nan nan Qnan nan nan nan Qnan nan nan nan Mnan nan Qnan nan nan nan Qnan nan nan nan Qnan nan nan nan Qnan nan nan nan Qnan nan nan nan Qnan nan nan nan Qnan nan nan nan Qnan nan nan nan Z\" fill=\"#000000\" fill-rule=\"nonzero\" fill-opacity=\"1\" /><path clip-path=\"url(#clip990)\" d=\"Mnan nan Lnan nan Lnan nan Lnan nan Lnan nan Lnan nan Lnan nan Lnan nan Lnan nan Lnan nan Lnan nan Lnan nan Lnan nan Z\" fill=\"#000000\" fill-rule=\"nonzero\" fill-opacity=\"1\" /><path clip-path=\"url(#clip990)\" d=\"Mnan nan Lnan nan Lnan nan Lnan nan Lnan nan Lnan nan Lnan nan Lnan nan Lnan nan Lnan nan Lnan nan Lnan nan Z\" fill=\"#000000\" fill-rule=\"nonzero\" fill-opacity=\"1\" /><path clip-path=\"url(#clip990)\" d=\"Mnan nan Qnan nan nan nan Qnan nan nan nan Qnan nan nan nan Qnan nan nan nan Qnan nan nan nan Qnan nan nan nan Qnan nan nan nan Qnan nan nan nan Mnan nan Qnan nan nan nan Qnan nan nan nan Qnan nan nan nan Qnan nan nan nan Qnan nan nan nan Qnan nan nan nan Qnan nan nan nan Qnan nan nan nan Z\" fill=\"#000000\" fill-rule=\"nonzero\" fill-opacity=\"1\" /><path clip-path=\"url(#clip990)\" d=\"Mnan nan Lnan nan Lnan nan Lnan nan Mnan nan Lnan nan Lnan nan Lnan nan Lnan nan Lnan nan Lnan nan Lnan nan Lnan nan Lnan nan Lnan nan Lnan nan Z\" fill=\"#000000\" fill-rule=\"nonzero\" fill-opacity=\"1\" /><path clip-path=\"url(#clip990)\" d=\"Mnan nan Qnan nan nan nan Qnan nan nan nan Qnan nan nan nan Qnan nan nan nan Qnan nan nan nan Qnan nan nan nan Qnan nan nan nan Qnan nan nan nan Mnan nan Lnan nan Qnan nan nan nan Qnan nan nan nan Qnan nan nan nan Qnan nan nan nan Qnan nan nan nan Qnan nan nan nan Qnan nan nan nan Qnan nan nan nan Qnan nan nan nan Qnan nan nan nan Qnan nan nan nan Qnan nan nan nan Qnan nan nan nan Qnan nan nan nan Qnan nan nan nan Qnan nan nan nan Z\" fill=\"#000000\" fill-rule=\"nonzero\" fill-opacity=\"1\" /><path clip-path=\"url(#clip990)\" d=\"Mnan nan Lnan nan Lnan nan Lnan nan Lnan nan Z\" fill=\"#000000\" fill-rule=\"nonzero\" fill-opacity=\"1\" /><path clip-path=\"url(#clip990)\" d=\"Mnan nan Qnan nan nan nan Qnan nan nan nan Qnan nan nan nan Qnan nan nan nan Qnan nan nan nan Qnan nan nan nan Qnan nan nan nan Qnan nan nan nan Mnan nan Qnan nan nan nan Qnan nan nan nan Qnan nan nan nan Qnan nan nan nan Qnan nan nan nan Qnan nan nan nan Qnan nan nan nan Qnan nan nan nan Z\" fill=\"#000000\" fill-rule=\"nonzero\" fill-opacity=\"1\" /><path clip-path=\"url(#clip990)\" d=\"Mnan nan Qnan nan nan nan Qnan nan nan nan Qnan nan nan nan Qnan nan nan nan Qnan nan nan nan Qnan nan nan nan Qnan nan nan nan Qnan nan nan nan Mnan nan Qnan nan nan nan Qnan nan nan nan Qnan nan nan nan Qnan nan nan nan Qnan nan nan nan Qnan nan nan nan Qnan nan nan nan Qnan nan nan nan Z\" fill=\"#000000\" fill-rule=\"nonzero\" fill-opacity=\"1\" /><path clip-path=\"url(#clip990)\" d=\"Mnan nan Lnan nan Lnan nan Lnan nan Lnan nan Lnan nan Lnan nan Lnan nan Lnan nan Lnan nan Lnan nan Lnan nan Lnan nan Z\" fill=\"#000000\" fill-rule=\"nonzero\" fill-opacity=\"1\" /><path clip-path=\"url(#clip990)\" d=\"Mnan nan Lnan nan Lnan nan Lnan nan Lnan nan Lnan nan Lnan nan Lnan nan Lnan nan Lnan nan Lnan nan Lnan nan Z\" fill=\"#000000\" fill-rule=\"nonzero\" fill-opacity=\"1\" /><path clip-path=\"url(#clip990)\" d=\"Mnan nan Qnan nan nan nan Qnan nan nan nan Qnan nan nan nan Qnan nan nan nan Qnan nan nan nan Qnan nan nan nan Qnan nan nan nan Qnan nan nan nan Mnan nan Qnan nan nan nan Qnan nan nan nan Qnan nan nan nan Qnan nan nan nan Qnan nan nan nan Qnan nan nan nan Qnan nan nan nan Qnan nan nan nan Z\" fill=\"#000000\" fill-rule=\"nonzero\" fill-opacity=\"1\" /><path clip-path=\"url(#clip990)\" d=\"Mnan nan Lnan nan Lnan nan Lnan nan Mnan nan Lnan nan Lnan nan Lnan nan Lnan nan Lnan nan Lnan nan Lnan nan Lnan nan Lnan nan Lnan nan Lnan nan Z\" fill=\"#000000\" fill-rule=\"nonzero\" fill-opacity=\"1\" /><path clip-path=\"url(#clip990)\" d=\"Mnan nan Qnan nan nan nan Qnan nan nan nan Qnan nan nan nan Qnan nan nan nan Qnan nan nan nan Qnan nan nan nan Qnan nan nan nan Qnan nan nan nan Mnan nan Qnan nan nan nan Qnan nan nan nan Qnan nan nan nan Qnan nan nan nan Qnan nan nan nan Qnan nan nan nan Qnan nan nan nan Qnan nan nan nan Qnan nan nan nan Qnan nan nan nan Qnan nan nan nan Qnan nan nan nan Qnan nan nan nan Qnan nan nan nan Qnan nan nan nan Qnan nan nan nan Mnan nan Qnan nan nan nan Qnan nan nan nan Qnan nan nan nan Qnan nan nan nan Qnan nan nan nan Qnan nan nan nan Qnan nan nan nan Qnan nan nan nan Z\" fill=\"#000000\" fill-rule=\"nonzero\" fill-opacity=\"1\" /><path clip-path=\"url(#clip990)\" d=\"Mnan nan Lnan nan Lnan nan Lnan nan Lnan nan Z\" fill=\"#000000\" fill-rule=\"nonzero\" fill-opacity=\"1\" /><path clip-path=\"url(#clip990)\" d=\"Mnan nan Qnan nan nan nan Qnan nan nan nan Qnan nan nan nan Qnan nan nan nan Qnan nan nan nan Qnan nan nan nan Qnan nan nan nan Qnan nan nan nan Mnan nan Qnan nan nan nan Qnan nan nan nan Qnan nan nan nan Qnan nan nan nan Qnan nan nan nan Qnan nan nan nan Qnan nan nan nan Qnan nan nan nan Z\" fill=\"#000000\" fill-rule=\"nonzero\" fill-opacity=\"1\" /><path clip-path=\"url(#clip990)\" d=\"Mnan nan Qnan nan nan nan Qnan nan nan nan Qnan nan nan nan Qnan nan nan nan Qnan nan nan nan Qnan nan nan nan Qnan nan nan nan Qnan nan nan nan Mnan nan Qnan nan nan nan Qnan nan nan nan Qnan nan nan nan Qnan nan nan nan Qnan nan nan nan Qnan nan nan nan Qnan nan nan nan Qnan nan nan nan Z\" fill=\"#000000\" fill-rule=\"nonzero\" fill-opacity=\"1\" /><path clip-path=\"url(#clip990)\" d=\"Mnan nan Lnan nan Lnan nan Lnan nan Lnan nan Lnan nan Lnan nan Lnan nan Lnan nan Lnan nan Lnan nan Lnan nan Lnan nan Z\" fill=\"#000000\" fill-rule=\"nonzero\" fill-opacity=\"1\" /><path clip-path=\"url(#clip990)\" d=\"Mnan nan Lnan nan Lnan nan Lnan nan Lnan nan Lnan nan Lnan nan Lnan nan Lnan nan Lnan nan Lnan nan Lnan nan Z\" fill=\"#000000\" fill-rule=\"nonzero\" fill-opacity=\"1\" /><path clip-path=\"url(#clip990)\" d=\"Mnan nan Qnan nan nan nan Qnan nan nan nan Qnan nan nan nan Qnan nan nan nan Qnan nan nan nan Qnan nan nan nan Qnan nan nan nan Qnan nan nan nan Mnan nan Qnan nan nan nan Qnan nan nan nan Qnan nan nan nan Qnan nan nan nan Qnan nan nan nan Qnan nan nan nan Qnan nan nan nan Qnan nan nan nan Z\" fill=\"#000000\" fill-rule=\"nonzero\" fill-opacity=\"1\" /><path clip-path=\"url(#clip990)\" d=\"Mnan nan Lnan nan Lnan nan Lnan nan Mnan nan Lnan nan Lnan nan Lnan nan Lnan nan Lnan nan Lnan nan Lnan nan Lnan nan Lnan nan Lnan nan Lnan nan Z\" fill=\"#000000\" fill-rule=\"nonzero\" fill-opacity=\"1\" /><path clip-path=\"url(#clip990)\" d=\"Mnan nan Lnan nan Lnan nan Lnan nan Lnan nan Lnan nan Lnan nan Lnan nan Lnan nan Lnan nan Lnan nan Lnan nan Z\" fill=\"#000000\" fill-rule=\"nonzero\" fill-opacity=\"1\" /><path clip-path=\"url(#clip990)\" d=\"Mnan nan Lnan nan Lnan nan Lnan nan Lnan nan Z\" fill=\"#000000\" fill-rule=\"nonzero\" fill-opacity=\"1\" /><path clip-path=\"url(#clip990)\" d=\"Mnan nan Qnan nan nan nan Qnan nan nan nan Qnan nan nan nan Qnan nan nan nan Qnan nan nan nan Qnan nan nan nan Qnan nan nan nan Qnan nan nan nan Mnan nan Qnan nan nan nan Qnan nan nan nan Qnan nan nan nan Qnan nan nan nan Qnan nan nan nan Qnan nan nan nan Qnan nan nan nan Qnan nan nan nan Z\" fill=\"#000000\" fill-rule=\"nonzero\" fill-opacity=\"1\" /><path clip-path=\"url(#clip990)\" d=\"Mnan nan Qnan nan nan nan Qnan nan nan nan Qnan nan nan nan Qnan nan nan nan Qnan nan nan nan Qnan nan nan nan Qnan nan nan nan Qnan nan nan nan Mnan nan Qnan nan nan nan Qnan nan nan nan Qnan nan nan nan Qnan nan nan nan Qnan nan nan nan Qnan nan nan nan Qnan nan nan nan Qnan nan nan nan Z\" fill=\"#000000\" fill-rule=\"nonzero\" fill-opacity=\"1\" /><path clip-path=\"url(#clip990)\" d=\"Mnan nan Lnan nan Lnan nan Lnan nan Lnan nan Lnan nan Lnan nan Lnan nan Lnan nan Lnan nan Lnan nan Lnan nan Lnan nan Z\" fill=\"#000000\" fill-rule=\"nonzero\" fill-opacity=\"1\" /><path clip-path=\"url(#clip990)\" d=\"Mnan nan Lnan nan Lnan nan Lnan nan Lnan nan Lnan nan Lnan nan Lnan nan Lnan nan Lnan nan Lnan nan Lnan nan Z\" fill=\"#000000\" fill-rule=\"nonzero\" fill-opacity=\"1\" /><path clip-path=\"url(#clip990)\" d=\"Mnan nan Qnan nan nan nan Qnan nan nan nan Qnan nan nan nan Qnan nan nan nan Qnan nan nan nan Qnan nan nan nan Qnan nan nan nan Qnan nan nan nan Mnan nan Qnan nan nan nan Qnan nan nan nan Qnan nan nan nan Qnan nan nan nan Qnan nan nan nan Qnan nan nan nan Qnan nan nan nan Qnan nan nan nan Z\" fill=\"#000000\" fill-rule=\"nonzero\" fill-opacity=\"1\" /><path clip-path=\"url(#clip990)\" d=\"Mnan nan Lnan nan Lnan nan Lnan nan Lnan nan Qnan nan nan nan Qnan nan nan nan Qnan nan nan nan Qnan nan nan nan Qnan nan nan nan Qnan nan nan nan Qnan nan nan nan Qnan nan nan nan Lnan nan Qnan nan nan nan Qnan nan nan nan Qnan nan nan nan Qnan nan nan nan Qnan nan nan nan Qnan nan nan nan Qnan nan nan nan Qnan nan nan nan Lnan nan Z\" fill=\"#000000\" fill-rule=\"nonzero\" fill-opacity=\"1\" /><path clip-path=\"url(#clip990)\" d=\"Mnan nan Lnan nan Lnan nan Lnan nan Lnan nan Lnan nan Lnan nan Lnan nan Lnan nan Lnan nan Lnan nan Lnan nan Z\" fill=\"#000000\" fill-rule=\"nonzero\" fill-opacity=\"1\" /><path clip-path=\"url(#clip990)\" d=\"Mnan nan Lnan nan Lnan nan Lnan nan Lnan nan Z\" fill=\"#000000\" fill-rule=\"nonzero\" fill-opacity=\"1\" /><path clip-path=\"url(#clip990)\" d=\"Mnan nan Lnan nan Lnan nan Lnan nan Lnan nan Qnan nan nan nan Qnan nan nan nan Qnan nan nan nan Qnan nan nan nan Qnan nan nan nan Qnan nan nan nan Qnan nan nan nan Qnan nan nan nan Lnan nan Qnan nan nan nan Qnan nan nan nan Qnan nan nan nan Qnan nan nan nan Qnan nan nan nan Qnan nan nan nan Qnan nan nan nan Qnan nan nan nan Z\" fill=\"#000000\" fill-rule=\"nonzero\" fill-opacity=\"1\" /><path clip-path=\"url(#clip990)\" d=\"Mnan nan Qnan nan nan nan Qnan nan nan nan Qnan nan nan nan Qnan nan nan nan Qnan nan nan nan Qnan nan nan nan Qnan nan nan nan Qnan nan nan nan Mnan nan Qnan nan nan nan Qnan nan nan nan Qnan nan nan nan Qnan nan nan nan Qnan nan nan nan Qnan nan nan nan Qnan nan nan nan Qnan nan nan nan Z\" fill=\"#000000\" fill-rule=\"nonzero\" fill-opacity=\"1\" /><path clip-path=\"url(#clip990)\" d=\"Mnan nan Lnan nan Lnan nan Lnan nan Lnan nan Lnan nan Lnan nan Lnan nan Lnan nan Lnan nan Lnan nan Lnan nan Lnan nan Z\" fill=\"#000000\" fill-rule=\"nonzero\" fill-opacity=\"1\" /><path clip-path=\"url(#clip990)\" d=\"Mnan nan Lnan nan Lnan nan Lnan nan Lnan nan Lnan nan Lnan nan Lnan nan Lnan nan Lnan nan Lnan nan Lnan nan Z\" fill=\"#000000\" fill-rule=\"nonzero\" fill-opacity=\"1\" /><path clip-path=\"url(#clip990)\" d=\"Mnan nan Qnan nan nan nan Qnan nan nan nan Qnan nan nan nan Qnan nan nan nan Qnan nan nan nan Qnan nan nan nan Qnan nan nan nan Qnan nan nan nan Mnan nan Qnan nan nan nan Qnan nan nan nan Qnan nan nan nan Qnan nan nan nan Qnan nan nan nan Qnan nan nan nan Qnan nan nan nan Qnan nan nan nan Z\" fill=\"#000000\" fill-rule=\"nonzero\" fill-opacity=\"1\" /><path clip-path=\"url(#clip990)\" d=\"Mnan nan Lnan nan Lnan nan Lnan nan Lnan nan Qnan nan nan nan Qnan nan nan nan Qnan nan nan nan Qnan nan nan nan Qnan nan nan nan Qnan nan nan nan Qnan nan nan nan Qnan nan nan nan Lnan nan Qnan nan nan nan Qnan nan nan nan Qnan nan nan nan Qnan nan nan nan Qnan nan nan nan Qnan nan nan nan Qnan nan nan nan Qnan nan nan nan Lnan nan Z\" fill=\"#000000\" fill-rule=\"nonzero\" fill-opacity=\"1\" /><polyline clip-path=\"url(#clip992)\" style=\"stroke:#009af9; stroke-linecap:round; stroke-linejoin:round; stroke-width:4; stroke-opacity:1; fill:none\" points=\"2352.76,-6.76314e+06 4618.52,-4.1943e+06 6884.28,-4.1943e+06 9150.05,-4.1943e+06 11415.8,-4.1943e+06 13681.6,-4.1943e+06 15947.3,-4.1943e+06 18213.1,-4.1943e+06 20478.9,-4.1943e+06 22744.6,-4.1943e+06 25010.4,-4.1943e+06 27276.2,-4.1943e+06 29541.9,-4.1943e+06 31807.7,-4.1943e+06 34073.4,-4.1943e+06 36339.2,-4.1943e+06 38605,-4.1943e+06 40870.7,-4.1943e+06 43136.5,-4.1943e+06 45402.3,-4.1943e+06 47668,-4.1943e+06 49933.8,-4.1943e+06 52199.6,-4.1943e+06 54465.3,-4.1943e+06 56731.1,-4.1943e+06 58996.9,-4.1943e+06 61262.6,-4.1943e+06 63528.4,-4.1943e+06 65794.1,-4.1943e+06 68059.9,-4.1943e+06 70325.7,-4.1943e+06 72591.4,-4.1943e+06 74857.2,-4.1943e+06 77123,-4.1943e+06 79388.7,-4.1943e+06 81654.5,-4.1943e+06 83920.3,-4.1667e+06 86186,-4.16639e+06 88451.8,-4.0943e+06 90717.5,-3.99388e+06 92983.3,-3.88366e+06 95249.1,-3.75874e+06 97514.8,-3.68806e+06 99780.6,-3.66736e+06 102046,-3.56694e+06 104312,-3.55879e+06 106578,-3.55824e+06 108844,-3.53708e+06 111109,-3.48331e+06 113375,-3.48304e+06 115641,-3.4255e+06 117907,-3.42345e+06 120172,-3.32059e+06 122438,-3.25948e+06 124704,-3.13726e+06 126970,-3.06044e+06 129236,-3.00407e+06 131501,-2.90414e+06 133767,-2.7821e+06 136033,-2.76428e+06 138299,-2.76222e+06 140564,-2.76104e+06 142830,-2.70711e+06 145096,-2.68314e+06 147362,-2.53828e+06 149627,-2.44653e+06 151893,-2.35053e+06 154159,-2.29554e+06 156425,-2.28939e+06 158690,-2.28921e+06 160956,-2.28798e+06 163222,-2.23247e+06 165488,-2.13517e+06 167754,-2.01784e+06 170019,-2.01716e+06 172285,-1.92219e+06 174551,-1.9221e+06 176817,-1.9221e+06 179082,-1.92039e+06 181348,-1.91997e+06 183614,-1.91979e+06 185880,-1.85349e+06 188145,-1.84437e+06 190411,-1.82351e+06 192677,-1.82336e+06 194943,-1.76313e+06 197208,-1.71477e+06 199474,-1.64179e+06 201740,-1.54621e+06 204006,-1.54242e+06 206271,-1.53871e+06 208537,-1.53798e+06 210803,-1.47133e+06 213069,-1.42626e+06 215335,-1.29513e+06 217600,-1.2942e+06 219866,-1.24864e+06 222132,-1.19529e+06 224398,-1.12163e+06 226663,-1.11151e+06 228929,-1.11059e+06 231195,-1.08299e+06 233461,-1.03459e+06 235726,-1.01256e+06 237992,-976783 240258,-918592 242524,-822397 244789,-687601 247055,-687486 249321,-687467 251587,-649770 253853,-628813 256118,-571623 258384,-515395 260650,-435386 262916,-417454 265181,-385261 267447,-385258 269713,-357625 271979,-308335 274244,-301044 276510,-299177 278776,-264658 281042,-259566 283307,-158384 285573,-135352 287839,-88615.1 290105,-83437 292371,-83134.1 294636,-56506.3 296902,21875.4 299168,22917.2 301434,155009 303699,171214 305965,265293 308231,375178 310497,390320 312762,402102 315028,417096 317294,417983 319560,486381 321825,537709 324091,593052 326357,593233 328623,602229 330889,676201 333154,737663 335420,747461 337686,768533 339952,842444 342217,844816 344483,954619 346749,1.0408e+06 349015,1.04101e+06 351280,1.04128e+06 353546,1.12114e+06 355812,1.12166e+06 358078,1.16616e+06 360343,1.16925e+06 362609,1.16925e+06 364875,1.16932e+06 367141,1.1697e+06 369406,1.20233e+06 371672,1.20663e+06 373938,1.20749e+06 376204,1.20805e+06 378470,1.20841e+06 380735,1.28333e+06 383001,1.28403e+06 385267,1.28837e+06 387533,1.3604e+06 389798,1.36067e+06 392064,1.36195e+06 394330,1.36208e+06 396596,1.36357e+06 398861,1.36381e+06 401127,1.39224e+06 403393,1.42942e+06 405659,1.43003e+06 407924,1.4302e+06 410190,1.45153e+06 412456,1.51423e+06 414722,1.51455e+06 416988,1.53412e+06 419253,1.53427e+06 421519,1.54514e+06 423785,1.54604e+06 426051,1.6081e+06 428316,1.67973e+06 430582,1.68015e+06 432848,1.68068e+06 435114,1.72798e+06 437379,1.79604e+06 439645,1.84548e+06 441911,1.84846e+06 444177,1.91282e+06 446442,1.95172e+06 448708,1.95306e+06 450974,1.95553e+06 453240,1.95607e+06 455506,2.06705e+06 457771,2.06716e+06 460037,2.07269e+06 462303,2.12494e+06 464569,2.12755e+06 466834,2.12755e+06 469100,2.12831e+06 471366,2.18876e+06 473632,2.1892e+06 475897,2.18922e+06 478163,2.18943e+06 480429,2.23537e+06 482695,2.23754e+06 484960,2.2756e+06 487226,2.30399e+06 489492,2.31775e+06 491758,2.37926e+06 494023,2.39746e+06 496289,2.48056e+06 498555,2.48119e+06 500821,2.50104e+06 503087,2.51739e+06 505352,2.54429e+06 507618,2.55058e+06 509884,2.55095e+06 512150,2.55153e+06 514415,2.59164e+06 516681,2.59194e+06 518947,2.60318e+06 521213,2.60423e+06 523478,2.60438e+06 525744,2.60648e+06 528010,2.6568e+06 530276,2.68742e+06 532541,2.69729e+06 534807,2.69752e+06 537073,2.72832e+06 539339,2.72871e+06 541605,2.75868e+06 543870,2.76466e+06 546136,2.76691e+06 548402,2.76772e+06 550668,2.76798e+06 552933,2.76881e+06 555199,2.7689e+06 557465,2.76975e+06 559731,2.852e+06 561996,2.88616e+06 564262,2.88884e+06 566528,2.88989e+06 568794,2.88996e+06 571059,2.89584e+06 573325,2.93748e+06 575591,2.94259e+06 577857,3.00611e+06 580123,3.0332e+06 582388,3.03337e+06 584654,3.04407e+06 586920,3.05437e+06 589186,3.05605e+06 591451,3.08997e+06 593717,3.09907e+06 595983,3.10186e+06 598249,3.16142e+06 600514,3.16554e+06 602780,3.20692e+06 605046,3.22039e+06 607312,3.22242e+06 609577,3.2379e+06 611843,3.30035e+06 614109,3.30125e+06 616375,3.31612e+06 618641,3.31827e+06 620906,3.32035e+06 623172,3.32214e+06 625438,3.33143e+06 627704,3.33251e+06 629969,3.35645e+06 632235,3.41365e+06 634501,3.418e+06 636767,3.42242e+06 639032,3.46024e+06 641298,3.46148e+06 643564,3.46198e+06 645830,3.46243e+06 648095,3.50613e+06 650361,3.52105e+06 652627,3.53227e+06 654893,3.53327e+06 657158,3.58117e+06 659424,3.58206e+06 661690,3.58479e+06 663956,3.58495e+06 666222,3.58928e+06 668487,3.58952e+06 670753,3.63166e+06 673019,3.64769e+06 675285,3.66856e+06 677550,3.72069e+06 679816,3.72205e+06 682082,3.72269e+06 684348,3.72664e+06 686613,3.72705e+06 688879,3.7304e+06 691145,3.73669e+06 693411,3.77541e+06 695676,3.77581e+06 697942,3.77657e+06 700208,3.77763e+06 702474,3.77778e+06 704740,3.78068e+06 707005,3.78173e+06 709271,3.78345e+06 711537,3.78436e+06 713803,3.81119e+06 716068,3.81508e+06 718334,3.81788e+06 720600,3.83227e+06 722866,3.85445e+06 725131,3.85497e+06 727397,3.85639e+06 729663,3.85775e+06 731929,3.89319e+06 734194,3.89603e+06 736460,3.90069e+06 738726,3.90223e+06 740992,3.91207e+06 743258,3.93008e+06 745523,3.93108e+06 747789,3.93113e+06 750055,3.93221e+06 752321,3.93421e+06 754586,3.93553e+06 756852,3.94977e+06 759118,3.9699e+06 761384,3.9714e+06 763649,3.99845e+06 765915,4.00016e+06 768181,4.00274e+06 770447,4.00839e+06 772712,4.03463e+06 774978,4.03467e+06 777244,4.03824e+06 779510,4.03949e+06 781775,4.04772e+06 784041,4.08549e+06 786307,4.08557e+06 788573,4.088e+06 790839,4.09131e+06 793104,4.1027e+06 795370,4.10337e+06 797636,4.10425e+06 799902,4.10998e+06 802167,4.11017e+06 804433,4.142e+06 806699,4.14219e+06 808965,4.15165e+06 811230,4.15266e+06 813496,4.16122e+06 815762,4.16526e+06 818028,4.1696e+06 820293,4.17261e+06 822559,4.17296e+06 824825,4.1762e+06 827091,4.1943e+06 829357,4.1943e+06 831622,4.1943e+06 833888,4.1943e+06 836154,4.1943e+06 838420,4.1943e+06 840685,4.1943e+06 842951,4.1943e+06 845217,4.1943e+06 847483,4.1943e+06 849748,4.1943e+06 852014,4.1943e+06 854280,4.1943e+06 856546,4.1943e+06 858811,4.1943e+06 861077,4.1943e+06 863343,4.1943e+06 865609,4.1943e+06 867875,4.1943e+06 870140,4.1943e+06 872406,4.1943e+06 874672,4.1943e+06 876938,4.1943e+06 879203,4.1943e+06 881469,4.1943e+06 883735,4.1943e+06 886001,4.1943e+06 888266,4.1943e+06 890532,4.1943e+06 892798,4.1943e+06 895064,4.1943e+06 897329,4.1943e+06 899595,4.1943e+06 901861,4.1943e+06 904127,4.1943e+06 906393,4.1943e+06 908658,4.1943e+06 910924,4.1943e+06 913190,4.1943e+06 915456,4.1943e+06 917721,4.1943e+06 919987,4.1943e+06 922253,4.1943e+06 924519,4.1943e+06 926784,4.1943e+06 929050,4.1943e+06 931316,4.1943e+06 933582,4.1943e+06 935847,4.1943e+06 938113,4.1943e+06 940379,4.1943e+06 942645,4.1943e+06 944910,4.1943e+06 947176,4.1943e+06 949442,4.1943e+06 951708,4.1943e+06 953974,4.1943e+06 956239,4.1943e+06 958505,4.1943e+06 960771,4.1943e+06 963037,4.1943e+06 965302,4.1943e+06 967568,4.1943e+06 969834,4.1943e+06 972100,4.1943e+06 974365,4.1943e+06 976631,4.1943e+06 978897,4.1943e+06 981163,4.1943e+06 983428,4.1943e+06 985694,4.1943e+06 987960,4.1943e+06 990226,4.1943e+06 992492,4.1943e+06 994757,4.1943e+06 997023,4.1943e+06 999289,4.1943e+06 1.00155e+06,4.1943e+06 1.00382e+06,4.1943e+06 1.00609e+06,4.1943e+06 1.00835e+06,4.1943e+06 1.01062e+06,4.1943e+06 1.01288e+06,4.1943e+06 1.01515e+06,4.1943e+06 1.01741e+06,4.1943e+06 1.01968e+06,4.1943e+06 1.02195e+06,4.1943e+06 1.02421e+06,4.1943e+06 1.02648e+06,4.1943e+06 1.02874e+06,4.1943e+06 1.03101e+06,4.1943e+06 1.03328e+06,4.1943e+06 1.03554e+06,4.1943e+06 1.03781e+06,4.1943e+06 1.04007e+06,4.1943e+06 1.04234e+06,4.1943e+06 1.0446e+06,4.1943e+06 1.04687e+06,4.1943e+06 1.04914e+06,4.1943e+06 1.0514e+06,4.1943e+06 1.05367e+06,4.1943e+06 1.05593e+06,4.1943e+06 1.0582e+06,4.1943e+06 1.06046e+06,4.1943e+06 1.06273e+06,4.1943e+06 1.065e+06,4.1943e+06 1.06726e+06,4.1943e+06 1.06953e+06,4.1943e+06 1.07179e+06,4.1943e+06 1.07406e+06,4.1943e+06 1.07632e+06,4.1943e+06 1.07859e+06,4.1943e+06 1.08086e+06,4.1943e+06 1.08312e+06,4.1943e+06 1.08539e+06,4.1943e+06 1.08765e+06,4.1943e+06 1.08992e+06,4.1943e+06 1.09219e+06,4.1943e+06 1.09445e+06,4.1943e+06 1.09672e+06,4.1943e+06 1.09898e+06,4.1943e+06 1.10125e+06,4.1943e+06 1.10351e+06,4.1943e+06 1.10578e+06,4.1943e+06 1.10805e+06,4.1943e+06 1.11031e+06,4.1943e+06 1.11258e+06,4.1943e+06 1.11484e+06,4.1943e+06 1.11711e+06,4.1943e+06 1.11937e+06,4.1943e+06 1.12164e+06,4.1943e+06 1.12391e+06,4.1943e+06 1.12617e+06,4.1943e+06 1.12844e+06,4.1943e+06 1.1307e+06,4.1943e+06 1.13297e+06,4.1943e+06 1.13523e+06,4.1943e+06 1.1375e+06,4.1943e+06 1.13977e+06,4.1943e+06 1.14203e+06,4.1943e+06 1.1443e+06,4.1943e+06 1.14656e+06,4.1943e+06 1.14883e+06,4.1943e+06 1.15109e+06,4.1943e+06 1.15336e+06,4.1943e+06 1.15563e+06,4.1943e+06 1.15789e+06,4.1943e+06 1.16016e+06,4.1943e+06 1.16242e+06,4.1943e+06 1.16469e+06,4.1943e+06 1.16696e+06,4.1943e+06 1.16922e+06,4.1943e+06 1.17149e+06,4.1943e+06 1.17375e+06,4.1943e+06 1.17602e+06,4.1943e+06 1.17828e+06,4.1943e+06 1.18055e+06,4.1943e+06 1.18282e+06,4.1943e+06 1.18508e+06,4.1943e+06 1.18735e+06,4.1943e+06 1.18961e+06,4.1943e+06 1.19188e+06,4.1943e+06 1.19414e+06,4.1943e+06 1.19641e+06,4.1943e+06 1.19868e+06,4.1943e+06 1.20094e+06,4.1943e+06 1.20321e+06,4.1943e+06 1.20547e+06,4.1943e+06 1.20774e+06,4.1943e+06 1.21e+06,4.1943e+06 1.21227e+06,4.1943e+06 1.21454e+06,4.1943e+06 1.2168e+06,4.1943e+06 1.21907e+06,4.1943e+06 1.22133e+06,4.1943e+06 1.2236e+06,4.1943e+06 1.22587e+06,4.1943e+06 1.22813e+06,4.1943e+06 1.2304e+06,4.1943e+06 1.23266e+06,4.1943e+06 1.23493e+06,4.1943e+06 1.23719e+06,4.1943e+06 1.23946e+06,4.1943e+06 1.24173e+06,4.1943e+06 1.24399e+06,4.1943e+06 1.24626e+06,4.1943e+06 1.24852e+06,4.1943e+06 1.25079e+06,4.1943e+06 1.25305e+06,4.1943e+06 1.25532e+06,4.1943e+06 1.25759e+06,4.1943e+06 1.25985e+06,4.1943e+06 1.26212e+06,4.1943e+06 1.26438e+06,4.1943e+06 1.26665e+06,4.1943e+06 1.26891e+06,4.1943e+06 1.27118e+06,4.1943e+06 1.27345e+06,4.1943e+06 1.27571e+06,4.1943e+06 1.27798e+06,4.1943e+06 1.28024e+06,4.1943e+06 1.28251e+06,4.1943e+06 1.28478e+06,4.1943e+06 1.28704e+06,4.1943e+06 1.28931e+06,4.1943e+06 1.29157e+06,4.1943e+06 1.29384e+06,4.1943e+06 1.2961e+06,4.1943e+06 1.29837e+06,4.1943e+06 1.30064e+06,4.1943e+06 1.3029e+06,4.1943e+06 1.30517e+06,4.1943e+06 1.30743e+06,4.1943e+06 1.3097e+06,4.1943e+06 1.31196e+06,4.1943e+06 1.31423e+06,4.1943e+06 1.3165e+06,4.1943e+06 1.31876e+06,4.1943e+06 1.32103e+06,4.1943e+06 1.32329e+06,4.1943e+06 1.32556e+06,4.1943e+06 1.32782e+06,4.1943e+06 1.33009e+06,4.1943e+06 1.33236e+06,4.1943e+06 1.33462e+06,4.1943e+06 1.33689e+06,4.1943e+06 1.33915e+06,4.1943e+06 1.34142e+06,4.1943e+06 1.34368e+06,4.1943e+06 1.34595e+06,4.1943e+06 1.34822e+06,4.1943e+06 1.35048e+06,4.1943e+06 1.35275e+06,4.1943e+06 1.35501e+06,4.1943e+06 1.35728e+06,4.1943e+06 1.35955e+06,4.1943e+06 1.36181e+06,4.1943e+06 1.36408e+06,4.1943e+06 1.36634e+06,4.1943e+06 1.36861e+06,4.1943e+06 1.37087e+06,4.1943e+06 1.37314e+06,4.1943e+06 1.37541e+06,4.1943e+06 1.37767e+06,4.1943e+06 1.37994e+06,4.1943e+06 1.3822e+06,4.1943e+06 1.38447e+06,4.1943e+06 1.38673e+06,4.1943e+06 1.389e+06,4.1943e+06 1.39127e+06,4.1943e+06 1.39353e+06,4.1943e+06 1.3958e+06,4.1943e+06 1.39806e+06,4.1943e+06 1.40033e+06,4.1943e+06 1.40259e+06,4.1943e+06 1.40486e+06,4.1943e+06 1.40713e+06,4.1943e+06 1.40939e+06,4.1943e+06 1.41166e+06,4.1943e+06 1.41392e+06,4.1943e+06 1.41619e+06,4.1943e+06 1.41846e+06,4.1943e+06 1.42072e+06,4.1943e+06 1.42299e+06,4.1943e+06 1.42525e+06,4.1943e+06 1.42752e+06,4.1943e+06 1.42978e+06,4.1943e+06 1.43205e+06,4.1943e+06 1.43432e+06,4.1943e+06 1.43658e+06,4.1943e+06 1.43885e+06,4.1943e+06 1.44111e+06,4.1943e+06 1.44338e+06,4.1943e+06 1.44564e+06,4.1943e+06 1.44791e+06,4.1943e+06 1.45018e+06,4.1943e+06 1.45244e+06,4.1943e+06 1.45471e+06,4.1943e+06 1.45697e+06,4.1943e+06 1.45924e+06,4.1943e+06 1.4615e+06,4.1943e+06 1.46377e+06,4.1943e+06 1.46604e+06,4.1943e+06 1.4683e+06,4.1943e+06 1.47057e+06,4.1943e+06 1.47283e+06,4.1943e+06 1.4751e+06,4.1943e+06 1.47736e+06,4.1943e+06 1.47963e+06,4.1943e+06 1.4819e+06,4.1943e+06 1.48416e+06,4.1943e+06 1.48643e+06,4.1943e+06 1.48869e+06,4.1943e+06 1.49096e+06,4.1943e+06 1.49323e+06,4.1943e+06 1.49549e+06,4.1943e+06 1.49776e+06,4.1943e+06 1.50002e+06,4.1943e+06 1.50229e+06,4.1943e+06 1.50455e+06,4.1943e+06 1.50682e+06,4.1943e+06 1.50909e+06,4.1943e+06 1.51135e+06,4.1943e+06 1.51362e+06,4.1943e+06 1.51588e+06,4.1943e+06 1.51815e+06,4.1943e+06 1.52041e+06,4.1943e+06 1.52268e+06,4.1943e+06 1.52495e+06,4.1943e+06 1.52721e+06,4.1943e+06 1.52948e+06,4.1943e+06 1.53174e+06,4.1943e+06 1.53401e+06,4.1943e+06 1.53627e+06,4.1943e+06 1.53854e+06,4.1943e+06 1.54081e+06,4.1943e+06 1.54307e+06,4.1943e+06 1.54534e+06,4.1943e+06 1.5476e+06,4.1943e+06 1.54987e+06,4.1943e+06 1.55214e+06,4.1943e+06 1.5544e+06,4.1943e+06 1.55667e+06,4.1943e+06 1.55893e+06,4.1943e+06 1.5612e+06,4.1943e+06 1.56346e+06,4.1943e+06 1.56573e+06,4.1943e+06 1.568e+06,4.1943e+06 1.57026e+06,4.1943e+06 1.57253e+06,4.1943e+06 1.57479e+06,4.1943e+06 1.57706e+06,4.1943e+06 1.57932e+06,4.1943e+06 1.58159e+06,4.1943e+06 1.58386e+06,4.1943e+06 1.58612e+06,4.1943e+06 1.58839e+06,4.1943e+06 1.59065e+06,4.1943e+06 1.59292e+06,4.1943e+06 1.59518e+06,4.1943e+06 1.59745e+06,4.1943e+06 1.59972e+06,4.1943e+06 1.60198e+06,4.1943e+06 1.60425e+06,4.1943e+06 1.60651e+06,4.1943e+06 1.60878e+06,4.1943e+06 1.61105e+06,4.1943e+06 1.61331e+06,4.1943e+06 1.61558e+06,4.1943e+06 1.61784e+06,4.1943e+06 1.62011e+06,4.1943e+06 1.62237e+06,4.1943e+06 1.62464e+06,4.1943e+06 1.62691e+06,4.1943e+06 1.62917e+06,4.1943e+06 1.63144e+06,4.1943e+06 1.6337e+06,4.1943e+06 1.63597e+06,4.1943e+06 1.63823e+06,4.1943e+06 1.6405e+06,4.1943e+06 1.64277e+06,4.1943e+06 1.64503e+06,4.1943e+06 1.6473e+06,4.1943e+06 1.64956e+06,4.1943e+06 1.65183e+06,4.1943e+06 1.65409e+06,4.1943e+06 1.65636e+06,4.1943e+06 1.65863e+06,4.1943e+06 1.66089e+06,4.1943e+06 1.66316e+06,4.1943e+06 1.66542e+06,4.1943e+06 1.66769e+06,4.1943e+06 1.66995e+06,4.1943e+06 1.67222e+06,4.1943e+06 1.67449e+06,4.1943e+06 1.67675e+06,4.1943e+06 1.67902e+06,4.1943e+06 1.68128e+06,4.1943e+06 1.68355e+06,4.1943e+06 1.68582e+06,4.1943e+06 1.68808e+06,4.1943e+06 1.69035e+06,4.1943e+06 1.69261e+06,4.1943e+06 1.69488e+06,4.1943e+06 1.69714e+06,4.1943e+06 1.69941e+06,4.1943e+06 1.70168e+06,4.1943e+06 1.70394e+06,4.1943e+06 1.70621e+06,4.1943e+06 1.70847e+06,4.1943e+06 1.71074e+06,4.1943e+06 1.713e+06,4.1943e+06 1.71527e+06,4.1943e+06 1.71754e+06,4.1943e+06 1.7198e+06,4.1943e+06 1.72207e+06,4.1943e+06 1.72433e+06,4.1943e+06 1.7266e+06,4.1943e+06 1.72886e+06,4.1943e+06 1.73113e+06,4.1943e+06 1.7334e+06,4.1943e+06 1.73566e+06,4.1943e+06 1.73793e+06,4.1943e+06 1.74019e+06,4.1943e+06 1.74246e+06,4.1943e+06 1.74473e+06,4.1943e+06 1.74699e+06,4.1943e+06 1.74926e+06,4.1943e+06 1.75152e+06,4.1943e+06 1.75379e+06,4.1943e+06 1.75605e+06,4.1943e+06 1.75832e+06,4.1943e+06 1.76059e+06,4.1943e+06 1.76285e+06,4.1943e+06 1.76512e+06,4.1943e+06 1.76738e+06,4.1943e+06 1.76965e+06,4.1943e+06 1.77191e+06,4.1943e+06 1.77418e+06,4.1943e+06 1.77645e+06,4.1943e+06 1.77871e+06,4.1943e+06 1.78098e+06,4.1943e+06 1.78324e+06,4.1943e+06 1.78551e+06,4.1943e+06 1.78777e+06,4.1943e+06 1.79004e+06,4.1943e+06 1.79231e+06,4.1943e+06 1.79457e+06,4.1943e+06 1.79684e+06,4.1943e+06 1.7991e+06,4.1943e+06 1.80137e+06,4.1943e+06 1.80363e+06,4.1943e+06 1.8059e+06,4.1943e+06 1.80817e+06,4.1943e+06 1.81043e+06,4.1943e+06 1.8127e+06,4.1943e+06 1.81496e+06,4.1943e+06 1.81723e+06,4.1943e+06 1.8195e+06,4.1943e+06 1.82176e+06,4.1943e+06 1.82403e+06,4.1943e+06 1.82629e+06,4.1943e+06 1.82856e+06,4.1943e+06 1.83082e+06,4.1943e+06 1.83309e+06,4.1943e+06 1.83536e+06,4.1943e+06 1.83762e+06,4.1943e+06 1.83989e+06,4.1943e+06 1.84215e+06,4.1943e+06 1.84442e+06,4.1943e+06 1.84668e+06,4.1943e+06 1.84895e+06,4.1943e+06 1.85122e+06,4.1943e+06 1.85348e+06,4.1943e+06 1.85575e+06,4.1943e+06 1.85801e+06,4.1943e+06 1.86028e+06,4.1943e+06 1.86254e+06,4.1943e+06 1.86481e+06,4.1943e+06 1.86708e+06,4.1943e+06 1.86934e+06,4.1943e+06 1.87161e+06,4.1943e+06 1.87387e+06,4.1943e+06 1.87614e+06,4.1943e+06 1.87841e+06,4.1943e+06 1.88067e+06,4.1943e+06 1.88294e+06,4.1943e+06 1.8852e+06,4.1943e+06 1.88747e+06,4.1943e+06 1.88973e+06,4.1943e+06 1.892e+06,4.1943e+06 1.89427e+06,4.1943e+06 1.89653e+06,4.1943e+06 1.8988e+06,4.1943e+06 1.90106e+06,4.1943e+06 1.90333e+06,4.1943e+06 1.90559e+06,4.1943e+06 1.90786e+06,4.1943e+06 1.91013e+06,4.1943e+06 1.91239e+06,4.1943e+06 1.91466e+06,4.1943e+06 1.91692e+06,4.1943e+06 1.91919e+06,4.1943e+06 1.92145e+06,4.1943e+06 1.92372e+06,4.1943e+06 1.92599e+06,4.1943e+06 1.92825e+06,4.1943e+06 1.93052e+06,4.1943e+06 1.93278e+06,4.1943e+06 1.93505e+06,4.1943e+06 1.93732e+06,4.1943e+06 1.93958e+06,4.1943e+06 1.94185e+06,4.1943e+06 1.94411e+06,4.1943e+06 1.94638e+06,4.1943e+06 1.94864e+06,4.1943e+06 1.95091e+06,4.1943e+06 1.95318e+06,4.1943e+06 1.95544e+06,4.1943e+06 1.95771e+06,4.1943e+06 1.95997e+06,4.1943e+06 1.96224e+06,4.1943e+06 1.9645e+06,4.1943e+06 1.96677e+06,4.1943e+06 1.96904e+06,4.1943e+06 1.9713e+06,4.1943e+06 1.97357e+06,4.1943e+06 1.97583e+06,4.1943e+06 1.9781e+06,4.1943e+06 1.98036e+06,4.1943e+06 1.98263e+06,4.1943e+06 1.9849e+06,4.1943e+06 1.98716e+06,4.1943e+06 1.98943e+06,4.1943e+06 1.99169e+06,4.1943e+06 1.99396e+06,4.1943e+06 1.99622e+06,4.1943e+06 1.99849e+06,4.1943e+06 2.00076e+06,4.1943e+06 2.00302e+06,4.1943e+06 2.00529e+06,4.1943e+06 2.00755e+06,4.1943e+06 2.00982e+06,4.1943e+06 2.01209e+06,4.1943e+06 2.01435e+06,4.1943e+06 2.01662e+06,4.1943e+06 2.01888e+06,4.1943e+06 2.02115e+06,4.1943e+06 2.02341e+06,4.1943e+06 2.02568e+06,4.1943e+06 2.02795e+06,4.1943e+06 2.03021e+06,4.1943e+06 2.03248e+06,4.1943e+06 2.03474e+06,4.1943e+06 2.03701e+06,4.1943e+06 2.03927e+06,4.1943e+06 2.04154e+06,4.1943e+06 2.04381e+06,4.1943e+06 2.04607e+06,4.1943e+06 2.04834e+06,4.1943e+06 2.0506e+06,4.1943e+06 2.05287e+06,4.1943e+06 2.05513e+06,4.1943e+06 2.0574e+06,4.1943e+06 2.05967e+06,4.1943e+06 2.06193e+06,4.1943e+06 2.0642e+06,4.1943e+06 2.06646e+06,4.1943e+06 2.06873e+06,4.1943e+06 2.071e+06,4.1943e+06 2.07326e+06,4.1943e+06 2.07553e+06,4.1943e+06 2.07779e+06,4.1943e+06 2.08006e+06,4.1943e+06 2.08232e+06,4.1943e+06 2.08459e+06,4.1943e+06 2.08686e+06,4.1943e+06 2.08912e+06,4.1943e+06 2.09139e+06,4.1943e+06 2.09365e+06,4.1943e+06 2.09592e+06,4.1943e+06 2.09818e+06,4.1943e+06 2.10045e+06,4.1943e+06 2.10272e+06,4.1943e+06 2.10498e+06,4.1943e+06 2.10725e+06,4.1943e+06 2.10951e+06,4.1943e+06 2.11178e+06,4.1943e+06 2.11404e+06,4.1943e+06 2.11631e+06,4.1943e+06 2.11858e+06,4.1943e+06 2.12084e+06,4.1943e+06 2.12311e+06,4.1943e+06 2.12537e+06,4.1943e+06 2.12764e+06,4.1943e+06 2.1299e+06,4.1943e+06 2.13217e+06,4.1943e+06 2.13444e+06,4.1943e+06 2.1367e+06,4.1943e+06 2.13897e+06,4.1943e+06 2.14123e+06,4.1943e+06 2.1435e+06,4.1943e+06 2.14577e+06,4.1943e+06 2.14803e+06,4.1943e+06 2.1503e+06,4.1943e+06 2.15256e+06,4.1943e+06 2.15483e+06,4.1943e+06 2.15709e+06,4.1943e+06 2.15936e+06,4.1943e+06 2.16163e+06,4.1943e+06 2.16389e+06,4.1943e+06 2.16616e+06,4.1943e+06 2.16842e+06,4.1943e+06 2.17069e+06,4.1943e+06 2.17295e+06,4.1943e+06 2.17522e+06,4.1943e+06 2.17749e+06,4.1943e+06 2.17975e+06,4.1943e+06 2.18202e+06,4.1943e+06 2.18428e+06,4.1943e+06 2.18655e+06,4.1943e+06 2.18881e+06,4.1943e+06 2.19108e+06,4.1943e+06 2.19335e+06,4.1943e+06 2.19561e+06,4.1943e+06 2.19788e+06,4.1943e+06 2.20014e+06,4.1943e+06 2.20241e+06,4.1943e+06 2.20468e+06,4.1943e+06 2.20694e+06,4.1943e+06 2.20921e+06,4.1943e+06 2.21147e+06,4.1943e+06 2.21374e+06,4.1943e+06 2.216e+06,4.1943e+06 2.21827e+06,4.1943e+06 2.22054e+06,4.1943e+06 2.2228e+06,4.1943e+06 2.22507e+06,4.1943e+06 2.22733e+06,4.1943e+06 2.2296e+06,4.1943e+06 2.23186e+06,4.1943e+06 2.23413e+06,4.1943e+06 2.2364e+06,4.1943e+06 2.23866e+06,4.1943e+06 2.24093e+06,4.1943e+06 2.24319e+06,4.1943e+06 2.24546e+06,4.1943e+06 2.24772e+06,4.1943e+06 2.24999e+06,4.1943e+06 2.25226e+06,4.1943e+06 2.25452e+06,4.1943e+06 2.25679e+06,4.1943e+06 2.25905e+06,4.1943e+06 2.26132e+06,4.1943e+06 2.26359e+06,4.1943e+06 2.26585e+06,4.1943e+06 2.26812e+06,4.1943e+06 2.27038e+06,4.1943e+06 2.27265e+06,4.1943e+06 2.27491e+06,4.1943e+06 2.27718e+06,4.1943e+06 2.27945e+06,4.1943e+06 2.28171e+06,4.1943e+06 2.28398e+06,4.1943e+06 2.28624e+06,4.1943e+06 2.28851e+06,4.1943e+06 2.29077e+06,4.1943e+06 2.29304e+06,4.1943e+06 2.29531e+06,4.1943e+06 2.29757e+06,4.1943e+06 2.29984e+06,4.1943e+06 2.3021e+06,4.1943e+06 2.30437e+06,4.1943e+06 2.30663e+06,4.1943e+06 2.3089e+06,4.1943e+06 2.31117e+06,4.1943e+06 2.31343e+06,4.1943e+06 2.3157e+06,4.1943e+06 2.31796e+06,4.1943e+06 2.32023e+06,4.1943e+06 2.32249e+06,4.1943e+06 2.32476e+06,4.1943e+06 2.32703e+06,4.1943e+06 2.32929e+06,4.1943e+06 2.33156e+06,4.1943e+06 2.33382e+06,4.1943e+06 2.33609e+06,4.1943e+06 2.33836e+06,4.1943e+06 2.34062e+06,4.1943e+06 2.34289e+06,4.1943e+06 2.34515e+06,4.1943e+06 2.34742e+06,4.1943e+06 2.34968e+06,4.1943e+06 2.35195e+06,4.1943e+06 2.35422e+06,4.1943e+06 2.35648e+06,4.1943e+06 2.35875e+06,4.1943e+06 2.36101e+06,4.1943e+06 2.36328e+06,4.1943e+06 2.36554e+06,4.1943e+06 2.36781e+06,4.1943e+06 2.37008e+06,4.1943e+06 2.37234e+06,4.1943e+06 2.37461e+06,4.1943e+06 2.37687e+06,4.1943e+06 2.37914e+06,4.1943e+06 2.3814e+06,4.1943e+06 2.38367e+06,4.1943e+06 2.38594e+06,4.1943e+06 2.3882e+06,4.1943e+06 2.39047e+06,4.1943e+06 2.39273e+06,4.1943e+06 2.395e+06,4.1943e+06 2.39727e+06,4.1943e+06 2.39953e+06,4.1943e+06 2.4018e+06,4.1943e+06 2.40406e+06,4.1943e+06 2.40633e+06,4.1943e+06 2.40859e+06,4.1943e+06 2.41086e+06,4.1943e+06 2.41313e+06,4.1943e+06 2.41539e+06,4.1943e+06 2.41766e+06,4.1943e+06 2.41992e+06,4.1943e+06 2.42219e+06,4.1943e+06 2.42445e+06,4.1943e+06 2.42672e+06,4.1943e+06 2.42899e+06,4.1943e+06 2.43125e+06,4.1943e+06 2.43352e+06,4.1943e+06 2.43578e+06,4.1943e+06 2.43805e+06,4.1943e+06 2.44031e+06,4.1943e+06 2.44258e+06,4.1943e+06 2.44485e+06,4.1943e+06 2.44711e+06,4.1943e+06 2.44938e+06,4.1943e+06 2.45164e+06,4.1943e+06 2.45391e+06,4.1943e+06 2.45617e+06,4.1943e+06 2.45844e+06,4.1943e+06 2.46071e+06,4.1943e+06 2.46297e+06,4.1943e+06 2.46524e+06,4.1943e+06 2.4675e+06,4.1943e+06 2.46977e+06,4.1943e+06 2.47204e+06,4.1943e+06 2.4743e+06,4.1943e+06 2.47657e+06,4.1943e+06 2.47883e+06,4.1943e+06 2.4811e+06,4.1943e+06 2.48336e+06,4.1943e+06 2.48563e+06,4.1943e+06 2.4879e+06,4.1943e+06 2.49016e+06,4.1943e+06 2.49243e+06,4.1943e+06 2.49469e+06,4.1943e+06 2.49696e+06,4.1943e+06 2.49922e+06,4.1943e+06 2.50149e+06,4.1943e+06 2.50376e+06,4.1943e+06 2.50602e+06,4.1943e+06 2.50829e+06,4.1943e+06 2.51055e+06,4.1943e+06 2.51282e+06,4.1943e+06 2.51508e+06,4.1943e+06 2.51735e+06,4.1943e+06 2.51962e+06,4.1943e+06 2.52188e+06,4.1943e+06 2.52415e+06,4.1943e+06 2.52641e+06,4.1943e+06 2.52868e+06,4.1943e+06 2.53095e+06,4.1943e+06 2.53321e+06,4.1943e+06 2.53548e+06,4.1943e+06 2.53774e+06,4.1943e+06 2.54001e+06,4.1943e+06 2.54227e+06,4.1943e+06 2.54454e+06,4.1943e+06 2.54681e+06,4.1943e+06 2.54907e+06,4.1943e+06 2.55134e+06,4.1943e+06 2.5536e+06,4.1943e+06 2.55587e+06,4.1943e+06 2.55813e+06,4.1943e+06 2.5604e+06,4.1943e+06 2.56267e+06,4.1943e+06 2.56493e+06,4.1943e+06 2.5672e+06,4.1943e+06 2.56946e+06,4.1943e+06 2.57173e+06,4.1943e+06 2.57399e+06,4.1943e+06 2.57626e+06,4.1943e+06 2.57853e+06,4.1943e+06 2.58079e+06,4.1943e+06 2.58306e+06,4.1943e+06 2.58532e+06,4.1943e+06 2.58759e+06,4.1943e+06 2.58985e+06,4.1943e+06 2.59212e+06,4.1943e+06 2.59439e+06,4.1943e+06 2.59665e+06,4.1943e+06 2.59892e+06,4.1943e+06 2.60118e+06,4.1943e+06 2.60345e+06,4.1943e+06 2.60572e+06,4.1943e+06 2.60798e+06,4.1943e+06 2.61025e+06,4.1943e+06 2.61251e+06,4.1943e+06 2.61478e+06,4.1943e+06 2.61704e+06,4.1943e+06 2.61931e+06,4.1943e+06 2.62158e+06,4.1943e+06 2.62384e+06,4.1943e+06 2.62611e+06,4.1943e+06 2.62837e+06,4.1943e+06 2.63064e+06,4.1943e+06 2.6329e+06,4.1943e+06 2.63517e+06,4.1943e+06 2.63744e+06,4.1943e+06 2.6397e+06,4.1943e+06 2.64197e+06,4.1943e+06 2.64423e+06,4.1943e+06 2.6465e+06,4.1943e+06 2.64876e+06,4.1943e+06 2.65103e+06,4.1943e+06 2.6533e+06,4.1943e+06 2.65556e+06,4.1943e+06 2.65783e+06,4.1943e+06 2.66009e+06,4.1943e+06 2.66236e+06,4.1943e+06 2.66463e+06,4.1943e+06 2.66689e+06,4.1943e+06 2.66916e+06,4.1943e+06 2.67142e+06,4.1943e+06 2.67369e+06,4.1943e+06 2.67595e+06,4.1943e+06 2.67822e+06,4.1943e+06 2.68049e+06,4.1943e+06 2.68275e+06,4.1943e+06 2.68502e+06,4.1943e+06 2.68728e+06,4.1943e+06 2.68955e+06,4.1943e+06 2.69181e+06,4.1943e+06 2.69408e+06,4.1943e+06 2.69635e+06,4.1943e+06 2.69861e+06,4.1943e+06 2.70088e+06,4.1943e+06 2.70314e+06,4.1943e+06 2.70541e+06,4.1943e+06 2.70767e+06,4.1943e+06 2.70994e+06,4.1943e+06 2.71221e+06,4.1943e+06 2.71447e+06,4.1943e+06 2.71674e+06,4.1943e+06 2.719e+06,4.1943e+06 2.72127e+06,4.1943e+06 2.72354e+06,4.1943e+06 2.7258e+06,4.1943e+06 2.72807e+06,4.1943e+06 2.73033e+06,4.1943e+06 2.7326e+06,4.1943e+06 2.73486e+06,4.1943e+06 2.73713e+06,4.1943e+06 2.7394e+06,4.1943e+06 2.74166e+06,4.1943e+06 2.74393e+06,4.1943e+06 2.74619e+06,4.1943e+06 2.74846e+06,4.1943e+06 2.75072e+06,4.1943e+06 2.75299e+06,4.1943e+06 2.75526e+06,4.1943e+06 2.75752e+06,4.1943e+06 2.75979e+06,4.1943e+06 2.76205e+06,4.1943e+06 2.76432e+06,4.1943e+06 2.76658e+06,4.1943e+06 2.76885e+06,4.1943e+06 2.77112e+06,4.1943e+06 2.77338e+06,4.1943e+06 2.77565e+06,4.1943e+06 2.77791e+06,4.1943e+06 2.78018e+06,4.1943e+06 2.78244e+06,4.1943e+06 2.78471e+06,4.1943e+06 2.78698e+06,4.1943e+06 2.78924e+06,4.1943e+06 2.79151e+06,4.1943e+06 2.79377e+06,4.1943e+06 2.79604e+06,4.1943e+06 2.79831e+06,4.1943e+06 2.80057e+06,4.1943e+06 2.80284e+06,4.1943e+06 2.8051e+06,4.1943e+06 2.80737e+06,4.1943e+06 2.80963e+06,4.1943e+06 2.8119e+06,4.1943e+06 2.81417e+06,4.1943e+06 2.81643e+06,4.1943e+06 2.8187e+06,4.1943e+06 2.82096e+06,4.1943e+06 2.82323e+06,4.1943e+06 2.82549e+06,4.1943e+06 2.82776e+06,4.1943e+06 2.83003e+06,4.1943e+06 2.83229e+06,4.1943e+06 2.83456e+06,4.1943e+06 2.83682e+06,4.1943e+06 2.83909e+06,4.1943e+06 2.84135e+06,4.1943e+06 2.84362e+06,4.1943e+06 2.84589e+06,4.1943e+06 2.84815e+06,4.1943e+06 2.85042e+06,4.1943e+06 2.85268e+06,4.1943e+06 2.85495e+06,4.1943e+06 2.85722e+06,4.1943e+06 2.85948e+06,4.1943e+06 2.86175e+06,4.1943e+06 2.86401e+06,4.1943e+06 2.86628e+06,4.1943e+06 2.86854e+06,4.1943e+06 2.87081e+06,4.1943e+06 2.87308e+06,4.1943e+06 2.87534e+06,4.1943e+06 2.87761e+06,4.1943e+06 2.87987e+06,4.1943e+06 2.88214e+06,4.1943e+06 2.8844e+06,4.1943e+06 2.88667e+06,4.1943e+06 2.88894e+06,4.1943e+06 2.8912e+06,4.1943e+06 2.89347e+06,4.1943e+06 2.89573e+06,4.1943e+06 2.898e+06,4.1943e+06 2.90026e+06,4.1943e+06 2.90253e+06,4.1943e+06 2.9048e+06,4.1943e+06 2.90706e+06,4.1943e+06 2.90933e+06,4.1943e+06 2.91159e+06,4.1943e+06 2.91386e+06,4.1943e+06 2.91612e+06,4.1943e+06 2.91839e+06,4.1943e+06 2.92066e+06,4.1943e+06 2.92292e+06,4.1943e+06 2.92519e+06,4.1943e+06 2.92745e+06,4.1943e+06 2.92972e+06,4.1943e+06 2.93199e+06,4.1943e+06 2.93425e+06,4.1943e+06 2.93652e+06,4.1943e+06 2.93878e+06,4.1943e+06 2.94105e+06,4.1943e+06 2.94331e+06,4.1943e+06 2.94558e+06,4.1943e+06 2.94785e+06,4.1943e+06 2.95011e+06,4.1943e+06 2.95238e+06,4.1943e+06 2.95464e+06,4.1943e+06 2.95691e+06,4.1943e+06 2.95917e+06,4.1943e+06 2.96144e+06,4.1943e+06 2.96371e+06,4.1943e+06 2.96597e+06,4.1943e+06 2.96824e+06,4.1943e+06 2.9705e+06,4.1943e+06 2.97277e+06,4.1943e+06 2.97503e+06,4.1943e+06 2.9773e+06,4.1943e+06 2.97957e+06,4.1943e+06 2.98183e+06,4.1943e+06 2.9841e+06,4.1943e+06 2.98636e+06,4.1943e+06 2.98863e+06,4.1943e+06 2.9909e+06,4.1943e+06 2.99316e+06,4.1943e+06 2.99543e+06,4.1943e+06 2.99769e+06,4.1943e+06 2.99996e+06,4.1943e+06 3.00222e+06,4.1943e+06 3.00449e+06,4.1943e+06 3.00676e+06,4.1943e+06 3.00902e+06,4.1943e+06 3.01129e+06,4.1943e+06 3.01355e+06,4.1943e+06 3.01582e+06,4.1943e+06 3.01808e+06,4.1943e+06 3.02035e+06,4.1943e+06 3.02262e+06,4.1943e+06 3.02488e+06,4.1943e+06 3.02715e+06,4.1943e+06 3.02941e+06,4.1943e+06 3.03168e+06,4.1943e+06 3.03394e+06,4.1943e+06 3.03621e+06,4.1943e+06 3.03848e+06,4.1943e+06 3.04074e+06,4.1943e+06 3.04301e+06,4.1943e+06 3.04527e+06,4.1943e+06 3.04754e+06,4.1943e+06 3.04981e+06,4.1943e+06 3.05207e+06,4.1943e+06 3.05434e+06,4.1943e+06 3.0566e+06,4.1943e+06 3.05887e+06,4.1943e+06 3.06113e+06,4.1943e+06 3.0634e+06,4.1943e+06 3.06567e+06,4.1943e+06 3.06793e+06,4.1943e+06 3.0702e+06,4.1943e+06 3.07246e+06,4.1943e+06 3.07473e+06,4.1943e+06 3.07699e+06,4.1943e+06 3.07926e+06,4.1943e+06 3.08153e+06,4.1943e+06 3.08379e+06,4.1943e+06 3.08606e+06,4.1943e+06 3.08832e+06,4.1943e+06 3.09059e+06,4.1943e+06 3.09285e+06,4.1943e+06 3.09512e+06,4.1943e+06 3.09739e+06,4.1943e+06 3.09965e+06,4.1943e+06 3.10192e+06,4.1943e+06 3.10418e+06,4.1943e+06 3.10645e+06,4.1943e+06 3.10871e+06,4.1943e+06 3.11098e+06,4.1943e+06 3.11325e+06,4.1943e+06 3.11551e+06,4.1943e+06 3.11778e+06,4.1943e+06 3.12004e+06,4.1943e+06 3.12231e+06,4.1943e+06 3.12458e+06,4.1943e+06 3.12684e+06,4.1943e+06 3.12911e+06,4.1943e+06 3.13137e+06,4.1943e+06 3.13364e+06,4.1943e+06 3.1359e+06,4.1943e+06 3.13817e+06,4.1943e+06 3.14044e+06,4.1943e+06 3.1427e+06,4.1943e+06 3.14497e+06,4.1943e+06 3.14723e+06,4.1943e+06 3.1495e+06,4.1943e+06 3.15176e+06,4.1943e+06 3.15403e+06,4.1943e+06 3.1563e+06,4.1943e+06 3.15856e+06,4.1943e+06 3.16083e+06,4.1943e+06 3.16309e+06,4.1943e+06 3.16536e+06,4.1943e+06 3.16762e+06,4.1943e+06 3.16989e+06,4.1943e+06 3.17216e+06,4.1943e+06 3.17442e+06,4.1943e+06 3.17669e+06,4.1943e+06 3.17895e+06,4.1943e+06 3.18122e+06,4.1943e+06 3.18349e+06,4.1943e+06 3.18575e+06,4.1943e+06 3.18802e+06,4.1943e+06 3.19028e+06,4.1943e+06 3.19255e+06,4.1943e+06 3.19481e+06,4.1943e+06 3.19708e+06,4.1943e+06 3.19935e+06,4.1943e+06 3.20161e+06,4.1943e+06 3.20388e+06,4.1943e+06 3.20614e+06,4.1943e+06 3.20841e+06,4.1943e+06 3.21067e+06,4.1943e+06 3.21294e+06,4.1943e+06 3.21521e+06,4.1943e+06 3.21747e+06,4.1943e+06 3.21974e+06,4.1943e+06 3.222e+06,4.1943e+06 3.22427e+06,4.1943e+06 3.22653e+06,4.1943e+06 3.2288e+06,4.1943e+06 3.23107e+06,4.1943e+06 3.23333e+06,4.1943e+06 3.2356e+06,4.1943e+06 3.23786e+06,4.1943e+06 3.24013e+06,4.1943e+06 3.24239e+06,4.1943e+06 3.24466e+06,4.1943e+06 3.24693e+06,4.1943e+06 3.24919e+06,4.1943e+06 3.25146e+06,4.1943e+06 3.25372e+06,4.1943e+06 3.25599e+06,4.1943e+06 3.25826e+06,4.1943e+06 3.26052e+06,4.1943e+06 3.26279e+06,4.1943e+06 3.26505e+06,4.1943e+06 3.26732e+06,4.1943e+06 3.26958e+06,4.1943e+06 3.27185e+06,4.1943e+06 3.27412e+06,4.1943e+06 3.27638e+06,4.1943e+06 3.27865e+06,4.1943e+06 3.28091e+06,4.1943e+06 3.28318e+06,4.1943e+06 3.28544e+06,4.1943e+06 3.28771e+06,4.1943e+06 3.28998e+06,4.1943e+06 3.29224e+06,4.1943e+06 3.29451e+06,4.1943e+06 3.29677e+06,4.1943e+06 3.29904e+06,4.1943e+06 3.3013e+06,4.1943e+06 3.30357e+06,4.1943e+06 3.30584e+06,4.1943e+06 3.3081e+06,4.1943e+06 3.31037e+06,4.1943e+06 3.31263e+06,4.1943e+06 3.3149e+06,4.1943e+06 3.31717e+06,4.1943e+06 3.31943e+06,4.1943e+06 3.3217e+06,4.1943e+06 3.32396e+06,4.1943e+06 3.32623e+06,4.1943e+06 3.32849e+06,4.1943e+06 3.33076e+06,4.1943e+06 3.33303e+06,4.1943e+06 3.33529e+06,4.1943e+06 3.33756e+06,4.1943e+06 3.33982e+06,4.1943e+06 3.34209e+06,4.1943e+06 3.34435e+06,4.1943e+06 3.34662e+06,4.1943e+06 3.34889e+06,4.1943e+06 3.35115e+06,4.1943e+06 3.35342e+06,4.1943e+06 3.35568e+06,4.1943e+06 3.35795e+06,4.1943e+06 3.36021e+06,4.1943e+06 3.36248e+06,4.1943e+06 3.36475e+06,4.1943e+06 3.36701e+06,4.1943e+06 3.36928e+06,4.1943e+06 3.37154e+06,4.1943e+06 3.37381e+06,4.1943e+06 3.37608e+06,4.1943e+06 3.37834e+06,4.1943e+06 3.38061e+06,4.1943e+06 3.38287e+06,4.1943e+06 3.38514e+06,4.1943e+06 3.3874e+06,4.1943e+06 3.38967e+06,4.1943e+06 3.39194e+06,4.1943e+06 3.3942e+06,4.1943e+06 3.39647e+06,4.1943e+06 3.39873e+06,4.1943e+06 3.401e+06,4.1943e+06 3.40326e+06,4.1943e+06 3.40553e+06,4.1943e+06 3.4078e+06,4.1943e+06 3.41006e+06,4.1943e+06 3.41233e+06,4.1943e+06 3.41459e+06,4.1943e+06 3.41686e+06,4.1943e+06 3.41912e+06,4.1943e+06 3.42139e+06,4.1943e+06 3.42366e+06,4.1943e+06 3.42592e+06,4.1943e+06 3.42819e+06,4.1943e+06 3.43045e+06,4.1943e+06 3.43272e+06,4.1943e+06 3.43498e+06,4.1943e+06 3.43725e+06,4.1943e+06 3.43952e+06,4.1943e+06 3.44178e+06,4.1943e+06 3.44405e+06,4.1943e+06 3.44631e+06,4.1943e+06 3.44858e+06,4.1943e+06 3.45085e+06,4.1943e+06 3.45311e+06,4.1943e+06 3.45538e+06,4.1943e+06 3.45764e+06,4.1943e+06 3.45991e+06,4.1943e+06 3.46217e+06,4.1943e+06 3.46444e+06,4.1943e+06 3.46671e+06,4.1943e+06 3.46897e+06,4.1943e+06 3.47124e+06,4.1943e+06 3.4735e+06,4.1943e+06 3.47577e+06,4.1943e+06 3.47803e+06,4.1943e+06 3.4803e+06,4.1943e+06 3.48257e+06,4.1943e+06 3.48483e+06,4.1943e+06 3.4871e+06,4.1943e+06 3.48936e+06,4.1943e+06 3.49163e+06,4.1943e+06 3.49389e+06,4.1943e+06 3.49616e+06,4.1943e+06 3.49843e+06,4.1943e+06 3.50069e+06,4.1943e+06 3.50296e+06,4.1943e+06 3.50522e+06,4.1943e+06 3.50749e+06,4.1943e+06 3.50976e+06,4.1943e+06 3.51202e+06,4.1943e+06 3.51429e+06,4.1943e+06 3.51655e+06,4.1943e+06 3.51882e+06,4.1943e+06 3.52108e+06,4.1943e+06 3.52335e+06,4.1943e+06 3.52562e+06,4.1943e+06 3.52788e+06,4.1943e+06 3.53015e+06,4.1943e+06 3.53241e+06,4.1943e+06 3.53468e+06,4.1943e+06 3.53694e+06,4.1943e+06 3.53921e+06,4.1943e+06 3.54148e+06,4.1943e+06 3.54374e+06,4.1943e+06 3.54601e+06,4.1943e+06 3.54827e+06,4.1943e+06 3.55054e+06,4.1943e+06 3.5528e+06,4.1943e+06 3.55507e+06,4.1943e+06 3.55734e+06,4.1943e+06 3.5596e+06,4.1943e+06 3.56187e+06,4.1943e+06 3.56413e+06,4.1943e+06 3.5664e+06,4.1943e+06 3.56866e+06,4.1943e+06 3.57093e+06,4.1943e+06 3.5732e+06,4.1943e+06 3.57546e+06,4.1943e+06 3.57773e+06,4.1943e+06 3.57999e+06,4.1943e+06 3.58226e+06,4.1943e+06 3.58453e+06,4.1943e+06 3.58679e+06,4.1943e+06 3.58906e+06,4.1943e+06 3.59132e+06,4.1943e+06 3.59359e+06,4.1943e+06 3.59585e+06,4.1943e+06 3.59812e+06,4.1943e+06 3.60039e+06,4.1943e+06 3.60265e+06,4.1943e+06 3.60492e+06,4.1943e+06 3.60718e+06,4.1943e+06 3.60945e+06,4.1943e+06 3.61171e+06,4.1943e+06 3.61398e+06,4.1943e+06 3.61625e+06,4.1943e+06 3.61851e+06,4.1943e+06 3.62078e+06,4.1943e+06 3.62304e+06,4.1943e+06 3.62531e+06,4.1943e+06 3.62757e+06,4.1943e+06 3.62984e+06,4.1943e+06 3.63211e+06,4.1943e+06 3.63437e+06,4.1943e+06 3.63664e+06,4.1943e+06 3.6389e+06,4.1943e+06 3.64117e+06,4.1943e+06 3.64344e+06,4.1943e+06 3.6457e+06,4.1943e+06 3.64797e+06,4.1943e+06 3.65023e+06,4.1943e+06 3.6525e+06,4.1943e+06 3.65476e+06,4.1943e+06 3.65703e+06,4.1943e+06 3.6593e+06,4.1943e+06 3.66156e+06,4.1943e+06 3.66383e+06,4.1943e+06 3.66609e+06,4.1943e+06 3.66836e+06,4.1943e+06 3.67062e+06,4.1943e+06 3.67289e+06,4.1943e+06 3.67516e+06,4.1943e+06 3.67742e+06,4.1943e+06 3.67969e+06,4.1943e+06 3.68195e+06,4.1943e+06 3.68422e+06,4.1943e+06 3.68648e+06,4.1943e+06 3.68875e+06,4.1943e+06 3.69102e+06,4.1943e+06 3.69328e+06,4.1943e+06 3.69555e+06,4.1943e+06 3.69781e+06,4.1943e+06 3.70008e+06,4.1943e+06 3.70235e+06,4.1943e+06 3.70461e+06,4.1943e+06 3.70688e+06,4.1943e+06 3.70914e+06,4.1943e+06 3.71141e+06,4.1943e+06 3.71367e+06,4.1943e+06 3.71594e+06,4.1943e+06 3.71821e+06,4.1943e+06 3.72047e+06,4.1943e+06 3.72274e+06,4.1943e+06 3.725e+06,4.1943e+06 3.72727e+06,4.1943e+06 3.72953e+06,4.1943e+06 3.7318e+06,4.1943e+06 3.73407e+06,4.1943e+06 3.73633e+06,4.1943e+06 3.7386e+06,4.1943e+06 3.74086e+06,4.1943e+06 3.74313e+06,4.1943e+06 3.74539e+06,4.1943e+06 3.74766e+06,4.1943e+06 3.74993e+06,4.1943e+06 3.75219e+06,4.1943e+06 3.75446e+06,4.1943e+06 3.75672e+06,4.1943e+06 3.75899e+06,4.1943e+06 3.76125e+06,4.1943e+06 3.76352e+06,4.1943e+06 3.76579e+06,4.1943e+06 3.76805e+06,4.1943e+06 3.77032e+06,4.1943e+06 3.77258e+06,4.1943e+06 3.77485e+06,4.1943e+06 3.77712e+06,4.1943e+06 3.77938e+06,4.1943e+06 3.78165e+06,4.1943e+06 3.78391e+06,4.1943e+06 3.78618e+06,4.1943e+06 3.78844e+06,4.1943e+06 3.79071e+06,4.1943e+06 3.79298e+06,4.1943e+06 3.79524e+06,4.1943e+06 3.79751e+06,4.1943e+06 3.79977e+06,4.1943e+06 3.80204e+06,4.1943e+06 3.8043e+06,4.1943e+06 3.80657e+06,4.1943e+06 3.80884e+06,4.1943e+06 3.8111e+06,4.1943e+06 3.81337e+06,4.1943e+06 3.81563e+06,4.1943e+06 3.8179e+06,4.1943e+06 3.82016e+06,4.1943e+06 3.82243e+06,4.1943e+06 3.8247e+06,4.1943e+06 3.82696e+06,4.1943e+06 3.82923e+06,4.1943e+06 3.83149e+06,4.1943e+06 3.83376e+06,4.1943e+06 3.83603e+06,4.1943e+06 3.83829e+06,4.1943e+06 3.84056e+06,4.1943e+06 3.84282e+06,4.1943e+06 3.84509e+06,4.1943e+06 3.84735e+06,4.1943e+06 3.84962e+06,4.1943e+06 3.85189e+06,4.1943e+06 3.85415e+06,4.1943e+06 3.85642e+06,4.1943e+06 3.85868e+06,4.1943e+06 3.86095e+06,4.1943e+06 3.86321e+06,4.1943e+06 3.86548e+06,4.1943e+06 3.86775e+06,4.1943e+06 3.87001e+06,4.1943e+06 3.87228e+06,4.1943e+06 3.87454e+06,4.1943e+06 3.87681e+06,4.1943e+06 3.87907e+06,4.1943e+06 3.88134e+06,4.1943e+06 3.88361e+06,4.1943e+06 3.88587e+06,4.1943e+06 3.88814e+06,4.1943e+06 3.8904e+06,4.1943e+06 3.89267e+06,4.1943e+06 3.89493e+06,4.1943e+06 3.8972e+06,4.1943e+06 3.89947e+06,4.1943e+06 3.90173e+06,4.1943e+06 3.904e+06,4.1943e+06 3.90626e+06,4.1943e+06 3.90853e+06,4.1943e+06 3.9108e+06,4.1943e+06 3.91306e+06,4.1943e+06 3.91533e+06,4.1943e+06 3.91759e+06,4.1943e+06 3.91986e+06,4.1943e+06 3.92212e+06,4.1943e+06 3.92439e+06,4.1943e+06 3.92666e+06,4.1943e+06 3.92892e+06,4.1943e+06 3.93119e+06,4.1943e+06 3.93345e+06,4.1943e+06 3.93572e+06,4.1943e+06 3.93798e+06,4.1943e+06 3.94025e+06,4.1943e+06 3.94252e+06,4.1943e+06 3.94478e+06,4.1943e+06 3.94705e+06,4.1943e+06 3.94931e+06,4.1943e+06 3.95158e+06,4.1943e+06 3.95384e+06,4.1943e+06 3.95611e+06,4.1943e+06 3.95838e+06,4.1943e+06 3.96064e+06,4.1943e+06 3.96291e+06,4.1943e+06 3.96517e+06,4.1943e+06 3.96744e+06,4.1943e+06 3.96971e+06,4.1943e+06 3.97197e+06,4.1943e+06 3.97424e+06,4.1943e+06 3.9765e+06,4.1943e+06 3.97877e+06,4.1943e+06 3.98103e+06,4.1943e+06 3.9833e+06,4.1943e+06 3.98557e+06,4.1943e+06 3.98783e+06,4.1943e+06 3.9901e+06,4.1943e+06 3.99236e+06,4.1943e+06 3.99463e+06,4.1943e+06 3.99689e+06,4.1943e+06 3.99916e+06,4.1943e+06 4.00143e+06,4.1943e+06 4.00369e+06,4.1943e+06 4.00596e+06,4.1943e+06 4.00822e+06,4.1943e+06 4.01049e+06,4.1943e+06 4.01275e+06,4.1943e+06 4.01502e+06,4.1943e+06 4.01729e+06,4.1943e+06 4.01955e+06,4.1943e+06 4.02182e+06,4.1943e+06 4.02408e+06,4.1943e+06 4.02635e+06,4.1943e+06 4.02861e+06,4.1943e+06 4.03088e+06,4.1943e+06 4.03315e+06,4.1943e+06 4.03541e+06,4.1943e+06 4.03768e+06,4.1943e+06 4.03994e+06,4.1943e+06 4.04221e+06,4.1943e+06 4.04448e+06,4.1943e+06 4.04674e+06,4.1943e+06 4.04901e+06,4.1943e+06 4.05127e+06,4.1943e+06 4.05354e+06,4.1943e+06 4.0558e+06,4.1943e+06 4.05807e+06,4.1943e+06 4.06034e+06,4.1943e+06 4.0626e+06,4.1943e+06 4.06487e+06,4.1943e+06 4.06713e+06,4.1943e+06 4.0694e+06,4.1943e+06 4.07166e+06,4.1943e+06 4.07393e+06,4.1943e+06 4.0762e+06,4.1943e+06 4.07846e+06,4.1943e+06 4.08073e+06,4.1943e+06 4.08299e+06,4.1943e+06 4.08526e+06,4.1943e+06 4.08752e+06,4.1943e+06 4.08979e+06,4.1943e+06 4.09206e+06,4.1943e+06 4.09432e+06,4.1943e+06 4.09659e+06,4.1943e+06 4.09885e+06,4.1943e+06 4.10112e+06,4.1943e+06 4.10339e+06,4.1943e+06 4.10565e+06,4.1943e+06 4.10792e+06,4.1943e+06 4.11018e+06,4.1943e+06 4.11245e+06,4.1943e+06 4.11471e+06,4.1943e+06 4.11698e+06,4.1943e+06 4.11925e+06,4.1943e+06 4.12151e+06,4.1943e+06 4.12378e+06,4.1943e+06 4.12604e+06,4.1943e+06 4.12831e+06,4.1943e+06 4.13057e+06,4.1943e+06 4.13284e+06,4.1943e+06 4.13511e+06,4.1943e+06 4.13737e+06,4.1943e+06 4.13964e+06,4.1943e+06 4.1419e+06,4.1943e+06 4.14417e+06,4.1943e+06 4.14643e+06,4.1943e+06 4.1487e+06,4.1943e+06 4.15097e+06,4.1943e+06 4.15323e+06,4.1943e+06 4.1555e+06,4.1943e+06 4.15776e+06,4.1943e+06 4.16003e+06,4.1943e+06 4.1623e+06,4.1943e+06 4.16456e+06,4.1943e+06 4.16683e+06,4.1943e+06 4.16909e+06,4.1943e+06 4.17136e+06,4.1943e+06 4.17362e+06,4.1943e+06 4.17589e+06,4.1943e+06 4.17816e+06,4.1943e+06 4.18042e+06,4.1943e+06 4.18269e+06,4.1943e+06 4.18495e+06,4.1943e+06 4.18722e+06,4.1943e+06 4.18948e+06,4.1943e+06 4.19175e+06,4.1943e+06 4.19402e+06,4.1943e+06 4.1943e+06,4.1943e+06 \"/>\n",
       "<path clip-path=\"url(#clip990)\" d=\"M1998.22 198.488 L2277.23 198.488 L2277.23 94.8081 L1998.22 94.8081  Z\" fill=\"#ffffff\" fill-rule=\"evenodd\" fill-opacity=\"1\"/>\n",
       "<polyline clip-path=\"url(#clip990)\" style=\"stroke:#000000; stroke-linecap:round; stroke-linejoin:round; stroke-width:4; stroke-opacity:1; fill:none\" points=\"1998.22,198.488 2277.23,198.488 2277.23,94.8081 1998.22,94.8081 1998.22,198.488 \"/>\n",
       "<polyline clip-path=\"url(#clip990)\" style=\"stroke:#009af9; stroke-linecap:round; stroke-linejoin:round; stroke-width:4; stroke-opacity:1; fill:none\" points=\"2023.4,146.648 2174.45,146.648 \"/>\n",
       "<path clip-path=\"url(#clip990)\" d=\"M2213.47 166.336 Q2211.66 170.965 2209.95 172.377 Q2208.24 173.789 2205.37 173.789 L2201.96 173.789 L2201.96 170.224 L2204.46 170.224 Q2206.22 170.224 2207.19 169.391 Q2208.17 168.558 2209.35 165.456 L2210.11 163.511 L2199.63 138.002 L2204.14 138.002 L2212.24 158.28 L2220.34 138.002 L2224.86 138.002 L2213.47 166.336 Z\" fill=\"#000000\" fill-rule=\"nonzero\" fill-opacity=\"1\" /><path clip-path=\"url(#clip990)\" d=\"M2232.15 159.993 L2239.79 159.993 L2239.79 133.627 L2231.48 135.294 L2231.48 131.035 L2239.74 129.368 L2244.42 129.368 L2244.42 159.993 L2252.06 159.993 L2252.06 163.928 L2232.15 163.928 L2232.15 159.993 Z\" fill=\"#000000\" fill-rule=\"nonzero\" fill-opacity=\"1\" /></svg>\n"
      ]
     },
     "execution_count": 67,
     "metadata": {},
     "output_type": "execute_result"
    },
    {
     "name": "stderr",
     "output_type": "stream",
     "text": [
      "\u001b[33m\u001b[1m┌ \u001b[22m\u001b[39m\u001b[33m\u001b[1mWarning: \u001b[22m\u001b[39mNo strict ticks found\n",
      "\u001b[33m\u001b[1m└ \u001b[22m\u001b[39m\u001b[90m@ PlotUtils ~/.julia/packages/PlotUtils/mHQ0Q/src/ticks.jl:191\u001b[39m\n",
      "\u001b[33m\u001b[1m┌ \u001b[22m\u001b[39m\u001b[33m\u001b[1mWarning: \u001b[22m\u001b[39mNo strict ticks found\n",
      "\u001b[33m\u001b[1m└ \u001b[22m\u001b[39m\u001b[90m@ PlotUtils ~/.julia/packages/PlotUtils/mHQ0Q/src/ticks.jl:191\u001b[39m\n",
      "\u001b[33m\u001b[1m┌ \u001b[22m\u001b[39m\u001b[33m\u001b[1mWarning: \u001b[22m\u001b[39mInvalid negative or zero value -14.29736401527012 found at series index 131 for log10 based yscale\n",
      "\u001b[33m\u001b[1m└ \u001b[22m\u001b[39m\u001b[90m@ Plots ~/.julia/packages/Plots/esM5q/src/utils.jl:106\u001b[39m\n"
     ]
    }
   ],
   "source": [
    "plot(costs, yscale = :log10)"
   ]
  },
  {
   "cell_type": "code",
   "execution_count": 58,
   "id": "8d62f294",
   "metadata": {},
   "outputs": [
    {
     "data": {
      "image/svg+xml": [
       "<?xml version=\"1.0\" encoding=\"utf-8\"?>\n",
       "<svg xmlns=\"http://www.w3.org/2000/svg\" xmlns:xlink=\"http://www.w3.org/1999/xlink\" width=\"600\" height=\"400\" viewBox=\"0 0 2400 1600\">\n",
       "<defs>\n",
       "  <clipPath id=\"clip670\">\n",
       "    <rect x=\"0\" y=\"0\" width=\"2400\" height=\"1600\"/>\n",
       "  </clipPath>\n",
       "</defs>\n",
       "<path clip-path=\"url(#clip670)\" d=\"M0 1600 L2400 1600 L2400 0 L0 0  Z\" fill=\"#ffffff\" fill-rule=\"evenodd\" fill-opacity=\"1\"/>\n",
       "<defs>\n",
       "  <clipPath id=\"clip671\">\n",
       "    <rect x=\"480\" y=\"0\" width=\"1681\" height=\"1600\"/>\n",
       "  </clipPath>\n",
       "</defs>\n",
       "<path clip-path=\"url(#clip670)\" d=\"M156.598 1486.45 L2352.76 1486.45 L2352.76 47.2441 L156.598 47.2441  Z\" fill=\"#ffffff\" fill-rule=\"evenodd\" fill-opacity=\"1\"/>\n",
       "<defs>\n",
       "  <clipPath id=\"clip672\">\n",
       "    <rect x=\"156\" y=\"47\" width=\"2197\" height=\"1440\"/>\n",
       "  </clipPath>\n",
       "</defs>\n",
       "<polyline clip-path=\"url(#clip672)\" style=\"stroke:#000000; stroke-linecap:round; stroke-linejoin:round; stroke-width:2; stroke-opacity:0.1; fill:none\" points=\"156.598,1486.45 156.598,47.2441 \"/>\n",
       "<polyline clip-path=\"url(#clip672)\" style=\"stroke:#000000; stroke-linecap:round; stroke-linejoin:round; stroke-width:2; stroke-opacity:0.1; fill:none\" points=\"595.83,1486.45 595.83,47.2441 \"/>\n",
       "<polyline clip-path=\"url(#clip672)\" style=\"stroke:#000000; stroke-linecap:round; stroke-linejoin:round; stroke-width:2; stroke-opacity:0.1; fill:none\" points=\"1035.06,1486.45 1035.06,47.2441 \"/>\n",
       "<polyline clip-path=\"url(#clip672)\" style=\"stroke:#000000; stroke-linecap:round; stroke-linejoin:round; stroke-width:2; stroke-opacity:0.1; fill:none\" points=\"1474.29,1486.45 1474.29,47.2441 \"/>\n",
       "<polyline clip-path=\"url(#clip672)\" style=\"stroke:#000000; stroke-linecap:round; stroke-linejoin:round; stroke-width:2; stroke-opacity:0.1; fill:none\" points=\"1913.52,1486.45 1913.52,47.2441 \"/>\n",
       "<polyline clip-path=\"url(#clip672)\" style=\"stroke:#000000; stroke-linecap:round; stroke-linejoin:round; stroke-width:2; stroke-opacity:0.1; fill:none\" points=\"2352.76,1486.45 2352.76,47.2441 \"/>\n",
       "<polyline clip-path=\"url(#clip670)\" style=\"stroke:#000000; stroke-linecap:round; stroke-linejoin:round; stroke-width:4; stroke-opacity:1; fill:none\" points=\"156.598,1486.45 2352.76,1486.45 \"/>\n",
       "<polyline clip-path=\"url(#clip670)\" style=\"stroke:#000000; stroke-linecap:round; stroke-linejoin:round; stroke-width:4; stroke-opacity:1; fill:none\" points=\"156.598,1486.45 156.598,1467.55 \"/>\n",
       "<polyline clip-path=\"url(#clip670)\" style=\"stroke:#000000; stroke-linecap:round; stroke-linejoin:round; stroke-width:4; stroke-opacity:1; fill:none\" points=\"595.83,1486.45 595.83,1467.55 \"/>\n",
       "<polyline clip-path=\"url(#clip670)\" style=\"stroke:#000000; stroke-linecap:round; stroke-linejoin:round; stroke-width:4; stroke-opacity:1; fill:none\" points=\"1035.06,1486.45 1035.06,1467.55 \"/>\n",
       "<polyline clip-path=\"url(#clip670)\" style=\"stroke:#000000; stroke-linecap:round; stroke-linejoin:round; stroke-width:4; stroke-opacity:1; fill:none\" points=\"1474.29,1486.45 1474.29,1467.55 \"/>\n",
       "<polyline clip-path=\"url(#clip670)\" style=\"stroke:#000000; stroke-linecap:round; stroke-linejoin:round; stroke-width:4; stroke-opacity:1; fill:none\" points=\"1913.52,1486.45 1913.52,1467.55 \"/>\n",
       "<polyline clip-path=\"url(#clip670)\" style=\"stroke:#000000; stroke-linecap:round; stroke-linejoin:round; stroke-width:4; stroke-opacity:1; fill:none\" points=\"2352.76,1486.45 2352.76,1467.55 \"/>\n",
       "<path clip-path=\"url(#clip670)\" d=\"M133.983 1517.37 Q130.372 1517.37 128.543 1520.93 Q126.737 1524.47 126.737 1531.6 Q126.737 1538.71 128.543 1542.27 Q130.372 1545.82 133.983 1545.82 Q137.617 1545.82 139.422 1542.27 Q141.251 1538.71 141.251 1531.6 Q141.251 1524.47 139.422 1520.93 Q137.617 1517.37 133.983 1517.37 M133.983 1513.66 Q139.793 1513.66 142.848 1518.27 Q145.927 1522.85 145.927 1531.6 Q145.927 1540.33 142.848 1544.94 Q139.793 1549.52 133.983 1549.52 Q128.172 1549.52 125.094 1544.94 Q122.038 1540.33 122.038 1531.6 Q122.038 1522.85 125.094 1518.27 Q128.172 1513.66 133.983 1513.66 Z\" fill=\"#000000\" fill-rule=\"nonzero\" fill-opacity=\"1\" /><path clip-path=\"url(#clip670)\" d=\"M154.145 1542.97 L159.029 1542.97 L159.029 1548.85 L154.145 1548.85 L154.145 1542.97 Z\" fill=\"#000000\" fill-rule=\"nonzero\" fill-opacity=\"1\" /><path clip-path=\"url(#clip670)\" d=\"M179.214 1517.37 Q175.603 1517.37 173.774 1520.93 Q171.969 1524.47 171.969 1531.6 Q171.969 1538.71 173.774 1542.27 Q175.603 1545.82 179.214 1545.82 Q182.848 1545.82 184.654 1542.27 Q186.482 1538.71 186.482 1531.6 Q186.482 1524.47 184.654 1520.93 Q182.848 1517.37 179.214 1517.37 M179.214 1513.66 Q185.024 1513.66 188.08 1518.27 Q191.158 1522.85 191.158 1531.6 Q191.158 1540.33 188.08 1544.94 Q185.024 1549.52 179.214 1549.52 Q173.404 1549.52 170.325 1544.94 Q167.269 1540.33 167.269 1531.6 Q167.269 1522.85 170.325 1518.27 Q173.404 1513.66 179.214 1513.66 Z\" fill=\"#000000\" fill-rule=\"nonzero\" fill-opacity=\"1\" /><path clip-path=\"url(#clip670)\" d=\"M574.013 1517.37 Q570.402 1517.37 568.573 1520.93 Q566.767 1524.47 566.767 1531.6 Q566.767 1538.71 568.573 1542.27 Q570.402 1545.82 574.013 1545.82 Q577.647 1545.82 579.453 1542.27 Q581.281 1538.71 581.281 1531.6 Q581.281 1524.47 579.453 1520.93 Q577.647 1517.37 574.013 1517.37 M574.013 1513.66 Q579.823 1513.66 582.878 1518.27 Q585.957 1522.85 585.957 1531.6 Q585.957 1540.33 582.878 1544.94 Q579.823 1549.52 574.013 1549.52 Q568.203 1549.52 565.124 1544.94 Q562.068 1540.33 562.068 1531.6 Q562.068 1522.85 565.124 1518.27 Q568.203 1513.66 574.013 1513.66 Z\" fill=\"#000000\" fill-rule=\"nonzero\" fill-opacity=\"1\" /><path clip-path=\"url(#clip670)\" d=\"M594.175 1542.97 L599.059 1542.97 L599.059 1548.85 L594.175 1548.85 L594.175 1542.97 Z\" fill=\"#000000\" fill-rule=\"nonzero\" fill-opacity=\"1\" /><path clip-path=\"url(#clip670)\" d=\"M613.272 1544.91 L629.591 1544.91 L629.591 1548.85 L607.647 1548.85 L607.647 1544.91 Q610.309 1542.16 614.892 1537.53 Q619.499 1532.88 620.679 1531.53 Q622.925 1529.01 623.804 1527.27 Q624.707 1525.51 624.707 1523.82 Q624.707 1521.07 622.762 1519.33 Q620.841 1517.6 617.739 1517.6 Q615.54 1517.6 613.087 1518.36 Q610.656 1519.13 607.878 1520.68 L607.878 1515.95 Q610.702 1514.82 613.156 1514.24 Q615.61 1513.66 617.647 1513.66 Q623.017 1513.66 626.212 1516.35 Q629.406 1519.03 629.406 1523.52 Q629.406 1525.65 628.596 1527.57 Q627.809 1529.47 625.702 1532.07 Q625.124 1532.74 622.022 1535.95 Q618.92 1539.15 613.272 1544.91 Z\" fill=\"#000000\" fill-rule=\"nonzero\" fill-opacity=\"1\" /><path clip-path=\"url(#clip670)\" d=\"M1012.2 1517.37 Q1008.59 1517.37 1006.76 1520.93 Q1004.96 1524.47 1004.96 1531.6 Q1004.96 1538.71 1006.76 1542.27 Q1008.59 1545.82 1012.2 1545.82 Q1015.84 1545.82 1017.64 1542.27 Q1019.47 1538.71 1019.47 1531.6 Q1019.47 1524.47 1017.64 1520.93 Q1015.84 1517.37 1012.2 1517.37 M1012.2 1513.66 Q1018.01 1513.66 1021.07 1518.27 Q1024.15 1522.85 1024.15 1531.6 Q1024.15 1540.33 1021.07 1544.94 Q1018.01 1549.52 1012.2 1549.52 Q1006.39 1549.52 1003.31 1544.94 Q1000.26 1540.33 1000.26 1531.6 Q1000.26 1522.85 1003.31 1518.27 Q1006.39 1513.66 1012.2 1513.66 Z\" fill=\"#000000\" fill-rule=\"nonzero\" fill-opacity=\"1\" /><path clip-path=\"url(#clip670)\" d=\"M1032.36 1542.97 L1037.25 1542.97 L1037.25 1548.85 L1032.36 1548.85 L1032.36 1542.97 Z\" fill=\"#000000\" fill-rule=\"nonzero\" fill-opacity=\"1\" /><path clip-path=\"url(#clip670)\" d=\"M1060.28 1518.36 L1048.48 1536.81 L1060.28 1536.81 L1060.28 1518.36 M1059.05 1514.29 L1064.93 1514.29 L1064.93 1536.81 L1069.86 1536.81 L1069.86 1540.7 L1064.93 1540.7 L1064.93 1548.85 L1060.28 1548.85 L1060.28 1540.7 L1044.68 1540.7 L1044.68 1536.19 L1059.05 1514.29 Z\" fill=\"#000000\" fill-rule=\"nonzero\" fill-opacity=\"1\" /><path clip-path=\"url(#clip670)\" d=\"M1451.6 1517.37 Q1447.99 1517.37 1446.16 1520.93 Q1444.35 1524.47 1444.35 1531.6 Q1444.35 1538.71 1446.16 1542.27 Q1447.99 1545.82 1451.6 1545.82 Q1455.23 1545.82 1457.04 1542.27 Q1458.86 1538.71 1458.86 1531.6 Q1458.86 1524.47 1457.04 1520.93 Q1455.23 1517.37 1451.6 1517.37 M1451.6 1513.66 Q1457.41 1513.66 1460.46 1518.27 Q1463.54 1522.85 1463.54 1531.6 Q1463.54 1540.33 1460.46 1544.94 Q1457.41 1549.52 1451.6 1549.52 Q1445.79 1549.52 1442.71 1544.94 Q1439.65 1540.33 1439.65 1531.6 Q1439.65 1522.85 1442.71 1518.27 Q1445.79 1513.66 1451.6 1513.66 Z\" fill=\"#000000\" fill-rule=\"nonzero\" fill-opacity=\"1\" /><path clip-path=\"url(#clip670)\" d=\"M1471.76 1542.97 L1476.64 1542.97 L1476.64 1548.85 L1471.76 1548.85 L1471.76 1542.97 Z\" fill=\"#000000\" fill-rule=\"nonzero\" fill-opacity=\"1\" /><path clip-path=\"url(#clip670)\" d=\"M1497.41 1529.7 Q1494.26 1529.7 1492.41 1531.86 Q1490.58 1534.01 1490.58 1537.76 Q1490.58 1541.49 1492.41 1543.66 Q1494.26 1545.82 1497.41 1545.82 Q1500.55 1545.82 1502.38 1543.66 Q1504.23 1541.49 1504.23 1537.76 Q1504.23 1534.01 1502.38 1531.86 Q1500.55 1529.7 1497.41 1529.7 M1506.69 1515.05 L1506.69 1519.31 Q1504.93 1518.48 1503.12 1518.04 Q1501.34 1517.6 1499.58 1517.6 Q1494.95 1517.6 1492.5 1520.72 Q1490.07 1523.85 1489.72 1530.17 Q1491.09 1528.15 1493.15 1527.09 Q1495.21 1526 1497.68 1526 Q1502.89 1526 1505.9 1529.17 Q1508.93 1532.32 1508.93 1537.76 Q1508.93 1543.08 1505.79 1546.3 Q1502.64 1549.52 1497.41 1549.52 Q1491.41 1549.52 1488.24 1544.94 Q1485.07 1540.33 1485.07 1531.6 Q1485.07 1523.41 1488.96 1518.55 Q1492.85 1513.66 1499.4 1513.66 Q1501.16 1513.66 1502.94 1514.01 Q1504.74 1514.36 1506.69 1515.05 Z\" fill=\"#000000\" fill-rule=\"nonzero\" fill-opacity=\"1\" /><path clip-path=\"url(#clip670)\" d=\"M1890.96 1517.37 Q1887.34 1517.37 1885.52 1520.93 Q1883.71 1524.47 1883.71 1531.6 Q1883.71 1538.71 1885.52 1542.27 Q1887.34 1545.82 1890.96 1545.82 Q1894.59 1545.82 1896.39 1542.27 Q1898.22 1538.71 1898.22 1531.6 Q1898.22 1524.47 1896.39 1520.93 Q1894.59 1517.37 1890.96 1517.37 M1890.96 1513.66 Q1896.77 1513.66 1899.82 1518.27 Q1902.9 1522.85 1902.9 1531.6 Q1902.9 1540.33 1899.82 1544.94 Q1896.77 1549.52 1890.96 1549.52 Q1885.14 1549.52 1882.07 1544.94 Q1879.01 1540.33 1879.01 1531.6 Q1879.01 1522.85 1882.07 1518.27 Q1885.14 1513.66 1890.96 1513.66 Z\" fill=\"#000000\" fill-rule=\"nonzero\" fill-opacity=\"1\" /><path clip-path=\"url(#clip670)\" d=\"M1911.12 1542.97 L1916 1542.97 L1916 1548.85 L1911.12 1548.85 L1911.12 1542.97 Z\" fill=\"#000000\" fill-rule=\"nonzero\" fill-opacity=\"1\" /><path clip-path=\"url(#clip670)\" d=\"M1936.19 1532.44 Q1932.85 1532.44 1930.93 1534.22 Q1929.03 1536 1929.03 1539.13 Q1929.03 1542.25 1930.93 1544.03 Q1932.85 1545.82 1936.19 1545.82 Q1939.52 1545.82 1941.44 1544.03 Q1943.36 1542.23 1943.36 1539.13 Q1943.36 1536 1941.44 1534.22 Q1939.54 1532.44 1936.19 1532.44 M1931.51 1530.45 Q1928.5 1529.7 1926.81 1527.64 Q1925.14 1525.58 1925.14 1522.62 Q1925.14 1518.48 1928.08 1516.07 Q1931.05 1513.66 1936.19 1513.66 Q1941.35 1513.66 1944.29 1516.07 Q1947.23 1518.48 1947.23 1522.62 Q1947.23 1525.58 1945.54 1527.64 Q1943.87 1529.7 1940.89 1530.45 Q1944.26 1531.23 1946.14 1533.52 Q1948.04 1535.82 1948.04 1539.13 Q1948.04 1544.15 1944.96 1546.83 Q1941.9 1549.52 1936.19 1549.52 Q1930.47 1549.52 1927.39 1546.83 Q1924.33 1544.15 1924.33 1539.13 Q1924.33 1535.82 1926.23 1533.52 Q1928.13 1531.23 1931.51 1530.45 M1929.8 1523.06 Q1929.8 1525.75 1931.46 1527.25 Q1933.15 1528.76 1936.19 1528.76 Q1939.2 1528.76 1940.89 1527.25 Q1942.6 1525.75 1942.6 1523.06 Q1942.6 1520.38 1940.89 1518.87 Q1939.2 1517.37 1936.19 1517.37 Q1933.15 1517.37 1931.46 1518.87 Q1929.8 1520.38 1929.8 1523.06 Z\" fill=\"#000000\" fill-rule=\"nonzero\" fill-opacity=\"1\" /><path clip-path=\"url(#clip670)\" d=\"M2319.91 1544.91 L2327.55 1544.91 L2327.55 1518.55 L2319.24 1520.21 L2319.24 1515.95 L2327.5 1514.29 L2332.18 1514.29 L2332.18 1544.91 L2339.82 1544.91 L2339.82 1548.85 L2319.91 1548.85 L2319.91 1544.91 Z\" fill=\"#000000\" fill-rule=\"nonzero\" fill-opacity=\"1\" /><path clip-path=\"url(#clip670)\" d=\"M2349.26 1542.97 L2354.14 1542.97 L2354.14 1548.85 L2349.26 1548.85 L2349.26 1542.97 Z\" fill=\"#000000\" fill-rule=\"nonzero\" fill-opacity=\"1\" /><path clip-path=\"url(#clip670)\" d=\"M2374.33 1517.37 Q2370.72 1517.37 2368.89 1520.93 Q2367.08 1524.47 2367.08 1531.6 Q2367.08 1538.71 2368.89 1542.27 Q2370.72 1545.82 2374.33 1545.82 Q2377.96 1545.82 2379.77 1542.27 Q2381.6 1538.71 2381.6 1531.6 Q2381.6 1524.47 2379.77 1520.93 Q2377.96 1517.37 2374.33 1517.37 M2374.33 1513.66 Q2380.14 1513.66 2383.2 1518.27 Q2386.27 1522.85 2386.27 1531.6 Q2386.27 1540.33 2383.2 1544.94 Q2380.14 1549.52 2374.33 1549.52 Q2368.52 1549.52 2365.44 1544.94 Q2362.39 1540.33 2362.39 1531.6 Q2362.39 1522.85 2365.44 1518.27 Q2368.52 1513.66 2374.33 1513.66 Z\" fill=\"#000000\" fill-rule=\"nonzero\" fill-opacity=\"1\" /><polyline clip-path=\"url(#clip672)\" style=\"stroke:#000000; stroke-linecap:round; stroke-linejoin:round; stroke-width:2; stroke-opacity:0.1; fill:none\" points=\"156.598,1486.45 2352.76,1486.45 \"/>\n",
       "<polyline clip-path=\"url(#clip672)\" style=\"stroke:#000000; stroke-linecap:round; stroke-linejoin:round; stroke-width:2; stroke-opacity:0.1; fill:none\" points=\"156.598,1198.61 2352.76,1198.61 \"/>\n",
       "<polyline clip-path=\"url(#clip672)\" style=\"stroke:#000000; stroke-linecap:round; stroke-linejoin:round; stroke-width:2; stroke-opacity:0.1; fill:none\" points=\"156.598,910.766 2352.76,910.766 \"/>\n",
       "<polyline clip-path=\"url(#clip672)\" style=\"stroke:#000000; stroke-linecap:round; stroke-linejoin:round; stroke-width:2; stroke-opacity:0.1; fill:none\" points=\"156.598,622.926 2352.76,622.926 \"/>\n",
       "<polyline clip-path=\"url(#clip672)\" style=\"stroke:#000000; stroke-linecap:round; stroke-linejoin:round; stroke-width:2; stroke-opacity:0.1; fill:none\" points=\"156.598,335.085 2352.76,335.085 \"/>\n",
       "<polyline clip-path=\"url(#clip672)\" style=\"stroke:#000000; stroke-linecap:round; stroke-linejoin:round; stroke-width:2; stroke-opacity:0.1; fill:none\" points=\"156.598,47.2441 2352.76,47.2441 \"/>\n",
       "<polyline clip-path=\"url(#clip670)\" style=\"stroke:#000000; stroke-linecap:round; stroke-linejoin:round; stroke-width:4; stroke-opacity:1; fill:none\" points=\"156.598,1486.45 156.598,47.2441 \"/>\n",
       "<polyline clip-path=\"url(#clip670)\" style=\"stroke:#000000; stroke-linecap:round; stroke-linejoin:round; stroke-width:4; stroke-opacity:1; fill:none\" points=\"156.598,1486.45 175.496,1486.45 \"/>\n",
       "<polyline clip-path=\"url(#clip670)\" style=\"stroke:#000000; stroke-linecap:round; stroke-linejoin:round; stroke-width:4; stroke-opacity:1; fill:none\" points=\"156.598,1198.61 175.496,1198.61 \"/>\n",
       "<polyline clip-path=\"url(#clip670)\" style=\"stroke:#000000; stroke-linecap:round; stroke-linejoin:round; stroke-width:4; stroke-opacity:1; fill:none\" points=\"156.598,910.766 175.496,910.766 \"/>\n",
       "<polyline clip-path=\"url(#clip670)\" style=\"stroke:#000000; stroke-linecap:round; stroke-linejoin:round; stroke-width:4; stroke-opacity:1; fill:none\" points=\"156.598,622.926 175.496,622.926 \"/>\n",
       "<polyline clip-path=\"url(#clip670)\" style=\"stroke:#000000; stroke-linecap:round; stroke-linejoin:round; stroke-width:4; stroke-opacity:1; fill:none\" points=\"156.598,335.085 175.496,335.085 \"/>\n",
       "<polyline clip-path=\"url(#clip670)\" style=\"stroke:#000000; stroke-linecap:round; stroke-linejoin:round; stroke-width:4; stroke-opacity:1; fill:none\" points=\"156.598,47.2441 175.496,47.2441 \"/>\n",
       "<path clip-path=\"url(#clip670)\" d=\"M63.4226 1472.25 Q59.8115 1472.25 57.9828 1475.81 Q56.1773 1479.35 56.1773 1486.48 Q56.1773 1493.59 57.9828 1497.15 Q59.8115 1500.7 63.4226 1500.7 Q67.0569 1500.7 68.8624 1497.15 Q70.6911 1493.59 70.6911 1486.48 Q70.6911 1479.35 68.8624 1475.81 Q67.0569 1472.25 63.4226 1472.25 M63.4226 1468.54 Q69.2328 1468.54 72.2883 1473.15 Q75.367 1477.73 75.367 1486.48 Q75.367 1495.21 72.2883 1499.82 Q69.2328 1504.4 63.4226 1504.4 Q57.6125 1504.4 54.5338 1499.82 Q51.4782 1495.21 51.4782 1486.48 Q51.4782 1477.73 54.5338 1473.15 Q57.6125 1468.54 63.4226 1468.54 Z\" fill=\"#000000\" fill-rule=\"nonzero\" fill-opacity=\"1\" /><path clip-path=\"url(#clip670)\" d=\"M83.5845 1497.85 L88.4688 1497.85 L88.4688 1503.73 L83.5845 1503.73 L83.5845 1497.85 Z\" fill=\"#000000\" fill-rule=\"nonzero\" fill-opacity=\"1\" /><path clip-path=\"url(#clip670)\" d=\"M108.654 1472.25 Q105.043 1472.25 103.214 1475.81 Q101.409 1479.35 101.409 1486.48 Q101.409 1493.59 103.214 1497.15 Q105.043 1500.7 108.654 1500.7 Q112.288 1500.7 114.094 1497.15 Q115.922 1493.59 115.922 1486.48 Q115.922 1479.35 114.094 1475.81 Q112.288 1472.25 108.654 1472.25 M108.654 1468.54 Q114.464 1468.54 117.52 1473.15 Q120.598 1477.73 120.598 1486.48 Q120.598 1495.21 117.52 1499.82 Q114.464 1504.4 108.654 1504.4 Q102.844 1504.4 99.765 1499.82 Q96.7095 1495.21 96.7095 1486.48 Q96.7095 1477.73 99.765 1473.15 Q102.844 1468.54 108.654 1468.54 Z\" fill=\"#000000\" fill-rule=\"nonzero\" fill-opacity=\"1\" /><path clip-path=\"url(#clip670)\" d=\"M65.0198 1184.41 Q61.4087 1184.41 59.58 1187.97 Q57.7745 1191.51 57.7745 1198.64 Q57.7745 1205.75 59.58 1209.31 Q61.4087 1212.85 65.0198 1212.85 Q68.6541 1212.85 70.4596 1209.31 Q72.2883 1205.75 72.2883 1198.64 Q72.2883 1191.51 70.4596 1187.97 Q68.6541 1184.41 65.0198 1184.41 M65.0198 1180.7 Q70.83 1180.7 73.8855 1185.31 Q76.9642 1189.89 76.9642 1198.64 Q76.9642 1207.37 73.8855 1211.98 Q70.83 1216.56 65.0198 1216.56 Q59.2097 1216.56 56.131 1211.98 Q53.0754 1207.37 53.0754 1198.64 Q53.0754 1189.89 56.131 1185.31 Q59.2097 1180.7 65.0198 1180.7 Z\" fill=\"#000000\" fill-rule=\"nonzero\" fill-opacity=\"1\" /><path clip-path=\"url(#clip670)\" d=\"M85.1818 1210.01 L90.066 1210.01 L90.066 1215.89 L85.1818 1215.89 L85.1818 1210.01 Z\" fill=\"#000000\" fill-rule=\"nonzero\" fill-opacity=\"1\" /><path clip-path=\"url(#clip670)\" d=\"M104.279 1211.95 L120.598 1211.95 L120.598 1215.89 L98.6539 1215.89 L98.6539 1211.95 Q101.316 1209.2 105.899 1204.57 Q110.506 1199.91 111.686 1198.57 Q113.932 1196.05 114.811 1194.31 Q115.714 1192.55 115.714 1190.86 Q115.714 1188.11 113.77 1186.37 Q111.848 1184.64 108.746 1184.64 Q106.547 1184.64 104.094 1185.4 Q101.663 1186.17 98.8854 1187.72 L98.8854 1182.99 Q101.709 1181.86 104.163 1181.28 Q106.617 1180.7 108.654 1180.7 Q114.024 1180.7 117.219 1183.39 Q120.413 1186.07 120.413 1190.56 Q120.413 1192.69 119.603 1194.61 Q118.816 1196.51 116.709 1199.1 Q116.131 1199.78 113.029 1202.99 Q109.927 1206.19 104.279 1211.95 Z\" fill=\"#000000\" fill-rule=\"nonzero\" fill-opacity=\"1\" /><path clip-path=\"url(#clip670)\" d=\"M62.9365 896.565 Q59.3254 896.565 57.4967 900.13 Q55.6912 903.671 55.6912 910.801 Q55.6912 917.908 57.4967 921.472 Q59.3254 925.014 62.9365 925.014 Q66.5707 925.014 68.3763 921.472 Q70.205 917.908 70.205 910.801 Q70.205 903.671 68.3763 900.13 Q66.5707 896.565 62.9365 896.565 M62.9365 892.861 Q68.7467 892.861 71.8022 897.468 Q74.8809 902.051 74.8809 910.801 Q74.8809 919.528 71.8022 924.134 Q68.7467 928.718 62.9365 928.718 Q57.1264 928.718 54.0477 924.134 Q50.9921 919.528 50.9921 910.801 Q50.9921 902.051 54.0477 897.468 Q57.1264 892.861 62.9365 892.861 Z\" fill=\"#000000\" fill-rule=\"nonzero\" fill-opacity=\"1\" /><path clip-path=\"url(#clip670)\" d=\"M83.0984 922.167 L87.9827 922.167 L87.9827 928.046 L83.0984 928.046 L83.0984 922.167 Z\" fill=\"#000000\" fill-rule=\"nonzero\" fill-opacity=\"1\" /><path clip-path=\"url(#clip670)\" d=\"M111.015 897.56 L99.2095 916.009 L111.015 916.009 L111.015 897.56 M109.788 893.486 L115.668 893.486 L115.668 916.009 L120.598 916.009 L120.598 919.898 L115.668 919.898 L115.668 928.046 L111.015 928.046 L111.015 919.898 L95.4132 919.898 L95.4132 915.384 L109.788 893.486 Z\" fill=\"#000000\" fill-rule=\"nonzero\" fill-opacity=\"1\" /><path clip-path=\"url(#clip670)\" d=\"M63.2606 608.724 Q59.6495 608.724 57.8208 612.289 Q56.0152 615.831 56.0152 622.96 Q56.0152 630.067 57.8208 633.632 Q59.6495 637.173 63.2606 637.173 Q66.8948 637.173 68.7004 633.632 Q70.5291 630.067 70.5291 622.96 Q70.5291 615.831 68.7004 612.289 Q66.8948 608.724 63.2606 608.724 M63.2606 605.021 Q69.0707 605.021 72.1263 609.627 Q75.205 614.21 75.205 622.96 Q75.205 631.687 72.1263 636.294 Q69.0707 640.877 63.2606 640.877 Q57.4504 640.877 54.3717 636.294 Q51.3162 631.687 51.3162 622.96 Q51.3162 614.21 54.3717 609.627 Q57.4504 605.021 63.2606 605.021 Z\" fill=\"#000000\" fill-rule=\"nonzero\" fill-opacity=\"1\" /><path clip-path=\"url(#clip670)\" d=\"M83.4225 634.326 L88.3067 634.326 L88.3067 640.206 L83.4225 640.206 L83.4225 634.326 Z\" fill=\"#000000\" fill-rule=\"nonzero\" fill-opacity=\"1\" /><path clip-path=\"url(#clip670)\" d=\"M109.071 621.062 Q105.922 621.062 104.071 623.215 Q102.242 625.368 102.242 629.118 Q102.242 632.845 104.071 635.02 Q105.922 637.173 109.071 637.173 Q112.219 637.173 114.047 635.02 Q115.899 632.845 115.899 629.118 Q115.899 625.368 114.047 623.215 Q112.219 621.062 109.071 621.062 M118.353 606.409 L118.353 610.669 Q116.594 609.835 114.788 609.396 Q113.006 608.956 111.246 608.956 Q106.617 608.956 104.163 612.081 Q101.733 615.206 101.385 621.525 Q102.751 619.511 104.811 618.446 Q106.871 617.359 109.348 617.359 Q114.557 617.359 117.566 620.53 Q120.598 623.678 120.598 629.118 Q120.598 634.442 117.45 637.659 Q114.302 640.877 109.071 640.877 Q103.075 640.877 99.9039 636.294 Q96.7326 631.687 96.7326 622.96 Q96.7326 614.766 100.621 609.905 Q104.51 605.021 111.061 605.021 Q112.82 605.021 114.603 605.368 Q116.408 605.715 118.353 606.409 Z\" fill=\"#000000\" fill-rule=\"nonzero\" fill-opacity=\"1\" /><path clip-path=\"url(#clip670)\" d=\"M63.5152 320.884 Q59.9041 320.884 58.0754 324.448 Q56.2699 327.99 56.2699 335.12 Q56.2699 342.226 58.0754 345.791 Q59.9041 349.332 63.5152 349.332 Q67.1494 349.332 68.955 345.791 Q70.7837 342.226 70.7837 335.12 Q70.7837 327.99 68.955 324.448 Q67.1494 320.884 63.5152 320.884 M63.5152 317.18 Q69.3254 317.18 72.3809 321.786 Q75.4596 326.37 75.4596 335.12 Q75.4596 343.846 72.3809 348.453 Q69.3254 353.036 63.5152 353.036 Q57.7051 353.036 54.6264 348.453 Q51.5708 343.846 51.5708 335.12 Q51.5708 326.37 54.6264 321.786 Q57.7051 317.18 63.5152 317.18 Z\" fill=\"#000000\" fill-rule=\"nonzero\" fill-opacity=\"1\" /><path clip-path=\"url(#clip670)\" d=\"M83.6771 346.485 L88.5614 346.485 L88.5614 352.365 L83.6771 352.365 L83.6771 346.485 Z\" fill=\"#000000\" fill-rule=\"nonzero\" fill-opacity=\"1\" /><path clip-path=\"url(#clip670)\" d=\"M108.746 335.953 Q105.413 335.953 103.492 337.735 Q101.594 339.518 101.594 342.643 Q101.594 345.768 103.492 347.55 Q105.413 349.332 108.746 349.332 Q112.08 349.332 114.001 347.55 Q115.922 345.745 115.922 342.643 Q115.922 339.518 114.001 337.735 Q112.103 335.953 108.746 335.953 M104.071 333.962 Q101.061 333.221 99.3715 331.161 Q97.7048 329.101 97.7048 326.138 Q97.7048 321.995 100.645 319.587 Q103.608 317.18 108.746 317.18 Q113.908 317.18 116.848 319.587 Q119.788 321.995 119.788 326.138 Q119.788 329.101 118.098 331.161 Q116.432 333.221 113.445 333.962 Q116.825 334.749 118.7 337.041 Q120.598 339.333 120.598 342.643 Q120.598 347.666 117.52 350.351 Q114.464 353.036 108.746 353.036 Q103.029 353.036 99.9502 350.351 Q96.8947 347.666 96.8947 342.643 Q96.8947 339.333 98.7928 337.041 Q100.691 334.749 104.071 333.962 M102.358 326.578 Q102.358 329.263 104.024 330.768 Q105.714 332.272 108.746 332.272 Q111.756 332.272 113.445 330.768 Q115.158 329.263 115.158 326.578 Q115.158 323.893 113.445 322.388 Q111.756 320.884 108.746 320.884 Q105.714 320.884 104.024 322.388 Q102.358 323.893 102.358 326.578 Z\" fill=\"#000000\" fill-rule=\"nonzero\" fill-opacity=\"1\" /><path clip-path=\"url(#clip670)\" d=\"M54.2328 60.5889 L61.8717 60.5889 L61.8717 34.2233 L53.5616 35.89 L53.5616 31.6308 L61.8254 29.9641 L66.5013 29.9641 L66.5013 60.5889 L74.1402 60.5889 L74.1402 64.5241 L54.2328 64.5241 L54.2328 60.5889 Z\" fill=\"#000000\" fill-rule=\"nonzero\" fill-opacity=\"1\" /><path clip-path=\"url(#clip670)\" d=\"M83.5845 58.6445 L88.4688 58.6445 L88.4688 64.5241 L83.5845 64.5241 L83.5845 58.6445 Z\" fill=\"#000000\" fill-rule=\"nonzero\" fill-opacity=\"1\" /><path clip-path=\"url(#clip670)\" d=\"M108.654 33.0428 Q105.043 33.0428 103.214 36.6076 Q101.409 40.1492 101.409 47.2788 Q101.409 54.3853 103.214 57.9501 Q105.043 61.4917 108.654 61.4917 Q112.288 61.4917 114.094 57.9501 Q115.922 54.3853 115.922 47.2788 Q115.922 40.1492 114.094 36.6076 Q112.288 33.0428 108.654 33.0428 M108.654 29.3391 Q114.464 29.3391 117.52 33.9456 Q120.598 38.5289 120.598 47.2788 Q120.598 56.0056 117.52 60.6121 Q114.464 65.1954 108.654 65.1954 Q102.844 65.1954 99.765 60.6121 Q96.7095 56.0056 96.7095 47.2788 Q96.7095 38.5289 99.765 33.9456 Q102.844 29.3391 108.654 29.3391 Z\" fill=\"#000000\" fill-rule=\"nonzero\" fill-opacity=\"1\" /></svg>\n"
      ]
     },
     "execution_count": 58,
     "metadata": {},
     "output_type": "execute_result"
    }
   ],
   "source": [
    "plot()"
   ]
  },
  {
   "cell_type": "code",
   "execution_count": 42,
   "id": "c50763fb",
   "metadata": {},
   "outputs": [
    {
     "name": "stdout",
     "output_type": "stream",
     "text": [
      "  0.011988 seconds (8.59 k allocations: 3.427 MiB)\n",
      "Best: 8394.0 Average: 8319.2"
     ]
    }
   ],
   "source": [
    "testpipeline(G1test)"
   ]
  },
  {
   "cell_type": "code",
   "execution_count": 24,
   "id": "9659ea92",
   "metadata": {},
   "outputs": [
    {
     "name": "stdout",
     "output_type": "stream",
     "text": [
      "  0.016733 seconds (5.86 k allocations: 4.010 MiB)\n",
      "Best: 252.0 Average: 233.42"
     ]
    }
   ],
   "source": [
    "testpipeline(G11test)"
   ]
  },
  {
   "cell_type": "code",
   "execution_count": 25,
   "id": "9889e8cb",
   "metadata": {},
   "outputs": [
    {
     "name": "stdout",
     "output_type": "stream",
     "text": [
      "  0.005478 seconds (6.43 k allocations: 1.528 MiB)\n",
      "Best: 2207.0 Average: 2185.57"
     ]
    }
   ],
   "source": [
    "testpipeline(G14test)"
   ]
  },
  {
   "cell_type": "code",
   "execution_count": 26,
   "id": "7ce455cc",
   "metadata": {},
   "outputs": [
    {
     "name": "stdout",
     "output_type": "stream",
     "text": [
      "  0.058808 seconds (14.76 k allocations: 25.335 MiB)\n",
      "Best: 636.0 Average: 610.72"
     ]
    }
   ],
   "source": [
    "testpipeline(G32test)"
   ]
  },
  {
   "cell_type": "code",
   "execution_count": 27,
   "id": "582c298a",
   "metadata": {},
   "outputs": [
    {
     "name": "stdout",
     "output_type": "stream",
     "text": [
      "  0.042366 seconds (15.91 k allocations: 3.502 MiB)\n",
      "Best: 5670.0 Average: 5634.68"
     ]
    }
   ],
   "source": [
    "testpipeline(G35test)"
   ]
  },
  {
   "cell_type": "code",
   "execution_count": 29,
   "id": "7cdc1374",
   "metadata": {},
   "outputs": [
    {
     "name": "stdout",
     "output_type": "stream",
     "text": [
      "  0.065622 seconds (21.73 k allocations: 36.461 MiB)\n",
      "Best: 388.0 Average: 359.4"
     ]
    }
   ],
   "source": [
    "testpipeline(G48test)"
   ]
  },
  {
   "cell_type": "code",
   "execution_count": 30,
   "id": "a9239b56",
   "metadata": {},
   "outputs": [
    {
     "name": "stdout",
     "output_type": "stream",
     "text": [
      "  0.013226 seconds (8.01 k allocations: 2.056 MiB)\n",
      "Best: 2872.0 Average: 2854.05"
     ]
    }
   ],
   "source": [
    "testpipeline(G51test)"
   ]
  },
  {
   "cell_type": "code",
   "execution_count": 12,
   "id": "308eff96",
   "metadata": {},
   "outputs": [
    {
     "data": {
      "text/plain": [
       "testpipelineparallel (generic function with 1 method)"
      ]
     },
     "execution_count": 12,
     "metadata": {},
     "output_type": "execute_result"
    }
   ],
   "source": [
    "function testpipelineparallel(testinput)\n",
    "    testmat = matrixFromFile(testinput)\n",
    "    sparsetestmat=sparse(testmat)\n",
    "    @time V = Mixing.randparallel(length(sparsetestmat[1,:]), 2, sparsetestmat)\n",
    "    a100 = Mixing.assign100(V, sparsetestmat)\n",
    "    print(\"Best: \",max(a100...), \" Average: \", sum(a100)/100)\n",
    "end"
   ]
  },
  {
   "cell_type": "code",
   "execution_count": 13,
   "id": "000274d5",
   "metadata": {},
   "outputs": [
    {
     "name": "stdout",
     "output_type": "stream",
     "text": [
      "  0.144200 seconds (233.28 k allocations: 52.938 MiB, 44.50% compilation time)\n",
      "Best: 11397.0 Average: 11339.07"
     ]
    }
   ],
   "source": [
    "testpipelineparallel(G1test)"
   ]
  },
  {
   "cell_type": "code",
   "execution_count": 14,
   "id": "6900e76a",
   "metadata": {},
   "outputs": [
    {
     "name": "stdout",
     "output_type": "stream",
     "text": [
      "  0.008713 seconds (95.23 k allocations: 6.863 MiB)\n",
      "Best: 498.0 Average: 485.9"
     ]
    }
   ],
   "source": [
    "testpipelineparallel(G11test)"
   ]
  },
  {
   "cell_type": "code",
   "execution_count": 15,
   "id": "a919183c",
   "metadata": {},
   "outputs": [
    {
     "name": "stdout",
     "output_type": "stream",
     "text": [
      "  0.042019 seconds (108.52 k allocations: 11.732 MiB)\n",
      "Best: 3001.0 Average: 2978.04"
     ]
    }
   ],
   "source": [
    "testpipelineparallel(G14test)"
   ]
  },
  {
   "cell_type": "code",
   "execution_count": 16,
   "id": "ae637726",
   "metadata": {},
   "outputs": [
    {
     "name": "stdout",
     "output_type": "stream",
     "text": [
      "  0.043710 seconds (238.03 k allocations: 17.153 MiB)\n",
      "Best: 1244.0 Average: 1225.2"
     ]
    }
   ],
   "source": [
    "testpipelineparallel(G32test)"
   ]
  },
  {
   "cell_type": "code",
   "execution_count": 17,
   "id": "44c23b98",
   "metadata": {},
   "outputs": [
    {
     "name": "stdout",
     "output_type": "stream",
     "text": [
      "  0.245711 seconds (270.12 k allocations: 29.747 MiB)\n",
      "Best: 7445.0 Average: 7414.22"
     ]
    }
   ],
   "source": [
    "testpipelineparallel(G35test)"
   ]
  },
  {
   "cell_type": "code",
   "execution_count": 18,
   "id": "80431b38",
   "metadata": {},
   "outputs": [
    {
     "name": "stdout",
     "output_type": "stream",
     "text": [
      "  0.099234 seconds (357.04 k allocations: 25.729 MiB)\n",
      "Best: 5842.0 Average: 5720.38"
     ]
    }
   ],
   "source": [
    "testpipelineparallel(G48test)"
   ]
  },
  {
   "cell_type": "code",
   "execution_count": 19,
   "id": "4a4f94f9",
   "metadata": {},
   "outputs": [
    {
     "name": "stdout",
     "output_type": "stream",
     "text": [
      "  0.065890 seconds (135.18 k allocations: 14.570 MiB)\n",
      "Best: 3731.0 Average: 3717.91"
     ]
    }
   ],
   "source": [
    "testpipelineparallel(G51test)"
   ]
  },
  {
   "cell_type": "code",
   "execution_count": null,
   "id": "c956c1c5",
   "metadata": {},
   "outputs": [],
   "source": []
  }
 ],
 "metadata": {
  "@webio": {
   "lastCommId": null,
   "lastKernelId": null
  },
  "kernelspec": {
   "display_name": "Julia 4 Threads 1.8.5",
   "language": "julia",
   "name": "julia-4-threads-1.8"
  },
  "language_info": {
   "file_extension": ".jl",
   "mimetype": "application/julia",
   "name": "julia",
   "version": "1.8.5"
  }
 },
 "nbformat": 4,
 "nbformat_minor": 5
}
