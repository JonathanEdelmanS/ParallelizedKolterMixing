{
 "cells": [
  {
   "cell_type": "code",
   "execution_count": 109,
   "id": "9db39ba9",
   "metadata": {},
   "outputs": [
    {
     "name": "stderr",
     "output_type": "stream",
     "text": [
      "WARNING: replacing module Mixing.\n"
     ]
    },
    {
     "data": {
      "text/plain": [
       "Main.Mixing"
      ]
     },
     "execution_count": 109,
     "metadata": {},
     "output_type": "execute_result"
    }
   ],
   "source": [
    "using DataFrames, CSV, SparseArrays, LinearAlgebra\n",
    "include(\"../Code/Mixing/Mixing.jl\")\n"
   ]
  },
  {
   "cell_type": "code",
   "execution_count": 75,
   "id": "80ecf1b4",
   "metadata": {},
   "outputs": [],
   "source": [
    "G1test = CSV.read(\"../Fortran implementation/circut_v1.0612/tests/G1\"\n",
    ", header=0, DataFrame);\n",
    "G11test = CSV.read(\"../Fortran implementation/circut_v1.0612/tests/G11\"\n",
    ", header=0, DataFrame);\n",
    "G14test = CSV.read(\"../Fortran implementation/circut_v1.0612/tests/G14\"\n",
    ", header=0, DataFrame);\n",
    "G32test = CSV.read(\"../Fortran implementation/circut_v1.0612/tests/G32\"\n",
    ", header=0, DataFrame);\n",
    "G35test = CSV.read(\"../Fortran implementation/circut_v1.0612/tests/G35\"\n",
    ", header=0, DataFrame);\n",
    "G48test = CSV.read(\"../Fortran implementation/circut_v1.0612/tests/G48\"\n",
    ", header=0, DataFrame);\n",
    "G51test = CSV.read(\"../Fortran implementation/circut_v1.0612/tests/G51\"\n",
    ", header=0, DataFrame);"
   ]
  },
  {
   "cell_type": "code",
   "execution_count": 5,
   "id": "8b12328c",
   "metadata": {},
   "outputs": [
    {
     "data": {
      "text/plain": [
       "matrixFromFile (generic function with 1 method)"
      ]
     },
     "execution_count": 5,
     "metadata": {},
     "output_type": "execute_result"
    }
   ],
   "source": [
    "function matrixFromFile(readfile)\n",
    "    M = zeros(readfile[1,1], readfile[1,1])\n",
    "    for i in 2:nrow(readfile)\n",
    "        M[readfile[i,1], readfile[i,2]] = readfile[i,3]\n",
    "        M[readfile[i,2], readfile[i,1]] = readfile[i,3]\n",
    "    end\n",
    "    return M\n",
    "end"
   ]
  },
  {
   "cell_type": "code",
   "execution_count": 135,
   "id": "f2fd478f",
   "metadata": {},
   "outputs": [
    {
     "data": {
      "text/plain": [
       "testpipeline (generic function with 1 method)"
      ]
     },
     "execution_count": 135,
     "metadata": {},
     "output_type": "execute_result"
    }
   ],
   "source": [
    "function testpipeline(testinput)\n",
    "    testmat = matrixFromFile(testinput)\n",
    "    sparsetestmat=sparse(testmat)\n",
    "    @time V = Mixing.randserial(length(sparsetestmat[1,:]), 2, sparsetestmat)\n",
    "    a100 = Mixing.assign100(V, sparsetestmat)\n",
    "    print(\"Best: \",max(a100...), \" Average: \", sum(a100)/100)\n",
    "end"
   ]
  },
  {
   "cell_type": "code",
   "execution_count": 136,
   "id": "c50763fb",
   "metadata": {},
   "outputs": [
    {
     "name": "stdout",
     "output_type": "stream",
     "text": [
      "  0.221506 seconds (145.59 k allocations: 48.477 MiB)\n",
      "Best: 11359.0 Average: 11318.43"
     ]
    }
   ],
   "source": [
    "testpipeline(G1test)"
   ]
  },
  {
   "cell_type": "code",
   "execution_count": 137,
   "id": "9659ea92",
   "metadata": {},
   "outputs": [
    {
     "name": "stdout",
     "output_type": "stream",
     "text": [
      "  0.031495 seconds (95.21 k allocations: 6.861 MiB)\n",
      "Best: 510.0 Average: 486.9"
     ]
    }
   ],
   "source": [
    "testpipeline(G11test)"
   ]
  },
  {
   "cell_type": "code",
   "execution_count": 138,
   "id": "9889e8cb",
   "metadata": {},
   "outputs": [
    {
     "name": "stdout",
     "output_type": "stream",
     "text": [
      "  0.135506 seconds (108.74 k allocations: 11.830 MiB)\n",
      "Best: 2992.0 Average: 2971.37"
     ]
    }
   ],
   "source": [
    "testpipeline(G14test)"
   ]
  },
  {
   "cell_type": "code",
   "execution_count": 139,
   "id": "7ce455cc",
   "metadata": {},
   "outputs": [
    {
     "name": "stdout",
     "output_type": "stream",
     "text": [
      "  0.140402 seconds (238.01 k allocations: 17.151 MiB)\n",
      "Best: 1254.0 Average: 1237.16"
     ]
    }
   ],
   "source": [
    "testpipeline(G32test)"
   ]
  },
  {
   "cell_type": "code",
   "execution_count": 140,
   "id": "582c298a",
   "metadata": {},
   "outputs": [
    {
     "name": "stdout",
     "output_type": "stream",
     "text": [
      "  0.842534 seconds (269.93 k allocations: 29.754 MiB)\n",
      "Best: 7437.0 Average: 7412.59"
     ]
    }
   ],
   "source": [
    "testpipeline(G35test)"
   ]
  },
  {
   "cell_type": "code",
   "execution_count": 141,
   "id": "7cdc1374",
   "metadata": {},
   "outputs": [
    {
     "name": "stdout",
     "output_type": "stream",
     "text": [
      "  0.322142 seconds (357.01 k allocations: 25.727 MiB, 3.29% gc time)\n",
      "Best: 5932.0 Average: 5808.74"
     ]
    }
   ],
   "source": [
    "testpipeline(G48test)"
   ]
  },
  {
   "cell_type": "code",
   "execution_count": 142,
   "id": "a9239b56",
   "metadata": {},
   "outputs": [
    {
     "name": "stdout",
     "output_type": "stream",
     "text": [
      "  0.213994 seconds (135.03 k allocations: 14.573 MiB)\n",
      "Best: 3730.0 Average: 3709.42"
     ]
    }
   ],
   "source": [
    "testpipeline(G51test)"
   ]
  },
  {
   "cell_type": "code",
   "execution_count": null,
   "id": "308eff96",
   "metadata": {},
   "outputs": [],
   "source": []
  }
 ],
 "metadata": {
  "@webio": {
   "lastCommId": null,
   "lastKernelId": null
  },
  "kernelspec": {
   "display_name": "Julia 4 Threads 1.8.5",
   "language": "julia",
   "name": "julia-4-threads-1.8"
  },
  "language_info": {
   "file_extension": ".jl",
   "mimetype": "application/julia",
   "name": "julia",
   "version": "1.8.5"
  }
 },
 "nbformat": 4,
 "nbformat_minor": 5
}
