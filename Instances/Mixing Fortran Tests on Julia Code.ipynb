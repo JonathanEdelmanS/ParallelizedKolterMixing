{
 "cells": [
  {
   "cell_type": "code",
   "execution_count": 32,
   "id": "9db39ba9",
   "metadata": {},
   "outputs": [
    {
     "data": {
      "text/plain": [
       "Main.Mixing"
      ]
     },
     "execution_count": 32,
     "metadata": {},
     "output_type": "execute_result"
    }
   ],
   "source": [
    "using DataFrames, CSV, SparseArrays\n",
    "include(\"../Code/Mixing/Mixing.jl\")\n"
   ]
  },
  {
   "cell_type": "code",
   "execution_count": 33,
   "id": "80ecf1b4",
   "metadata": {},
   "outputs": [],
   "source": [
    "G11test = CSV.read(\"../Fortran implementation/circut_v1.0612/tests/G11\"\n",
    ", header=0, DataFrame);"
   ]
  },
  {
   "cell_type": "code",
   "execution_count": 37,
   "id": "8b12328c",
   "metadata": {},
   "outputs": [
    {
     "data": {
      "text/plain": [
       "matrixFromFile (generic function with 1 method)"
      ]
     },
     "execution_count": 37,
     "metadata": {},
     "output_type": "execute_result"
    }
   ],
   "source": [
    "function matrixFromFile(readfile)\n",
    "    M = zeros(readfile[1,1], readfile[1,1])\n",
    "    for i in 2:nrow(G11test)\n",
    "        M[readfile[i,1], readfile[i,2]] = readfile[i,3]\n",
    "    end\n",
    "    return M\n",
    "end"
   ]
  },
  {
   "cell_type": "code",
   "execution_count": 42,
   "id": "1ca7fbe4",
   "metadata": {},
   "outputs": [
    {
     "data": {
      "text/plain": [
       "800"
      ]
     },
     "execution_count": 42,
     "metadata": {},
     "output_type": "execute_result"
    }
   ],
   "source": [
    "length(matrixFromFile(G11test)[1,:])"
   ]
  },
  {
   "cell_type": "code",
   "execution_count": null,
   "id": "1b31fed3",
   "metadata": {},
   "outputs": [],
   "source": [
    "Mixing.JuMPspeedn(length(matrixFromFile(G11test)[1,:]),matrixFromFile(G11test))"
   ]
  },
  {
   "cell_type": "code",
   "execution_count": null,
   "id": "891cdd89",
   "metadata": {},
   "outputs": [],
   "source": []
  }
 ],
 "metadata": {
  "kernelspec": {
   "display_name": "Julia 4 Threads 1.8.5",
   "language": "julia",
   "name": "julia-4-threads-1.8"
  },
  "language_info": {
   "file_extension": ".jl",
   "mimetype": "application/julia",
   "name": "julia",
   "version": "1.8.5"
  }
 },
 "nbformat": 4,
 "nbformat_minor": 5
}
