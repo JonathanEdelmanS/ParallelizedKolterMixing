{
 "cells": [
  {
   "cell_type": "code",
   "execution_count": 49,
   "id": "ffcfc907",
   "metadata": {},
   "outputs": [
    {
     "name": "stderr",
     "output_type": "stream",
     "text": [
      "WARNING: replacing module Mixing.\n"
     ]
    },
    {
     "ename": "LoadError",
     "evalue": "ArgumentError: Package Mixing not found in current path, maybe you meant `import/using .Mixing`.\n- Otherwise, run `import Pkg; Pkg.add(\"Mixing\")` to install the Mixing package.",
     "output_type": "error",
     "traceback": [
      "ArgumentError: Package Mixing not found in current path, maybe you meant `import/using .Mixing`.\n- Otherwise, run `import Pkg; Pkg.add(\"Mixing\")` to install the Mixing package.",
      "",
      "Stacktrace:",
      " [1] macro expansion",
      "   @ ./loading.jl:1163 [inlined]",
      " [2] macro expansion",
      "   @ ./lock.jl:223 [inlined]",
      " [3] require(into::Module, mod::Symbol)",
      "   @ Base ./loading.jl:1144"
     ]
    }
   ],
   "source": [
    "include(\"../Code/Mixing/Mixing.jl\")\n",
    "using Mixing\n"
   ]
  },
  {
   "cell_type": "code",
   "execution_count": 20,
   "id": "509fb61a",
   "metadata": {},
   "outputs": [
    {
     "data": {
      "text/plain": [
       "\"/Users/j/Documents/GitHub/ParallelizedKolterMixing/Instances\""
      ]
     },
     "execution_count": 20,
     "metadata": {},
     "output_type": "execute_result"
    }
   ],
   "source": [
    "pwd()"
   ]
  },
  {
   "cell_type": "code",
   "execution_count": 23,
   "id": "285188a2",
   "metadata": {},
   "outputs": [
    {
     "ename": "LoadError",
     "evalue": "UndefVarError: JuMPspeed not defined",
     "output_type": "error",
     "traceback": [
      "UndefVarError: JuMPspeed not defined",
      "",
      "Stacktrace:",
      " [1] top-level scope",
      "   @ In[23]:1"
     ]
    }
   ],
   "source": [
    "JuMPspeed()"
   ]
  },
  {
   "cell_type": "code",
   "execution_count": 30,
   "id": "4048f44f",
   "metadata": {},
   "outputs": [],
   "source": [
    "a"
   ]
  },
  {
   "cell_type": "code",
   "execution_count": 35,
   "id": "149ed012",
   "metadata": {},
   "outputs": [
    {
     "ename": "LoadError",
     "evalue": "UndefVarError: Mixing not defined",
     "output_type": "error",
     "traceback": [
      "UndefVarError: Mixing not defined",
      ""
     ]
    }
   ],
   "source": [
    "Mixing"
   ]
  },
  {
   "cell_type": "code",
   "execution_count": 42,
   "id": "5b63b3e8",
   "metadata": {},
   "outputs": [
    {
     "data": {
      "text/plain": [
       "randserial (generic function with 2 methods)"
      ]
     },
     "execution_count": 42,
     "metadata": {},
     "output_type": "execute_result"
    }
   ],
   "source": [
    "randserial"
   ]
  },
  {
   "cell_type": "code",
   "execution_count": null,
   "id": "73a4defe",
   "metadata": {},
   "outputs": [],
   "source": []
  },
  {
   "cell_type": "code",
   "execution_count": 47,
   "id": "a8440d83",
   "metadata": {},
   "outputs": [
    {
     "data": {
      "text/plain": [
       "randparallel (generic function with 2 methods)"
      ]
     },
     "execution_count": 47,
     "metadata": {},
     "output_type": "execute_result"
    }
   ],
   "source": [
    "Mixing.randparallel"
   ]
  },
  {
   "cell_type": "code",
   "execution_count": 21,
   "id": "46bdcf58",
   "metadata": {},
   "outputs": [
    {
     "data": {
      "text/plain": [
       "\"/Users/j/Documents/GitHub/ParallelizedKolterMixing/Instances\""
      ]
     },
     "execution_count": 21,
     "metadata": {},
     "output_type": "execute_result"
    }
   ],
   "source": [
    "pwd()"
   ]
  }
 ],
 "metadata": {
  "kernelspec": {
   "display_name": "Julia 4 Threads 1.8.5",
   "language": "julia",
   "name": "julia-4-threads-1.8"
  },
  "language_info": {
   "file_extension": ".jl",
   "mimetype": "application/julia",
   "name": "julia",
   "version": "1.8.5"
  }
 },
 "nbformat": 4,
 "nbformat_minor": 5
}
